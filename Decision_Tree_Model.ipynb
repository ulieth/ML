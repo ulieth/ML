{
  "nbformat": 4,
  "nbformat_minor": 0,
  "metadata": {
    "colab": {
      "provenance": []
    },
    "kernelspec": {
      "name": "python3",
      "display_name": "Python 3"
    },
    "language_info": {
      "name": "python"
    }
  },
  "cells": [
    {
      "cell_type": "code",
      "execution_count": null,
      "metadata": {
        "id": "sCBpesy85F3y"
      },
      "outputs": [],
      "source": [
        "import pandas as pd\n",
        "import matplotlib\n",
        "import numpy as np\n",
        "import matplotlib.pyplot as plt\n",
        "%matplotlib inline"
      ]
    },
    {
      "cell_type": "code",
      "source": [
        "link = 'https://courses.openedu.ru/assets/courseware/v1/f2906818eda8fcfc8f8416557ab1e6df/asset-v1:ITMOUniversity+DATANTECH2035+fall_2022_2+type@asset+block/diabetes.csv'\n",
        "df = pd.read_csv(link)"
      ],
      "metadata": {
        "id": "H6kwA6Mt7w6f"
      },
      "execution_count": null,
      "outputs": []
    },
    {
      "cell_type": "code",
      "source": [
        "df.head()"
      ],
      "metadata": {
        "colab": {
          "base_uri": "https://localhost:8080/",
          "height": 206
        },
        "id": "9OkohRGt74bJ",
        "outputId": "0eac06ff-fe9b-47a9-ef79-69edce0eee97"
      },
      "execution_count": null,
      "outputs": [
        {
          "output_type": "execute_result",
          "data": {
            "text/plain": [
              "   Pregnancies  Glucose  BloodPressure  SkinThickness  Insulin   BMI  \\\n",
              "0            6      148             72             35        0  33.6   \n",
              "1            1       85             66             29        0  26.6   \n",
              "2            8      183             64              0        0  23.3   \n",
              "3            1       89             66             23       94  28.1   \n",
              "4            0      137             40             35      168  43.1   \n",
              "\n",
              "   DiabetesPedigreeFunction  Age  Outcome  \n",
              "0                     0.627   50        1  \n",
              "1                     0.351   31        0  \n",
              "2                     0.672   32        1  \n",
              "3                     0.167   21        0  \n",
              "4                     2.288   33        1  "
            ],
            "text/html": [
              "\n",
              "  <div id=\"df-447844ae-3971-4b34-9a2d-ac67a6a7976f\" class=\"colab-df-container\">\n",
              "    <div>\n",
              "<style scoped>\n",
              "    .dataframe tbody tr th:only-of-type {\n",
              "        vertical-align: middle;\n",
              "    }\n",
              "\n",
              "    .dataframe tbody tr th {\n",
              "        vertical-align: top;\n",
              "    }\n",
              "\n",
              "    .dataframe thead th {\n",
              "        text-align: right;\n",
              "    }\n",
              "</style>\n",
              "<table border=\"1\" class=\"dataframe\">\n",
              "  <thead>\n",
              "    <tr style=\"text-align: right;\">\n",
              "      <th></th>\n",
              "      <th>Pregnancies</th>\n",
              "      <th>Glucose</th>\n",
              "      <th>BloodPressure</th>\n",
              "      <th>SkinThickness</th>\n",
              "      <th>Insulin</th>\n",
              "      <th>BMI</th>\n",
              "      <th>DiabetesPedigreeFunction</th>\n",
              "      <th>Age</th>\n",
              "      <th>Outcome</th>\n",
              "    </tr>\n",
              "  </thead>\n",
              "  <tbody>\n",
              "    <tr>\n",
              "      <th>0</th>\n",
              "      <td>6</td>\n",
              "      <td>148</td>\n",
              "      <td>72</td>\n",
              "      <td>35</td>\n",
              "      <td>0</td>\n",
              "      <td>33.6</td>\n",
              "      <td>0.627</td>\n",
              "      <td>50</td>\n",
              "      <td>1</td>\n",
              "    </tr>\n",
              "    <tr>\n",
              "      <th>1</th>\n",
              "      <td>1</td>\n",
              "      <td>85</td>\n",
              "      <td>66</td>\n",
              "      <td>29</td>\n",
              "      <td>0</td>\n",
              "      <td>26.6</td>\n",
              "      <td>0.351</td>\n",
              "      <td>31</td>\n",
              "      <td>0</td>\n",
              "    </tr>\n",
              "    <tr>\n",
              "      <th>2</th>\n",
              "      <td>8</td>\n",
              "      <td>183</td>\n",
              "      <td>64</td>\n",
              "      <td>0</td>\n",
              "      <td>0</td>\n",
              "      <td>23.3</td>\n",
              "      <td>0.672</td>\n",
              "      <td>32</td>\n",
              "      <td>1</td>\n",
              "    </tr>\n",
              "    <tr>\n",
              "      <th>3</th>\n",
              "      <td>1</td>\n",
              "      <td>89</td>\n",
              "      <td>66</td>\n",
              "      <td>23</td>\n",
              "      <td>94</td>\n",
              "      <td>28.1</td>\n",
              "      <td>0.167</td>\n",
              "      <td>21</td>\n",
              "      <td>0</td>\n",
              "    </tr>\n",
              "    <tr>\n",
              "      <th>4</th>\n",
              "      <td>0</td>\n",
              "      <td>137</td>\n",
              "      <td>40</td>\n",
              "      <td>35</td>\n",
              "      <td>168</td>\n",
              "      <td>43.1</td>\n",
              "      <td>2.288</td>\n",
              "      <td>33</td>\n",
              "      <td>1</td>\n",
              "    </tr>\n",
              "  </tbody>\n",
              "</table>\n",
              "</div>\n",
              "    <div class=\"colab-df-buttons\">\n",
              "\n",
              "  <div class=\"colab-df-container\">\n",
              "    <button class=\"colab-df-convert\" onclick=\"convertToInteractive('df-447844ae-3971-4b34-9a2d-ac67a6a7976f')\"\n",
              "            title=\"Convert this dataframe to an interactive table.\"\n",
              "            style=\"display:none;\">\n",
              "\n",
              "  <svg xmlns=\"http://www.w3.org/2000/svg\" height=\"24px\" viewBox=\"0 -960 960 960\">\n",
              "    <path d=\"M120-120v-720h720v720H120Zm60-500h600v-160H180v160Zm220 220h160v-160H400v160Zm0 220h160v-160H400v160ZM180-400h160v-160H180v160Zm440 0h160v-160H620v160ZM180-180h160v-160H180v160Zm440 0h160v-160H620v160Z\"/>\n",
              "  </svg>\n",
              "    </button>\n",
              "\n",
              "  <style>\n",
              "    .colab-df-container {\n",
              "      display:flex;\n",
              "      gap: 12px;\n",
              "    }\n",
              "\n",
              "    .colab-df-convert {\n",
              "      background-color: #E8F0FE;\n",
              "      border: none;\n",
              "      border-radius: 50%;\n",
              "      cursor: pointer;\n",
              "      display: none;\n",
              "      fill: #1967D2;\n",
              "      height: 32px;\n",
              "      padding: 0 0 0 0;\n",
              "      width: 32px;\n",
              "    }\n",
              "\n",
              "    .colab-df-convert:hover {\n",
              "      background-color: #E2EBFA;\n",
              "      box-shadow: 0px 1px 2px rgba(60, 64, 67, 0.3), 0px 1px 3px 1px rgba(60, 64, 67, 0.15);\n",
              "      fill: #174EA6;\n",
              "    }\n",
              "\n",
              "    .colab-df-buttons div {\n",
              "      margin-bottom: 4px;\n",
              "    }\n",
              "\n",
              "    [theme=dark] .colab-df-convert {\n",
              "      background-color: #3B4455;\n",
              "      fill: #D2E3FC;\n",
              "    }\n",
              "\n",
              "    [theme=dark] .colab-df-convert:hover {\n",
              "      background-color: #434B5C;\n",
              "      box-shadow: 0px 1px 3px 1px rgba(0, 0, 0, 0.15);\n",
              "      filter: drop-shadow(0px 1px 2px rgba(0, 0, 0, 0.3));\n",
              "      fill: #FFFFFF;\n",
              "    }\n",
              "  </style>\n",
              "\n",
              "    <script>\n",
              "      const buttonEl =\n",
              "        document.querySelector('#df-447844ae-3971-4b34-9a2d-ac67a6a7976f button.colab-df-convert');\n",
              "      buttonEl.style.display =\n",
              "        google.colab.kernel.accessAllowed ? 'block' : 'none';\n",
              "\n",
              "      async function convertToInteractive(key) {\n",
              "        const element = document.querySelector('#df-447844ae-3971-4b34-9a2d-ac67a6a7976f');\n",
              "        const dataTable =\n",
              "          await google.colab.kernel.invokeFunction('convertToInteractive',\n",
              "                                                    [key], {});\n",
              "        if (!dataTable) return;\n",
              "\n",
              "        const docLinkHtml = 'Like what you see? Visit the ' +\n",
              "          '<a target=\"_blank\" href=https://colab.research.google.com/notebooks/data_table.ipynb>data table notebook</a>'\n",
              "          + ' to learn more about interactive tables.';\n",
              "        element.innerHTML = '';\n",
              "        dataTable['output_type'] = 'display_data';\n",
              "        await google.colab.output.renderOutput(dataTable, element);\n",
              "        const docLink = document.createElement('div');\n",
              "        docLink.innerHTML = docLinkHtml;\n",
              "        element.appendChild(docLink);\n",
              "      }\n",
              "    </script>\n",
              "  </div>\n",
              "\n",
              "\n",
              "<div id=\"df-1b6f99b3-452c-49a1-a4a0-302af05ae2aa\">\n",
              "  <button class=\"colab-df-quickchart\" onclick=\"quickchart('df-1b6f99b3-452c-49a1-a4a0-302af05ae2aa')\"\n",
              "            title=\"Suggest charts\"\n",
              "            style=\"display:none;\">\n",
              "\n",
              "<svg xmlns=\"http://www.w3.org/2000/svg\" height=\"24px\"viewBox=\"0 0 24 24\"\n",
              "     width=\"24px\">\n",
              "    <g>\n",
              "        <path d=\"M19 3H5c-1.1 0-2 .9-2 2v14c0 1.1.9 2 2 2h14c1.1 0 2-.9 2-2V5c0-1.1-.9-2-2-2zM9 17H7v-7h2v7zm4 0h-2V7h2v10zm4 0h-2v-4h2v4z\"/>\n",
              "    </g>\n",
              "</svg>\n",
              "  </button>\n",
              "\n",
              "<style>\n",
              "  .colab-df-quickchart {\n",
              "      --bg-color: #E8F0FE;\n",
              "      --fill-color: #1967D2;\n",
              "      --hover-bg-color: #E2EBFA;\n",
              "      --hover-fill-color: #174EA6;\n",
              "      --disabled-fill-color: #AAA;\n",
              "      --disabled-bg-color: #DDD;\n",
              "  }\n",
              "\n",
              "  [theme=dark] .colab-df-quickchart {\n",
              "      --bg-color: #3B4455;\n",
              "      --fill-color: #D2E3FC;\n",
              "      --hover-bg-color: #434B5C;\n",
              "      --hover-fill-color: #FFFFFF;\n",
              "      --disabled-bg-color: #3B4455;\n",
              "      --disabled-fill-color: #666;\n",
              "  }\n",
              "\n",
              "  .colab-df-quickchart {\n",
              "    background-color: var(--bg-color);\n",
              "    border: none;\n",
              "    border-radius: 50%;\n",
              "    cursor: pointer;\n",
              "    display: none;\n",
              "    fill: var(--fill-color);\n",
              "    height: 32px;\n",
              "    padding: 0;\n",
              "    width: 32px;\n",
              "  }\n",
              "\n",
              "  .colab-df-quickchart:hover {\n",
              "    background-color: var(--hover-bg-color);\n",
              "    box-shadow: 0 1px 2px rgba(60, 64, 67, 0.3), 0 1px 3px 1px rgba(60, 64, 67, 0.15);\n",
              "    fill: var(--button-hover-fill-color);\n",
              "  }\n",
              "\n",
              "  .colab-df-quickchart-complete:disabled,\n",
              "  .colab-df-quickchart-complete:disabled:hover {\n",
              "    background-color: var(--disabled-bg-color);\n",
              "    fill: var(--disabled-fill-color);\n",
              "    box-shadow: none;\n",
              "  }\n",
              "\n",
              "  .colab-df-spinner {\n",
              "    border: 2px solid var(--fill-color);\n",
              "    border-color: transparent;\n",
              "    border-bottom-color: var(--fill-color);\n",
              "    animation:\n",
              "      spin 1s steps(1) infinite;\n",
              "  }\n",
              "\n",
              "  @keyframes spin {\n",
              "    0% {\n",
              "      border-color: transparent;\n",
              "      border-bottom-color: var(--fill-color);\n",
              "      border-left-color: var(--fill-color);\n",
              "    }\n",
              "    20% {\n",
              "      border-color: transparent;\n",
              "      border-left-color: var(--fill-color);\n",
              "      border-top-color: var(--fill-color);\n",
              "    }\n",
              "    30% {\n",
              "      border-color: transparent;\n",
              "      border-left-color: var(--fill-color);\n",
              "      border-top-color: var(--fill-color);\n",
              "      border-right-color: var(--fill-color);\n",
              "    }\n",
              "    40% {\n",
              "      border-color: transparent;\n",
              "      border-right-color: var(--fill-color);\n",
              "      border-top-color: var(--fill-color);\n",
              "    }\n",
              "    60% {\n",
              "      border-color: transparent;\n",
              "      border-right-color: var(--fill-color);\n",
              "    }\n",
              "    80% {\n",
              "      border-color: transparent;\n",
              "      border-right-color: var(--fill-color);\n",
              "      border-bottom-color: var(--fill-color);\n",
              "    }\n",
              "    90% {\n",
              "      border-color: transparent;\n",
              "      border-bottom-color: var(--fill-color);\n",
              "    }\n",
              "  }\n",
              "</style>\n",
              "\n",
              "  <script>\n",
              "    async function quickchart(key) {\n",
              "      const quickchartButtonEl =\n",
              "        document.querySelector('#' + key + ' button');\n",
              "      quickchartButtonEl.disabled = true;  // To prevent multiple clicks.\n",
              "      quickchartButtonEl.classList.add('colab-df-spinner');\n",
              "      try {\n",
              "        const charts = await google.colab.kernel.invokeFunction(\n",
              "            'suggestCharts', [key], {});\n",
              "      } catch (error) {\n",
              "        console.error('Error during call to suggestCharts:', error);\n",
              "      }\n",
              "      quickchartButtonEl.classList.remove('colab-df-spinner');\n",
              "      quickchartButtonEl.classList.add('colab-df-quickchart-complete');\n",
              "    }\n",
              "    (() => {\n",
              "      let quickchartButtonEl =\n",
              "        document.querySelector('#df-1b6f99b3-452c-49a1-a4a0-302af05ae2aa button');\n",
              "      quickchartButtonEl.style.display =\n",
              "        google.colab.kernel.accessAllowed ? 'block' : 'none';\n",
              "    })();\n",
              "  </script>\n",
              "</div>\n",
              "\n",
              "    </div>\n",
              "  </div>\n"
            ],
            "application/vnd.google.colaboratory.intrinsic+json": {
              "type": "dataframe",
              "variable_name": "df",
              "summary": "{\n  \"name\": \"df\",\n  \"rows\": 768,\n  \"fields\": [\n    {\n      \"column\": \"Pregnancies\",\n      \"properties\": {\n        \"dtype\": \"number\",\n        \"std\": 3,\n        \"min\": 0,\n        \"max\": 17,\n        \"num_unique_values\": 17,\n        \"samples\": [\n          6,\n          1,\n          3\n        ],\n        \"semantic_type\": \"\",\n        \"description\": \"\"\n      }\n    },\n    {\n      \"column\": \"Glucose\",\n      \"properties\": {\n        \"dtype\": \"number\",\n        \"std\": 31,\n        \"min\": 0,\n        \"max\": 199,\n        \"num_unique_values\": 136,\n        \"samples\": [\n          151,\n          101,\n          112\n        ],\n        \"semantic_type\": \"\",\n        \"description\": \"\"\n      }\n    },\n    {\n      \"column\": \"BloodPressure\",\n      \"properties\": {\n        \"dtype\": \"number\",\n        \"std\": 19,\n        \"min\": 0,\n        \"max\": 122,\n        \"num_unique_values\": 47,\n        \"samples\": [\n          86,\n          46,\n          85\n        ],\n        \"semantic_type\": \"\",\n        \"description\": \"\"\n      }\n    },\n    {\n      \"column\": \"SkinThickness\",\n      \"properties\": {\n        \"dtype\": \"number\",\n        \"std\": 15,\n        \"min\": 0,\n        \"max\": 99,\n        \"num_unique_values\": 51,\n        \"samples\": [\n          7,\n          12,\n          48\n        ],\n        \"semantic_type\": \"\",\n        \"description\": \"\"\n      }\n    },\n    {\n      \"column\": \"Insulin\",\n      \"properties\": {\n        \"dtype\": \"number\",\n        \"std\": 115,\n        \"min\": 0,\n        \"max\": 846,\n        \"num_unique_values\": 186,\n        \"samples\": [\n          52,\n          41,\n          183\n        ],\n        \"semantic_type\": \"\",\n        \"description\": \"\"\n      }\n    },\n    {\n      \"column\": \"BMI\",\n      \"properties\": {\n        \"dtype\": \"number\",\n        \"std\": 7.8841603203754405,\n        \"min\": 0.0,\n        \"max\": 67.1,\n        \"num_unique_values\": 248,\n        \"samples\": [\n          19.9,\n          31.0,\n          38.1\n        ],\n        \"semantic_type\": \"\",\n        \"description\": \"\"\n      }\n    },\n    {\n      \"column\": \"DiabetesPedigreeFunction\",\n      \"properties\": {\n        \"dtype\": \"number\",\n        \"std\": 0.33132859501277484,\n        \"min\": 0.078,\n        \"max\": 2.42,\n        \"num_unique_values\": 517,\n        \"samples\": [\n          1.731,\n          0.426,\n          0.138\n        ],\n        \"semantic_type\": \"\",\n        \"description\": \"\"\n      }\n    },\n    {\n      \"column\": \"Age\",\n      \"properties\": {\n        \"dtype\": \"number\",\n        \"std\": 11,\n        \"min\": 21,\n        \"max\": 81,\n        \"num_unique_values\": 52,\n        \"samples\": [\n          60,\n          47,\n          72\n        ],\n        \"semantic_type\": \"\",\n        \"description\": \"\"\n      }\n    },\n    {\n      \"column\": \"Outcome\",\n      \"properties\": {\n        \"dtype\": \"number\",\n        \"std\": 0,\n        \"min\": 0,\n        \"max\": 1,\n        \"num_unique_values\": 2,\n        \"samples\": [\n          0,\n          1\n        ],\n        \"semantic_type\": \"\",\n        \"description\": \"\"\n      }\n    }\n  ]\n}"
            }
          },
          "metadata": {},
          "execution_count": 3
        }
      ]
    },
    {
      "cell_type": "code",
      "source": [
        "task_data = df.head(590)"
      ],
      "metadata": {
        "id": "peNw65Bm75ax"
      },
      "execution_count": null,
      "outputs": []
    },
    {
      "cell_type": "code",
      "source": [
        "len(task_data)"
      ],
      "metadata": {
        "colab": {
          "base_uri": "https://localhost:8080/"
        },
        "id": "MOIyJLJK8ncz",
        "outputId": "5607d000-2a6d-4fee-e725-2c93ea734646"
      },
      "execution_count": null,
      "outputs": [
        {
          "output_type": "execute_result",
          "data": {
            "text/plain": [
              "590"
            ]
          },
          "metadata": {},
          "execution_count": 5
        }
      ]
    },
    {
      "cell_type": "code",
      "source": [
        "len(task_data[task_data['Outcome']==0])"
      ],
      "metadata": {
        "colab": {
          "base_uri": "https://localhost:8080/"
        },
        "id": "4p6Q1o1b77jo",
        "outputId": "d12cbfdf-a345-4828-cb60-e0754577e6e2"
      },
      "execution_count": null,
      "outputs": [
        {
          "output_type": "execute_result",
          "data": {
            "text/plain": [
              "386"
            ]
          },
          "metadata": {},
          "execution_count": 6
        }
      ]
    },
    {
      "cell_type": "code",
      "source": [
        "train = task_data.head(int(len(task_data)*0.8))\n",
        "test = task_data.tail(int(len(task_data)*0.2))"
      ],
      "metadata": {
        "id": "KArLtKju8TPC"
      },
      "execution_count": null,
      "outputs": []
    },
    {
      "cell_type": "code",
      "source": [
        "features = list(train.columns[:8])\n",
        "x = train[features]\n",
        "y = train['Outcome']"
      ],
      "metadata": {
        "id": "nrkr39It802Q"
      },
      "execution_count": null,
      "outputs": []
    },
    {
      "cell_type": "code",
      "source": [
        "from sklearn.tree import DecisionTreeClassifier"
      ],
      "metadata": {
        "id": "vF-caWRC85TS"
      },
      "execution_count": null,
      "outputs": []
    },
    {
      "cell_type": "code",
      "source": [
        "tree = DecisionTreeClassifier(criterion='entropy', #splitting criterion\n",
        "                              min_samples_leaf=20, #minimum number of objects in a leaf\n",
        "                              max_leaf_nodes=30, #maximum number of leaves\n",
        "                              random_state=2020)\n",
        "clf=tree.fit(x, y)"
      ],
      "metadata": {
        "id": "U7lXW4K-9CaX"
      },
      "execution_count": null,
      "outputs": []
    },
    {
      "cell_type": "code",
      "source": [
        "from sklearn.tree import export_graphviz\n",
        "import graphviz\n",
        "columns = list(x.columns)\n",
        "export_graphviz(clf, out_file='tree.dot',\n",
        "                feature_names=columns,\n",
        "                class_names=['0', '1'],\n",
        "                rounded = True, proportion = False,\n",
        "                precision = 2, filled = True, label='all')\n",
        "\n",
        "with open('tree.dot') as f:\n",
        "    dot_graph = f.read()\n",
        "\n",
        "graphviz.Source(dot_graph)"
      ],
      "metadata": {
        "colab": {
          "base_uri": "https://localhost:8080/",
          "height": 1000
        },
        "id": "xUxetd509Ccf",
        "outputId": "21f33a20-e1af-44ee-c3bc-e5d941006f72"
      },
      "execution_count": null,
      "outputs": [
        {
          "output_type": "execute_result",
          "data": {
            "image/svg+xml": "<?xml version=\"1.0\" encoding=\"UTF-8\" standalone=\"no\"?>\n<!DOCTYPE svg PUBLIC \"-//W3C//DTD SVG 1.1//EN\"\n \"http://www.w3.org/Graphics/SVG/1.1/DTD/svg11.dtd\">\n<!-- Generated by graphviz version 2.43.0 (0)\n -->\n<!-- Title: Tree Pages: 1 -->\n<svg width=\"1089pt\" height=\"909pt\"\n viewBox=\"0.00 0.00 1089.00 909.00\" xmlns=\"http://www.w3.org/2000/svg\" xmlns:xlink=\"http://www.w3.org/1999/xlink\">\n<g id=\"graph0\" class=\"graph\" transform=\"scale(1 1) rotate(0) translate(4 905)\">\n<title>Tree</title>\n<polygon fill=\"white\" stroke=\"transparent\" points=\"-4,4 -4,-905 1085,-905 1085,4 -4,4\"/>\n<!-- 0 -->\n<g id=\"node1\" class=\"node\">\n<title>0</title>\n<path fill=\"#f4ccaf\" stroke=\"black\" d=\"M549.5,-901C549.5,-901 448.5,-901 448.5,-901 442.5,-901 436.5,-895 436.5,-889 436.5,-889 436.5,-830 436.5,-830 436.5,-824 442.5,-818 448.5,-818 448.5,-818 549.5,-818 549.5,-818 555.5,-818 561.5,-824 561.5,-830 561.5,-830 561.5,-889 561.5,-889 561.5,-895 555.5,-901 549.5,-901\"/>\n<text text-anchor=\"middle\" x=\"499\" y=\"-885.8\" font-family=\"Helvetica,sans-Serif\" font-size=\"14.00\">Glucose &lt;= 154.5</text>\n<text text-anchor=\"middle\" x=\"499\" y=\"-870.8\" font-family=\"Helvetica,sans-Serif\" font-size=\"14.00\">entropy = 0.95</text>\n<text text-anchor=\"middle\" x=\"499\" y=\"-855.8\" font-family=\"Helvetica,sans-Serif\" font-size=\"14.00\">samples = 472</text>\n<text text-anchor=\"middle\" x=\"499\" y=\"-840.8\" font-family=\"Helvetica,sans-Serif\" font-size=\"14.00\">value = [296, 176]</text>\n<text text-anchor=\"middle\" x=\"499\" y=\"-825.8\" font-family=\"Helvetica,sans-Serif\" font-size=\"14.00\">class = 0</text>\n</g>\n<!-- 1 -->\n<g id=\"node2\" class=\"node\">\n<title>1</title>\n<path fill=\"#efb388\" stroke=\"black\" d=\"M454.5,-782C454.5,-782 353.5,-782 353.5,-782 347.5,-782 341.5,-776 341.5,-770 341.5,-770 341.5,-711 341.5,-711 341.5,-705 347.5,-699 353.5,-699 353.5,-699 454.5,-699 454.5,-699 460.5,-699 466.5,-705 466.5,-711 466.5,-711 466.5,-770 466.5,-770 466.5,-776 460.5,-782 454.5,-782\"/>\n<text text-anchor=\"middle\" x=\"404\" y=\"-766.8\" font-family=\"Helvetica,sans-Serif\" font-size=\"14.00\">BMI &lt;= 26.3</text>\n<text text-anchor=\"middle\" x=\"404\" y=\"-751.8\" font-family=\"Helvetica,sans-Serif\" font-size=\"14.00\">entropy = 0.86</text>\n<text text-anchor=\"middle\" x=\"404\" y=\"-736.8\" font-family=\"Helvetica,sans-Serif\" font-size=\"14.00\">samples = 396</text>\n<text text-anchor=\"middle\" x=\"404\" y=\"-721.8\" font-family=\"Helvetica,sans-Serif\" font-size=\"14.00\">value = [283, 113]</text>\n<text text-anchor=\"middle\" x=\"404\" y=\"-706.8\" font-family=\"Helvetica,sans-Serif\" font-size=\"14.00\">class = 0</text>\n</g>\n<!-- 0&#45;&gt;1 -->\n<g id=\"edge1\" class=\"edge\">\n<title>0&#45;&gt;1</title>\n<path fill=\"none\" stroke=\"black\" d=\"M466.04,-817.91C458.75,-808.92 450.94,-799.32 443.42,-790.05\"/>\n<polygon fill=\"black\" stroke=\"black\" points=\"445.92,-787.58 436.9,-782.02 440.49,-791.99 445.92,-787.58\"/>\n<text text-anchor=\"middle\" x=\"434.32\" y=\"-803.19\" font-family=\"Helvetica,sans-Serif\" font-size=\"14.00\">True</text>\n</g>\n<!-- 2 -->\n<g id=\"node29\" class=\"node\">\n<title>2</title>\n<path fill=\"#62b1ea\" stroke=\"black\" d=\"M691,-782C691,-782 497,-782 497,-782 491,-782 485,-776 485,-770 485,-770 485,-711 485,-711 485,-705 491,-699 497,-699 497,-699 691,-699 691,-699 697,-699 703,-705 703,-711 703,-711 703,-770 703,-770 703,-776 697,-782 691,-782\"/>\n<text text-anchor=\"middle\" x=\"594\" y=\"-766.8\" font-family=\"Helvetica,sans-Serif\" font-size=\"14.00\">DiabetesPedigreeFunction &lt;= 0.3</text>\n<text text-anchor=\"middle\" x=\"594\" y=\"-751.8\" font-family=\"Helvetica,sans-Serif\" font-size=\"14.00\">entropy = 0.66</text>\n<text text-anchor=\"middle\" x=\"594\" y=\"-736.8\" font-family=\"Helvetica,sans-Serif\" font-size=\"14.00\">samples = 76</text>\n<text text-anchor=\"middle\" x=\"594\" y=\"-721.8\" font-family=\"Helvetica,sans-Serif\" font-size=\"14.00\">value = [13, 63]</text>\n<text text-anchor=\"middle\" x=\"594\" y=\"-706.8\" font-family=\"Helvetica,sans-Serif\" font-size=\"14.00\">class = 1</text>\n</g>\n<!-- 0&#45;&gt;2 -->\n<g id=\"edge28\" class=\"edge\">\n<title>0&#45;&gt;2</title>\n<path fill=\"none\" stroke=\"black\" d=\"M531.96,-817.91C539.25,-808.92 547.06,-799.32 554.58,-790.05\"/>\n<polygon fill=\"black\" stroke=\"black\" points=\"557.51,-791.99 561.1,-782.02 552.08,-787.58 557.51,-791.99\"/>\n<text text-anchor=\"middle\" x=\"563.68\" y=\"-803.19\" font-family=\"Helvetica,sans-Serif\" font-size=\"14.00\">False</text>\n</g>\n<!-- 3 -->\n<g id=\"node3\" class=\"node\">\n<title>3</title>\n<path fill=\"#e68641\" stroke=\"black\" d=\"M238,-663C238,-663 128,-663 128,-663 122,-663 116,-657 116,-651 116,-651 116,-592 116,-592 116,-586 122,-580 128,-580 128,-580 238,-580 238,-580 244,-580 250,-586 250,-592 250,-592 250,-651 250,-651 250,-657 244,-663 238,-663\"/>\n<text text-anchor=\"middle\" x=\"183\" y=\"-647.8\" font-family=\"Helvetica,sans-Serif\" font-size=\"14.00\">Pregnancies &lt;= 2.5</text>\n<text text-anchor=\"middle\" x=\"183\" y=\"-632.8\" font-family=\"Helvetica,sans-Serif\" font-size=\"14.00\">entropy = 0.25</text>\n<text text-anchor=\"middle\" x=\"183\" y=\"-617.8\" font-family=\"Helvetica,sans-Serif\" font-size=\"14.00\">samples = 98</text>\n<text text-anchor=\"middle\" x=\"183\" y=\"-602.8\" font-family=\"Helvetica,sans-Serif\" font-size=\"14.00\">value = [94.0, 4.0]</text>\n<text text-anchor=\"middle\" x=\"183\" y=\"-587.8\" font-family=\"Helvetica,sans-Serif\" font-size=\"14.00\">class = 0</text>\n</g>\n<!-- 1&#45;&gt;3 -->\n<g id=\"edge2\" class=\"edge\">\n<title>1&#45;&gt;3</title>\n<path fill=\"none\" stroke=\"black\" d=\"M341.26,-706.29C315.69,-692.75 285.9,-676.98 259.11,-662.79\"/>\n<polygon fill=\"black\" stroke=\"black\" points=\"260.62,-659.63 250.15,-658.05 257.35,-665.82 260.62,-659.63\"/>\n</g>\n<!-- 4 -->\n<g id=\"node8\" class=\"node\">\n<title>4</title>\n<path fill=\"#f4caab\" stroke=\"black\" d=\"M480.5,-663C480.5,-663 357.5,-663 357.5,-663 351.5,-663 345.5,-657 345.5,-651 345.5,-651 345.5,-592 345.5,-592 345.5,-586 351.5,-580 357.5,-580 357.5,-580 480.5,-580 480.5,-580 486.5,-580 492.5,-586 492.5,-592 492.5,-592 492.5,-651 492.5,-651 492.5,-657 486.5,-663 480.5,-663\"/>\n<text text-anchor=\"middle\" x=\"419\" y=\"-647.8\" font-family=\"Helvetica,sans-Serif\" font-size=\"14.00\">Glucose &lt;= 99.5</text>\n<text text-anchor=\"middle\" x=\"419\" y=\"-632.8\" font-family=\"Helvetica,sans-Serif\" font-size=\"14.00\">entropy = 0.95</text>\n<text text-anchor=\"middle\" x=\"419\" y=\"-617.8\" font-family=\"Helvetica,sans-Serif\" font-size=\"14.00\">samples = 298</text>\n<text text-anchor=\"middle\" x=\"419\" y=\"-602.8\" font-family=\"Helvetica,sans-Serif\" font-size=\"14.00\">value = [189.0, 109.0]</text>\n<text text-anchor=\"middle\" x=\"419\" y=\"-587.8\" font-family=\"Helvetica,sans-Serif\" font-size=\"14.00\">class = 0</text>\n</g>\n<!-- 1&#45;&gt;4 -->\n<g id=\"edge7\" class=\"edge\">\n<title>1&#45;&gt;4</title>\n<path fill=\"none\" stroke=\"black\" d=\"M409.2,-698.91C410.27,-690.56 411.41,-681.67 412.52,-673.02\"/>\n<polygon fill=\"black\" stroke=\"black\" points=\"416,-673.38 413.81,-663.02 409.06,-672.49 416,-673.38\"/>\n</g>\n<!-- 15 -->\n<g id=\"node4\" class=\"node\">\n<title>15</title>\n<path fill=\"#e58139\" stroke=\"black\" d=\"M90,-536.5C90,-536.5 12,-536.5 12,-536.5 6,-536.5 0,-530.5 0,-524.5 0,-524.5 0,-480.5 0,-480.5 0,-474.5 6,-468.5 12,-468.5 12,-468.5 90,-468.5 90,-468.5 96,-468.5 102,-474.5 102,-480.5 102,-480.5 102,-524.5 102,-524.5 102,-530.5 96,-536.5 90,-536.5\"/>\n<text text-anchor=\"middle\" x=\"51\" y=\"-521.3\" font-family=\"Helvetica,sans-Serif\" font-size=\"14.00\">entropy = 0.0</text>\n<text text-anchor=\"middle\" x=\"51\" y=\"-506.3\" font-family=\"Helvetica,sans-Serif\" font-size=\"14.00\">samples = 57</text>\n<text text-anchor=\"middle\" x=\"51\" y=\"-491.3\" font-family=\"Helvetica,sans-Serif\" font-size=\"14.00\">value = [57, 0]</text>\n<text text-anchor=\"middle\" x=\"51\" y=\"-476.3\" font-family=\"Helvetica,sans-Serif\" font-size=\"14.00\">class = 0</text>\n</g>\n<!-- 3&#45;&gt;15 -->\n<g id=\"edge3\" class=\"edge\">\n<title>3&#45;&gt;15</title>\n<path fill=\"none\" stroke=\"black\" d=\"M137.2,-579.91C123.88,-568.1 109.35,-555.22 96.07,-543.45\"/>\n<polygon fill=\"black\" stroke=\"black\" points=\"98.22,-540.68 88.42,-536.67 93.58,-545.92 98.22,-540.68\"/>\n</g>\n<!-- 16 -->\n<g id=\"node5\" class=\"node\">\n<title>16</title>\n<path fill=\"#e88f4e\" stroke=\"black\" d=\"M233.5,-544C233.5,-544 132.5,-544 132.5,-544 126.5,-544 120.5,-538 120.5,-532 120.5,-532 120.5,-473 120.5,-473 120.5,-467 126.5,-461 132.5,-461 132.5,-461 233.5,-461 233.5,-461 239.5,-461 245.5,-467 245.5,-473 245.5,-473 245.5,-532 245.5,-532 245.5,-538 239.5,-544 233.5,-544\"/>\n<text text-anchor=\"middle\" x=\"183\" y=\"-528.8\" font-family=\"Helvetica,sans-Serif\" font-size=\"14.00\">Glucose &lt;= 112.5</text>\n<text text-anchor=\"middle\" x=\"183\" y=\"-513.8\" font-family=\"Helvetica,sans-Serif\" font-size=\"14.00\">entropy = 0.46</text>\n<text text-anchor=\"middle\" x=\"183\" y=\"-498.8\" font-family=\"Helvetica,sans-Serif\" font-size=\"14.00\">samples = 41</text>\n<text text-anchor=\"middle\" x=\"183\" y=\"-483.8\" font-family=\"Helvetica,sans-Serif\" font-size=\"14.00\">value = [37, 4]</text>\n<text text-anchor=\"middle\" x=\"183\" y=\"-468.8\" font-family=\"Helvetica,sans-Serif\" font-size=\"14.00\">class = 0</text>\n</g>\n<!-- 3&#45;&gt;16 -->\n<g id=\"edge4\" class=\"edge\">\n<title>3&#45;&gt;16</title>\n<path fill=\"none\" stroke=\"black\" d=\"M183,-579.91C183,-571.65 183,-562.86 183,-554.3\"/>\n<polygon fill=\"black\" stroke=\"black\" points=\"186.5,-554.02 183,-544.02 179.5,-554.02 186.5,-554.02\"/>\n</g>\n<!-- 31 -->\n<g id=\"node6\" class=\"node\">\n<title>31</title>\n<path fill=\"#e68743\" stroke=\"black\" d=\"M101,-417.5C101,-417.5 21,-417.5 21,-417.5 15,-417.5 9,-411.5 9,-405.5 9,-405.5 9,-361.5 9,-361.5 9,-355.5 15,-349.5 21,-349.5 21,-349.5 101,-349.5 101,-349.5 107,-349.5 113,-355.5 113,-361.5 113,-361.5 113,-405.5 113,-405.5 113,-411.5 107,-417.5 101,-417.5\"/>\n<text text-anchor=\"middle\" x=\"61\" y=\"-402.3\" font-family=\"Helvetica,sans-Serif\" font-size=\"14.00\">entropy = 0.28</text>\n<text text-anchor=\"middle\" x=\"61\" y=\"-387.3\" font-family=\"Helvetica,sans-Serif\" font-size=\"14.00\">samples = 21</text>\n<text text-anchor=\"middle\" x=\"61\" y=\"-372.3\" font-family=\"Helvetica,sans-Serif\" font-size=\"14.00\">value = [20, 1]</text>\n<text text-anchor=\"middle\" x=\"61\" y=\"-357.3\" font-family=\"Helvetica,sans-Serif\" font-size=\"14.00\">class = 0</text>\n</g>\n<!-- 16&#45;&gt;31 -->\n<g id=\"edge5\" class=\"edge\">\n<title>16&#45;&gt;31</title>\n<path fill=\"none\" stroke=\"black\" d=\"M140.67,-460.91C128.48,-449.21 115.18,-436.46 103,-424.78\"/>\n<polygon fill=\"black\" stroke=\"black\" points=\"105.22,-422.06 95.58,-417.67 100.38,-427.11 105.22,-422.06\"/>\n</g>\n<!-- 32 -->\n<g id=\"node7\" class=\"node\">\n<title>32</title>\n<path fill=\"#ea975c\" stroke=\"black\" d=\"M223,-417.5C223,-417.5 143,-417.5 143,-417.5 137,-417.5 131,-411.5 131,-405.5 131,-405.5 131,-361.5 131,-361.5 131,-355.5 137,-349.5 143,-349.5 143,-349.5 223,-349.5 223,-349.5 229,-349.5 235,-355.5 235,-361.5 235,-361.5 235,-405.5 235,-405.5 235,-411.5 229,-417.5 223,-417.5\"/>\n<text text-anchor=\"middle\" x=\"183\" y=\"-402.3\" font-family=\"Helvetica,sans-Serif\" font-size=\"14.00\">entropy = 0.61</text>\n<text text-anchor=\"middle\" x=\"183\" y=\"-387.3\" font-family=\"Helvetica,sans-Serif\" font-size=\"14.00\">samples = 20</text>\n<text text-anchor=\"middle\" x=\"183\" y=\"-372.3\" font-family=\"Helvetica,sans-Serif\" font-size=\"14.00\">value = [17, 3]</text>\n<text text-anchor=\"middle\" x=\"183\" y=\"-357.3\" font-family=\"Helvetica,sans-Serif\" font-size=\"14.00\">class = 0</text>\n</g>\n<!-- 16&#45;&gt;32 -->\n<g id=\"edge6\" class=\"edge\">\n<title>16&#45;&gt;32</title>\n<path fill=\"none\" stroke=\"black\" d=\"M183,-460.91C183,-450.2 183,-438.62 183,-427.78\"/>\n<polygon fill=\"black\" stroke=\"black\" points=\"186.5,-427.67 183,-417.67 179.5,-427.67 186.5,-427.67\"/>\n</g>\n<!-- 5 -->\n<g id=\"node9\" class=\"node\">\n<title>5</title>\n<path fill=\"#e89254\" stroke=\"black\" d=\"M459,-544C459,-544 379,-544 379,-544 373,-544 367,-538 367,-532 367,-532 367,-473 367,-473 367,-467 373,-461 379,-461 379,-461 459,-461 459,-461 465,-461 471,-467 471,-473 471,-473 471,-532 471,-532 471,-538 465,-544 459,-544\"/>\n<text text-anchor=\"middle\" x=\"419\" y=\"-528.8\" font-family=\"Helvetica,sans-Serif\" font-size=\"14.00\">Age &lt;= 25.5</text>\n<text text-anchor=\"middle\" x=\"419\" y=\"-513.8\" font-family=\"Helvetica,sans-Serif\" font-size=\"14.00\">entropy = 0.52</text>\n<text text-anchor=\"middle\" x=\"419\" y=\"-498.8\" font-family=\"Helvetica,sans-Serif\" font-size=\"14.00\">samples = 76</text>\n<text text-anchor=\"middle\" x=\"419\" y=\"-483.8\" font-family=\"Helvetica,sans-Serif\" font-size=\"14.00\">value = [67, 9]</text>\n<text text-anchor=\"middle\" x=\"419\" y=\"-468.8\" font-family=\"Helvetica,sans-Serif\" font-size=\"14.00\">class = 0</text>\n</g>\n<!-- 4&#45;&gt;5 -->\n<g id=\"edge8\" class=\"edge\">\n<title>4&#45;&gt;5</title>\n<path fill=\"none\" stroke=\"black\" d=\"M419,-579.91C419,-571.65 419,-562.86 419,-554.3\"/>\n<polygon fill=\"black\" stroke=\"black\" points=\"422.5,-554.02 419,-544.02 415.5,-554.02 422.5,-554.02\"/>\n</g>\n<!-- 6 -->\n<g id=\"node14\" class=\"node\">\n<title>6</title>\n<path fill=\"#fae8db\" stroke=\"black\" d=\"M626.5,-544C626.5,-544 503.5,-544 503.5,-544 497.5,-544 491.5,-538 491.5,-532 491.5,-532 491.5,-473 491.5,-473 491.5,-467 497.5,-461 503.5,-461 503.5,-461 626.5,-461 626.5,-461 632.5,-461 638.5,-467 638.5,-473 638.5,-473 638.5,-532 638.5,-532 638.5,-538 632.5,-544 626.5,-544\"/>\n<text text-anchor=\"middle\" x=\"565\" y=\"-528.8\" font-family=\"Helvetica,sans-Serif\" font-size=\"14.00\">Age &lt;= 28.5</text>\n<text text-anchor=\"middle\" x=\"565\" y=\"-513.8\" font-family=\"Helvetica,sans-Serif\" font-size=\"14.00\">entropy = 0.99</text>\n<text text-anchor=\"middle\" x=\"565\" y=\"-498.8\" font-family=\"Helvetica,sans-Serif\" font-size=\"14.00\">samples = 222</text>\n<text text-anchor=\"middle\" x=\"565\" y=\"-483.8\" font-family=\"Helvetica,sans-Serif\" font-size=\"14.00\">value = [122.0, 100.0]</text>\n<text text-anchor=\"middle\" x=\"565\" y=\"-468.8\" font-family=\"Helvetica,sans-Serif\" font-size=\"14.00\">class = 0</text>\n</g>\n<!-- 4&#45;&gt;6 -->\n<g id=\"edge13\" class=\"edge\">\n<title>4&#45;&gt;6</title>\n<path fill=\"none\" stroke=\"black\" d=\"M469.65,-579.91C481.54,-570.38 494.31,-560.15 506.51,-550.37\"/>\n<polygon fill=\"black\" stroke=\"black\" points=\"508.82,-553.01 514.44,-544.02 504.44,-547.54 508.82,-553.01\"/>\n</g>\n<!-- 11 -->\n<g id=\"node10\" class=\"node\">\n<title>11</title>\n<path fill=\"#e6843e\" stroke=\"black\" d=\"M347,-425C347,-425 265,-425 265,-425 259,-425 253,-419 253,-413 253,-413 253,-354 253,-354 253,-348 259,-342 265,-342 265,-342 347,-342 347,-342 353,-342 359,-348 359,-354 359,-354 359,-413 359,-413 359,-419 353,-425 347,-425\"/>\n<text text-anchor=\"middle\" x=\"306\" y=\"-409.8\" font-family=\"Helvetica,sans-Serif\" font-size=\"14.00\">Insulin &lt;= 36.5</text>\n<text text-anchor=\"middle\" x=\"306\" y=\"-394.8\" font-family=\"Helvetica,sans-Serif\" font-size=\"14.00\">entropy = 0.16</text>\n<text text-anchor=\"middle\" x=\"306\" y=\"-379.8\" font-family=\"Helvetica,sans-Serif\" font-size=\"14.00\">samples = 42</text>\n<text text-anchor=\"middle\" x=\"306\" y=\"-364.8\" font-family=\"Helvetica,sans-Serif\" font-size=\"14.00\">value = [41, 1]</text>\n<text text-anchor=\"middle\" x=\"306\" y=\"-349.8\" font-family=\"Helvetica,sans-Serif\" font-size=\"14.00\">class = 0</text>\n</g>\n<!-- 5&#45;&gt;11 -->\n<g id=\"edge9\" class=\"edge\">\n<title>5&#45;&gt;11</title>\n<path fill=\"none\" stroke=\"black\" d=\"M379.8,-460.91C370.94,-451.74 361.46,-441.93 352.35,-432.49\"/>\n<polygon fill=\"black\" stroke=\"black\" points=\"354.6,-429.78 345.14,-425.02 349.57,-434.65 354.6,-429.78\"/>\n</g>\n<!-- 12 -->\n<g id=\"node13\" class=\"node\">\n<title>12</title>\n<path fill=\"#eda876\" stroke=\"black\" d=\"M469,-417.5C469,-417.5 389,-417.5 389,-417.5 383,-417.5 377,-411.5 377,-405.5 377,-405.5 377,-361.5 377,-361.5 377,-355.5 383,-349.5 389,-349.5 389,-349.5 469,-349.5 469,-349.5 475,-349.5 481,-355.5 481,-361.5 481,-361.5 481,-405.5 481,-405.5 481,-411.5 475,-417.5 469,-417.5\"/>\n<text text-anchor=\"middle\" x=\"429\" y=\"-402.3\" font-family=\"Helvetica,sans-Serif\" font-size=\"14.00\">entropy = 0.79</text>\n<text text-anchor=\"middle\" x=\"429\" y=\"-387.3\" font-family=\"Helvetica,sans-Serif\" font-size=\"14.00\">samples = 34</text>\n<text text-anchor=\"middle\" x=\"429\" y=\"-372.3\" font-family=\"Helvetica,sans-Serif\" font-size=\"14.00\">value = [26, 8]</text>\n<text text-anchor=\"middle\" x=\"429\" y=\"-357.3\" font-family=\"Helvetica,sans-Serif\" font-size=\"14.00\">class = 0</text>\n</g>\n<!-- 5&#45;&gt;12 -->\n<g id=\"edge12\" class=\"edge\">\n<title>5&#45;&gt;12</title>\n<path fill=\"none\" stroke=\"black\" d=\"M422.47,-460.91C423.38,-450.2 424.37,-438.62 425.3,-427.78\"/>\n<polygon fill=\"black\" stroke=\"black\" points=\"428.8,-427.93 426.17,-417.67 421.83,-427.33 428.8,-427.93\"/>\n</g>\n<!-- 29 -->\n<g id=\"node11\" class=\"node\">\n<title>29</title>\n<path fill=\"#e68843\" stroke=\"black\" d=\"M233,-298.5C233,-298.5 153,-298.5 153,-298.5 147,-298.5 141,-292.5 141,-286.5 141,-286.5 141,-242.5 141,-242.5 141,-236.5 147,-230.5 153,-230.5 153,-230.5 233,-230.5 233,-230.5 239,-230.5 245,-236.5 245,-242.5 245,-242.5 245,-286.5 245,-286.5 245,-292.5 239,-298.5 233,-298.5\"/>\n<text text-anchor=\"middle\" x=\"193\" y=\"-283.3\" font-family=\"Helvetica,sans-Serif\" font-size=\"14.00\">entropy = 0.29</text>\n<text text-anchor=\"middle\" x=\"193\" y=\"-268.3\" font-family=\"Helvetica,sans-Serif\" font-size=\"14.00\">samples = 20</text>\n<text text-anchor=\"middle\" x=\"193\" y=\"-253.3\" font-family=\"Helvetica,sans-Serif\" font-size=\"14.00\">value = [19, 1]</text>\n<text text-anchor=\"middle\" x=\"193\" y=\"-238.3\" font-family=\"Helvetica,sans-Serif\" font-size=\"14.00\">class = 0</text>\n</g>\n<!-- 11&#45;&gt;29 -->\n<g id=\"edge10\" class=\"edge\">\n<title>11&#45;&gt;29</title>\n<path fill=\"none\" stroke=\"black\" d=\"M266.8,-341.91C255.61,-330.32 243.41,-317.7 232.22,-306.11\"/>\n<polygon fill=\"black\" stroke=\"black\" points=\"234.5,-303.43 225.03,-298.67 229.46,-308.29 234.5,-303.43\"/>\n</g>\n<!-- 30 -->\n<g id=\"node12\" class=\"node\">\n<title>30</title>\n<path fill=\"#e58139\" stroke=\"black\" d=\"M353,-298.5C353,-298.5 275,-298.5 275,-298.5 269,-298.5 263,-292.5 263,-286.5 263,-286.5 263,-242.5 263,-242.5 263,-236.5 269,-230.5 275,-230.5 275,-230.5 353,-230.5 353,-230.5 359,-230.5 365,-236.5 365,-242.5 365,-242.5 365,-286.5 365,-286.5 365,-292.5 359,-298.5 353,-298.5\"/>\n<text text-anchor=\"middle\" x=\"314\" y=\"-283.3\" font-family=\"Helvetica,sans-Serif\" font-size=\"14.00\">entropy = 0.0</text>\n<text text-anchor=\"middle\" x=\"314\" y=\"-268.3\" font-family=\"Helvetica,sans-Serif\" font-size=\"14.00\">samples = 22</text>\n<text text-anchor=\"middle\" x=\"314\" y=\"-253.3\" font-family=\"Helvetica,sans-Serif\" font-size=\"14.00\">value = [22, 0]</text>\n<text text-anchor=\"middle\" x=\"314\" y=\"-238.3\" font-family=\"Helvetica,sans-Serif\" font-size=\"14.00\">class = 0</text>\n</g>\n<!-- 11&#45;&gt;30 -->\n<g id=\"edge11\" class=\"edge\">\n<title>11&#45;&gt;30</title>\n<path fill=\"none\" stroke=\"black\" d=\"M308.78,-341.91C309.51,-331.2 310.3,-319.62 311.04,-308.78\"/>\n<polygon fill=\"black\" stroke=\"black\" points=\"314.54,-308.88 311.73,-298.67 307.56,-308.4 314.54,-308.88\"/>\n</g>\n<!-- 7 -->\n<g id=\"node15\" class=\"node\">\n<title>7</title>\n<path fill=\"#f1b991\" stroke=\"black\" d=\"M619,-425C619,-425 511,-425 511,-425 505,-425 499,-419 499,-413 499,-413 499,-354 499,-354 499,-348 505,-342 511,-342 511,-342 619,-342 619,-342 625,-342 631,-348 631,-354 631,-354 631,-413 631,-413 631,-419 625,-425 619,-425\"/>\n<text text-anchor=\"middle\" x=\"565\" y=\"-409.8\" font-family=\"Helvetica,sans-Serif\" font-size=\"14.00\">Glucose &lt;= 127.5</text>\n<text text-anchor=\"middle\" x=\"565\" y=\"-394.8\" font-family=\"Helvetica,sans-Serif\" font-size=\"14.00\">entropy = 0.89</text>\n<text text-anchor=\"middle\" x=\"565\" y=\"-379.8\" font-family=\"Helvetica,sans-Serif\" font-size=\"14.00\">samples = 88</text>\n<text text-anchor=\"middle\" x=\"565\" y=\"-364.8\" font-family=\"Helvetica,sans-Serif\" font-size=\"14.00\">value = [61.0, 27.0]</text>\n<text text-anchor=\"middle\" x=\"565\" y=\"-349.8\" font-family=\"Helvetica,sans-Serif\" font-size=\"14.00\">class = 0</text>\n</g>\n<!-- 6&#45;&gt;7 -->\n<g id=\"edge14\" class=\"edge\">\n<title>6&#45;&gt;7</title>\n<path fill=\"none\" stroke=\"black\" d=\"M565,-460.91C565,-452.65 565,-443.86 565,-435.3\"/>\n<polygon fill=\"black\" stroke=\"black\" points=\"568.5,-435.02 565,-425.02 561.5,-435.02 568.5,-435.02\"/>\n</g>\n<!-- 8 -->\n<g id=\"node20\" class=\"node\">\n<title>8</title>\n<path fill=\"#deeffb\" stroke=\"black\" d=\"M863,-425C863,-425 661,-425 661,-425 655,-425 649,-419 649,-413 649,-413 649,-354 649,-354 649,-348 655,-342 661,-342 661,-342 863,-342 863,-342 869,-342 875,-348 875,-354 875,-354 875,-413 875,-413 875,-419 869,-425 863,-425\"/>\n<text text-anchor=\"middle\" x=\"762\" y=\"-409.8\" font-family=\"Helvetica,sans-Serif\" font-size=\"14.00\">DiabetesPedigreeFunction &lt;= 0.51</text>\n<text text-anchor=\"middle\" x=\"762\" y=\"-394.8\" font-family=\"Helvetica,sans-Serif\" font-size=\"14.00\">entropy = 0.99</text>\n<text text-anchor=\"middle\" x=\"762\" y=\"-379.8\" font-family=\"Helvetica,sans-Serif\" font-size=\"14.00\">samples = 134</text>\n<text text-anchor=\"middle\" x=\"762\" y=\"-364.8\" font-family=\"Helvetica,sans-Serif\" font-size=\"14.00\">value = [61, 73]</text>\n<text text-anchor=\"middle\" x=\"762\" y=\"-349.8\" font-family=\"Helvetica,sans-Serif\" font-size=\"14.00\">class = 1</text>\n</g>\n<!-- 6&#45;&gt;8 -->\n<g id=\"edge19\" class=\"edge\">\n<title>6&#45;&gt;8</title>\n<path fill=\"none\" stroke=\"black\" d=\"M633.35,-460.91C650,-451.02 667.93,-440.37 684.96,-430.25\"/>\n<polygon fill=\"black\" stroke=\"black\" points=\"686.96,-433.14 693.77,-425.02 683.39,-427.12 686.96,-433.14\"/>\n</g>\n<!-- 17 -->\n<g id=\"node16\" class=\"node\">\n<title>17</title>\n<path fill=\"#eca26d\" stroke=\"black\" d=\"M541,-306C541,-306 411,-306 411,-306 405,-306 399,-300 399,-294 399,-294 399,-235 399,-235 399,-229 405,-223 411,-223 411,-223 541,-223 541,-223 547,-223 553,-229 553,-235 553,-235 553,-294 553,-294 553,-300 547,-306 541,-306\"/>\n<text text-anchor=\"middle\" x=\"476\" y=\"-290.8\" font-family=\"Helvetica,sans-Serif\" font-size=\"14.00\">SkinThickness &lt;= 29.5</text>\n<text text-anchor=\"middle\" x=\"476\" y=\"-275.8\" font-family=\"Helvetica,sans-Serif\" font-size=\"14.00\">entropy = 0.74</text>\n<text text-anchor=\"middle\" x=\"476\" y=\"-260.8\" font-family=\"Helvetica,sans-Serif\" font-size=\"14.00\">samples = 53</text>\n<text text-anchor=\"middle\" x=\"476\" y=\"-245.8\" font-family=\"Helvetica,sans-Serif\" font-size=\"14.00\">value = [42, 11]</text>\n<text text-anchor=\"middle\" x=\"476\" y=\"-230.8\" font-family=\"Helvetica,sans-Serif\" font-size=\"14.00\">class = 0</text>\n</g>\n<!-- 7&#45;&gt;17 -->\n<g id=\"edge15\" class=\"edge\">\n<title>7&#45;&gt;17</title>\n<path fill=\"none\" stroke=\"black\" d=\"M534.12,-341.91C527.29,-332.92 519.98,-323.32 512.93,-314.05\"/>\n<polygon fill=\"black\" stroke=\"black\" points=\"515.66,-311.86 506.82,-306.02 510.09,-316.1 515.66,-311.86\"/>\n</g>\n<!-- 18 -->\n<g id=\"node19\" class=\"node\">\n<title>18</title>\n<path fill=\"#fbebe0\" stroke=\"black\" d=\"M669,-298.5C669,-298.5 583,-298.5 583,-298.5 577,-298.5 571,-292.5 571,-286.5 571,-286.5 571,-242.5 571,-242.5 571,-236.5 577,-230.5 583,-230.5 583,-230.5 669,-230.5 669,-230.5 675,-230.5 681,-236.5 681,-242.5 681,-242.5 681,-286.5 681,-286.5 681,-292.5 675,-298.5 669,-298.5\"/>\n<text text-anchor=\"middle\" x=\"626\" y=\"-283.3\" font-family=\"Helvetica,sans-Serif\" font-size=\"14.00\">entropy = 0.99</text>\n<text text-anchor=\"middle\" x=\"626\" y=\"-268.3\" font-family=\"Helvetica,sans-Serif\" font-size=\"14.00\">samples = 35</text>\n<text text-anchor=\"middle\" x=\"626\" y=\"-253.3\" font-family=\"Helvetica,sans-Serif\" font-size=\"14.00\">value = [19, 16]</text>\n<text text-anchor=\"middle\" x=\"626\" y=\"-238.3\" font-family=\"Helvetica,sans-Serif\" font-size=\"14.00\">class = 0</text>\n</g>\n<!-- 7&#45;&gt;18 -->\n<g id=\"edge18\" class=\"edge\">\n<title>7&#45;&gt;18</title>\n<path fill=\"none\" stroke=\"black\" d=\"M586.16,-341.91C591.92,-330.87 598.16,-318.9 603.96,-307.77\"/>\n<polygon fill=\"black\" stroke=\"black\" points=\"607.19,-309.15 608.71,-298.67 600.98,-305.92 607.19,-309.15\"/>\n</g>\n<!-- 27 -->\n<g id=\"node17\" class=\"node\">\n<title>27</title>\n<path fill=\"#e89153\" stroke=\"black\" d=\"M396,-179.5C396,-179.5 316,-179.5 316,-179.5 310,-179.5 304,-173.5 304,-167.5 304,-167.5 304,-123.5 304,-123.5 304,-117.5 310,-111.5 316,-111.5 316,-111.5 396,-111.5 396,-111.5 402,-111.5 408,-117.5 408,-123.5 408,-123.5 408,-167.5 408,-167.5 408,-173.5 402,-179.5 396,-179.5\"/>\n<text text-anchor=\"middle\" x=\"356\" y=\"-164.3\" font-family=\"Helvetica,sans-Serif\" font-size=\"14.00\">entropy = 0.52</text>\n<text text-anchor=\"middle\" x=\"356\" y=\"-149.3\" font-family=\"Helvetica,sans-Serif\" font-size=\"14.00\">samples = 26</text>\n<text text-anchor=\"middle\" x=\"356\" y=\"-134.3\" font-family=\"Helvetica,sans-Serif\" font-size=\"14.00\">value = [23, 3]</text>\n<text text-anchor=\"middle\" x=\"356\" y=\"-119.3\" font-family=\"Helvetica,sans-Serif\" font-size=\"14.00\">class = 0</text>\n</g>\n<!-- 17&#45;&gt;27 -->\n<g id=\"edge16\" class=\"edge\">\n<title>17&#45;&gt;27</title>\n<path fill=\"none\" stroke=\"black\" d=\"M434.37,-222.91C422.37,-211.21 409.29,-198.46 397.31,-186.78\"/>\n<polygon fill=\"black\" stroke=\"black\" points=\"399.62,-184.14 390.02,-179.67 394.73,-189.15 399.62,-184.14\"/>\n</g>\n<!-- 28 -->\n<g id=\"node18\" class=\"node\">\n<title>28</title>\n<path fill=\"#f0b68c\" stroke=\"black\" d=\"M518,-179.5C518,-179.5 438,-179.5 438,-179.5 432,-179.5 426,-173.5 426,-167.5 426,-167.5 426,-123.5 426,-123.5 426,-117.5 432,-111.5 438,-111.5 438,-111.5 518,-111.5 518,-111.5 524,-111.5 530,-117.5 530,-123.5 530,-123.5 530,-167.5 530,-167.5 530,-173.5 524,-179.5 518,-179.5\"/>\n<text text-anchor=\"middle\" x=\"478\" y=\"-164.3\" font-family=\"Helvetica,sans-Serif\" font-size=\"14.00\">entropy = 0.88</text>\n<text text-anchor=\"middle\" x=\"478\" y=\"-149.3\" font-family=\"Helvetica,sans-Serif\" font-size=\"14.00\">samples = 27</text>\n<text text-anchor=\"middle\" x=\"478\" y=\"-134.3\" font-family=\"Helvetica,sans-Serif\" font-size=\"14.00\">value = [19, 8]</text>\n<text text-anchor=\"middle\" x=\"478\" y=\"-119.3\" font-family=\"Helvetica,sans-Serif\" font-size=\"14.00\">class = 0</text>\n</g>\n<!-- 17&#45;&gt;28 -->\n<g id=\"edge17\" class=\"edge\">\n<title>17&#45;&gt;28</title>\n<path fill=\"none\" stroke=\"black\" d=\"M476.69,-222.91C476.88,-212.2 477.07,-200.62 477.26,-189.78\"/>\n<polygon fill=\"black\" stroke=\"black\" points=\"480.76,-189.73 477.43,-179.67 473.76,-189.61 480.76,-189.73\"/>\n</g>\n<!-- 19 -->\n<g id=\"node21\" class=\"node\">\n<title>19</title>\n<path fill=\"#fbede3\" stroke=\"black\" d=\"M801,-306C801,-306 715,-306 715,-306 709,-306 703,-300 703,-294 703,-294 703,-235 703,-235 703,-229 709,-223 715,-223 715,-223 801,-223 801,-223 807,-223 813,-229 813,-235 813,-235 813,-294 813,-294 813,-300 807,-306 801,-306\"/>\n<text text-anchor=\"middle\" x=\"758\" y=\"-290.8\" font-family=\"Helvetica,sans-Serif\" font-size=\"14.00\">BMI &lt;= 31.15</text>\n<text text-anchor=\"middle\" x=\"758\" y=\"-275.8\" font-family=\"Helvetica,sans-Serif\" font-size=\"14.00\">entropy = 1.0</text>\n<text text-anchor=\"middle\" x=\"758\" y=\"-260.8\" font-family=\"Helvetica,sans-Serif\" font-size=\"14.00\">samples = 80</text>\n<text text-anchor=\"middle\" x=\"758\" y=\"-245.8\" font-family=\"Helvetica,sans-Serif\" font-size=\"14.00\">value = [43, 37]</text>\n<text text-anchor=\"middle\" x=\"758\" y=\"-230.8\" font-family=\"Helvetica,sans-Serif\" font-size=\"14.00\">class = 0</text>\n</g>\n<!-- 8&#45;&gt;19 -->\n<g id=\"edge20\" class=\"edge\">\n<title>8&#45;&gt;19</title>\n<path fill=\"none\" stroke=\"black\" d=\"M760.61,-341.91C760.33,-333.56 760.02,-324.67 759.73,-316.02\"/>\n<polygon fill=\"black\" stroke=\"black\" points=\"763.23,-315.9 759.39,-306.02 756.23,-316.13 763.23,-315.9\"/>\n</g>\n<!-- 20 -->\n<g id=\"node26\" class=\"node\">\n<title>20</title>\n<path fill=\"#9ccef2\" stroke=\"black\" d=\"M973,-306C973,-306 843,-306 843,-306 837,-306 831,-300 831,-294 831,-294 831,-235 831,-235 831,-229 837,-223 843,-223 843,-223 973,-223 973,-223 979,-223 985,-229 985,-235 985,-235 985,-294 985,-294 985,-300 979,-306 973,-306\"/>\n<text text-anchor=\"middle\" x=\"908\" y=\"-290.8\" font-family=\"Helvetica,sans-Serif\" font-size=\"14.00\">SkinThickness &lt;= 21.0</text>\n<text text-anchor=\"middle\" x=\"908\" y=\"-275.8\" font-family=\"Helvetica,sans-Serif\" font-size=\"14.00\">entropy = 0.92</text>\n<text text-anchor=\"middle\" x=\"908\" y=\"-260.8\" font-family=\"Helvetica,sans-Serif\" font-size=\"14.00\">samples = 54</text>\n<text text-anchor=\"middle\" x=\"908\" y=\"-245.8\" font-family=\"Helvetica,sans-Serif\" font-size=\"14.00\">value = [18, 36]</text>\n<text text-anchor=\"middle\" x=\"908\" y=\"-230.8\" font-family=\"Helvetica,sans-Serif\" font-size=\"14.00\">class = 1</text>\n</g>\n<!-- 8&#45;&gt;20 -->\n<g id=\"edge25\" class=\"edge\">\n<title>8&#45;&gt;20</title>\n<path fill=\"none\" stroke=\"black\" d=\"M812.65,-341.91C824.54,-332.38 837.31,-322.15 849.51,-312.37\"/>\n<polygon fill=\"black\" stroke=\"black\" points=\"851.82,-315.01 857.44,-306.02 847.44,-309.54 851.82,-315.01\"/>\n</g>\n<!-- 23 -->\n<g id=\"node22\" class=\"node\">\n<title>23</title>\n<path fill=\"#aad5f4\" stroke=\"black\" d=\"M682,-179.5C682,-179.5 602,-179.5 602,-179.5 596,-179.5 590,-173.5 590,-167.5 590,-167.5 590,-123.5 590,-123.5 590,-117.5 596,-111.5 602,-111.5 602,-111.5 682,-111.5 682,-111.5 688,-111.5 694,-117.5 694,-123.5 694,-123.5 694,-167.5 694,-167.5 694,-173.5 688,-179.5 682,-179.5\"/>\n<text text-anchor=\"middle\" x=\"642\" y=\"-164.3\" font-family=\"Helvetica,sans-Serif\" font-size=\"14.00\">entropy = 0.95</text>\n<text text-anchor=\"middle\" x=\"642\" y=\"-149.3\" font-family=\"Helvetica,sans-Serif\" font-size=\"14.00\">samples = 22</text>\n<text text-anchor=\"middle\" x=\"642\" y=\"-134.3\" font-family=\"Helvetica,sans-Serif\" font-size=\"14.00\">value = [8, 14]</text>\n<text text-anchor=\"middle\" x=\"642\" y=\"-119.3\" font-family=\"Helvetica,sans-Serif\" font-size=\"14.00\">class = 1</text>\n</g>\n<!-- 19&#45;&gt;23 -->\n<g id=\"edge21\" class=\"edge\">\n<title>19&#45;&gt;23</title>\n<path fill=\"none\" stroke=\"black\" d=\"M717.75,-222.91C706.16,-211.21 693.51,-198.46 681.94,-186.78\"/>\n<polygon fill=\"black\" stroke=\"black\" points=\"684.41,-184.3 674.88,-179.67 679.44,-189.23 684.41,-184.3\"/>\n</g>\n<!-- 24 -->\n<g id=\"node23\" class=\"node\">\n<title>24</title>\n<path fill=\"#f6d4bb\" stroke=\"black\" d=\"M810,-187C810,-187 724,-187 724,-187 718,-187 712,-181 712,-175 712,-175 712,-116 712,-116 712,-110 718,-104 724,-104 724,-104 810,-104 810,-104 816,-104 822,-110 822,-116 822,-116 822,-175 822,-175 822,-181 816,-187 810,-187\"/>\n<text text-anchor=\"middle\" x=\"767\" y=\"-171.8\" font-family=\"Helvetica,sans-Serif\" font-size=\"14.00\">Age &lt;= 35.5</text>\n<text text-anchor=\"middle\" x=\"767\" y=\"-156.8\" font-family=\"Helvetica,sans-Serif\" font-size=\"14.00\">entropy = 0.97</text>\n<text text-anchor=\"middle\" x=\"767\" y=\"-141.8\" font-family=\"Helvetica,sans-Serif\" font-size=\"14.00\">samples = 58</text>\n<text text-anchor=\"middle\" x=\"767\" y=\"-126.8\" font-family=\"Helvetica,sans-Serif\" font-size=\"14.00\">value = [35, 23]</text>\n<text text-anchor=\"middle\" x=\"767\" y=\"-111.8\" font-family=\"Helvetica,sans-Serif\" font-size=\"14.00\">class = 0</text>\n</g>\n<!-- 19&#45;&gt;24 -->\n<g id=\"edge22\" class=\"edge\">\n<title>19&#45;&gt;24</title>\n<path fill=\"none\" stroke=\"black\" d=\"M761.12,-222.91C761.76,-214.56 762.45,-205.67 763.11,-197.02\"/>\n<polygon fill=\"black\" stroke=\"black\" points=\"766.61,-197.26 763.88,-187.02 759.63,-196.72 766.61,-197.26\"/>\n</g>\n<!-- 25 -->\n<g id=\"node24\" class=\"node\">\n<title>25</title>\n<path fill=\"#eda877\" stroke=\"black\" d=\"M745,-68C745,-68 665,-68 665,-68 659,-68 653,-62 653,-56 653,-56 653,-12 653,-12 653,-6 659,0 665,0 665,0 745,0 745,0 751,0 757,-6 757,-12 757,-12 757,-56 757,-56 757,-62 751,-68 745,-68\"/>\n<text text-anchor=\"middle\" x=\"705\" y=\"-52.8\" font-family=\"Helvetica,sans-Serif\" font-size=\"14.00\">entropy = 0.79</text>\n<text text-anchor=\"middle\" x=\"705\" y=\"-37.8\" font-family=\"Helvetica,sans-Serif\" font-size=\"14.00\">samples = 21</text>\n<text text-anchor=\"middle\" x=\"705\" y=\"-22.8\" font-family=\"Helvetica,sans-Serif\" font-size=\"14.00\">value = [16, 5]</text>\n<text text-anchor=\"middle\" x=\"705\" y=\"-7.8\" font-family=\"Helvetica,sans-Serif\" font-size=\"14.00\">class = 0</text>\n</g>\n<!-- 24&#45;&gt;25 -->\n<g id=\"edge23\" class=\"edge\">\n<title>24&#45;&gt;25</title>\n<path fill=\"none\" stroke=\"black\" d=\"M743.91,-103.73C739.01,-95.06 733.82,-85.9 728.88,-77.18\"/>\n<polygon fill=\"black\" stroke=\"black\" points=\"731.83,-75.28 723.85,-68.3 725.74,-78.73 731.83,-75.28\"/>\n</g>\n<!-- 26 -->\n<g id=\"node25\" class=\"node\">\n<title>26</title>\n<path fill=\"#fef8f5\" stroke=\"black\" d=\"M873,-68C873,-68 787,-68 787,-68 781,-68 775,-62 775,-56 775,-56 775,-12 775,-12 775,-6 781,0 787,0 787,0 873,0 873,0 879,0 885,-6 885,-12 885,-12 885,-56 885,-56 885,-62 879,-68 873,-68\"/>\n<text text-anchor=\"middle\" x=\"830\" y=\"-52.8\" font-family=\"Helvetica,sans-Serif\" font-size=\"14.00\">entropy = 1.0</text>\n<text text-anchor=\"middle\" x=\"830\" y=\"-37.8\" font-family=\"Helvetica,sans-Serif\" font-size=\"14.00\">samples = 37</text>\n<text text-anchor=\"middle\" x=\"830\" y=\"-22.8\" font-family=\"Helvetica,sans-Serif\" font-size=\"14.00\">value = [19, 18]</text>\n<text text-anchor=\"middle\" x=\"830\" y=\"-7.8\" font-family=\"Helvetica,sans-Serif\" font-size=\"14.00\">class = 0</text>\n</g>\n<!-- 24&#45;&gt;26 -->\n<g id=\"edge24\" class=\"edge\">\n<title>24&#45;&gt;26</title>\n<path fill=\"none\" stroke=\"black\" d=\"M790.46,-103.73C795.44,-95.06 800.72,-85.9 805.73,-77.18\"/>\n<polygon fill=\"black\" stroke=\"black\" points=\"808.89,-78.71 810.84,-68.3 802.82,-75.22 808.89,-78.71\"/>\n</g>\n<!-- 21 -->\n<g id=\"node27\" class=\"node\">\n<title>21</title>\n<path fill=\"#fbeade\" stroke=\"black\" d=\"M949,-179.5C949,-179.5 863,-179.5 863,-179.5 857,-179.5 851,-173.5 851,-167.5 851,-167.5 851,-123.5 851,-123.5 851,-117.5 857,-111.5 863,-111.5 863,-111.5 949,-111.5 949,-111.5 955,-111.5 961,-117.5 961,-123.5 961,-123.5 961,-167.5 961,-167.5 961,-173.5 955,-179.5 949,-179.5\"/>\n<text text-anchor=\"middle\" x=\"906\" y=\"-164.3\" font-family=\"Helvetica,sans-Serif\" font-size=\"14.00\">entropy = 0.99</text>\n<text text-anchor=\"middle\" x=\"906\" y=\"-149.3\" font-family=\"Helvetica,sans-Serif\" font-size=\"14.00\">samples = 22</text>\n<text text-anchor=\"middle\" x=\"906\" y=\"-134.3\" font-family=\"Helvetica,sans-Serif\" font-size=\"14.00\">value = [12, 10]</text>\n<text text-anchor=\"middle\" x=\"906\" y=\"-119.3\" font-family=\"Helvetica,sans-Serif\" font-size=\"14.00\">class = 0</text>\n</g>\n<!-- 20&#45;&gt;21 -->\n<g id=\"edge26\" class=\"edge\">\n<title>20&#45;&gt;21</title>\n<path fill=\"none\" stroke=\"black\" d=\"M907.31,-222.91C907.12,-212.2 906.93,-200.62 906.74,-189.78\"/>\n<polygon fill=\"black\" stroke=\"black\" points=\"910.24,-189.61 906.57,-179.67 903.24,-189.73 910.24,-189.61\"/>\n</g>\n<!-- 22 -->\n<g id=\"node28\" class=\"node\">\n<title>22</title>\n<path fill=\"#67b4eb\" stroke=\"black\" d=\"M1069,-179.5C1069,-179.5 991,-179.5 991,-179.5 985,-179.5 979,-173.5 979,-167.5 979,-167.5 979,-123.5 979,-123.5 979,-117.5 985,-111.5 991,-111.5 991,-111.5 1069,-111.5 1069,-111.5 1075,-111.5 1081,-117.5 1081,-123.5 1081,-123.5 1081,-167.5 1081,-167.5 1081,-173.5 1075,-179.5 1069,-179.5\"/>\n<text text-anchor=\"middle\" x=\"1030\" y=\"-164.3\" font-family=\"Helvetica,sans-Serif\" font-size=\"14.00\">entropy = 0.7</text>\n<text text-anchor=\"middle\" x=\"1030\" y=\"-149.3\" font-family=\"Helvetica,sans-Serif\" font-size=\"14.00\">samples = 32</text>\n<text text-anchor=\"middle\" x=\"1030\" y=\"-134.3\" font-family=\"Helvetica,sans-Serif\" font-size=\"14.00\">value = [6, 26]</text>\n<text text-anchor=\"middle\" x=\"1030\" y=\"-119.3\" font-family=\"Helvetica,sans-Serif\" font-size=\"14.00\">class = 1</text>\n</g>\n<!-- 20&#45;&gt;22 -->\n<g id=\"edge27\" class=\"edge\">\n<title>20&#45;&gt;22</title>\n<path fill=\"none\" stroke=\"black\" d=\"M950.33,-222.91C962.52,-211.21 975.82,-198.46 988,-186.78\"/>\n<polygon fill=\"black\" stroke=\"black\" points=\"990.62,-189.11 995.42,-179.67 985.78,-184.06 990.62,-189.11\"/>\n</g>\n<!-- 9 -->\n<g id=\"node30\" class=\"node\">\n<title>9</title>\n<path fill=\"#b8dcf6\" stroke=\"black\" d=\"M630,-655.5C630,-655.5 550,-655.5 550,-655.5 544,-655.5 538,-649.5 538,-643.5 538,-643.5 538,-599.5 538,-599.5 538,-593.5 544,-587.5 550,-587.5 550,-587.5 630,-587.5 630,-587.5 636,-587.5 642,-593.5 642,-599.5 642,-599.5 642,-643.5 642,-643.5 642,-649.5 636,-655.5 630,-655.5\"/>\n<text text-anchor=\"middle\" x=\"590\" y=\"-640.3\" font-family=\"Helvetica,sans-Serif\" font-size=\"14.00\">entropy = 0.97</text>\n<text text-anchor=\"middle\" x=\"590\" y=\"-625.3\" font-family=\"Helvetica,sans-Serif\" font-size=\"14.00\">samples = 23</text>\n<text text-anchor=\"middle\" x=\"590\" y=\"-610.3\" font-family=\"Helvetica,sans-Serif\" font-size=\"14.00\">value = [9, 14]</text>\n<text text-anchor=\"middle\" x=\"590\" y=\"-595.3\" font-family=\"Helvetica,sans-Serif\" font-size=\"14.00\">class = 1</text>\n</g>\n<!-- 2&#45;&gt;9 -->\n<g id=\"edge29\" class=\"edge\">\n<title>2&#45;&gt;9</title>\n<path fill=\"none\" stroke=\"black\" d=\"M592.61,-698.91C592.25,-688.2 591.85,-676.62 591.48,-665.78\"/>\n<polygon fill=\"black\" stroke=\"black\" points=\"594.97,-665.54 591.13,-655.67 587.98,-665.78 594.97,-665.54\"/>\n</g>\n<!-- 10 -->\n<g id=\"node31\" class=\"node\">\n<title>10</title>\n<path fill=\"#49a5e7\" stroke=\"black\" d=\"M761.5,-663C761.5,-663 672.5,-663 672.5,-663 666.5,-663 660.5,-657 660.5,-651 660.5,-651 660.5,-592 660.5,-592 660.5,-586 666.5,-580 672.5,-580 672.5,-580 761.5,-580 761.5,-580 767.5,-580 773.5,-586 773.5,-592 773.5,-592 773.5,-651 773.5,-651 773.5,-657 767.5,-663 761.5,-663\"/>\n<text text-anchor=\"middle\" x=\"717\" y=\"-647.8\" font-family=\"Helvetica,sans-Serif\" font-size=\"14.00\">Insulin &lt;= 177.5</text>\n<text text-anchor=\"middle\" x=\"717\" y=\"-632.8\" font-family=\"Helvetica,sans-Serif\" font-size=\"14.00\">entropy = 0.39</text>\n<text text-anchor=\"middle\" x=\"717\" y=\"-617.8\" font-family=\"Helvetica,sans-Serif\" font-size=\"14.00\">samples = 53</text>\n<text text-anchor=\"middle\" x=\"717\" y=\"-602.8\" font-family=\"Helvetica,sans-Serif\" font-size=\"14.00\">value = [4, 49]</text>\n<text text-anchor=\"middle\" x=\"717\" y=\"-587.8\" font-family=\"Helvetica,sans-Serif\" font-size=\"14.00\">class = 1</text>\n</g>\n<!-- 2&#45;&gt;10 -->\n<g id=\"edge30\" class=\"edge\">\n<title>2&#45;&gt;10</title>\n<path fill=\"none\" stroke=\"black\" d=\"M636.67,-698.91C646.5,-689.56 657.04,-679.54 667.14,-669.93\"/>\n<polygon fill=\"black\" stroke=\"black\" points=\"669.57,-672.45 674.4,-663.02 664.74,-667.38 669.57,-672.45\"/>\n</g>\n<!-- 13 -->\n<g id=\"node32\" class=\"node\">\n<title>13</title>\n<path fill=\"#399de5\" stroke=\"black\" d=\"M754,-536.5C754,-536.5 676,-536.5 676,-536.5 670,-536.5 664,-530.5 664,-524.5 664,-524.5 664,-480.5 664,-480.5 664,-474.5 670,-468.5 676,-468.5 676,-468.5 754,-468.5 754,-468.5 760,-468.5 766,-474.5 766,-480.5 766,-480.5 766,-524.5 766,-524.5 766,-530.5 760,-536.5 754,-536.5\"/>\n<text text-anchor=\"middle\" x=\"715\" y=\"-521.3\" font-family=\"Helvetica,sans-Serif\" font-size=\"14.00\">entropy = 0.0</text>\n<text text-anchor=\"middle\" x=\"715\" y=\"-506.3\" font-family=\"Helvetica,sans-Serif\" font-size=\"14.00\">samples = 33</text>\n<text text-anchor=\"middle\" x=\"715\" y=\"-491.3\" font-family=\"Helvetica,sans-Serif\" font-size=\"14.00\">value = [0, 33]</text>\n<text text-anchor=\"middle\" x=\"715\" y=\"-476.3\" font-family=\"Helvetica,sans-Serif\" font-size=\"14.00\">class = 1</text>\n</g>\n<!-- 10&#45;&gt;13 -->\n<g id=\"edge31\" class=\"edge\">\n<title>10&#45;&gt;13</title>\n<path fill=\"none\" stroke=\"black\" d=\"M716.31,-579.91C716.12,-569.2 715.93,-557.62 715.74,-546.78\"/>\n<polygon fill=\"black\" stroke=\"black\" points=\"719.24,-546.61 715.57,-536.67 712.24,-546.73 719.24,-546.61\"/>\n</g>\n<!-- 14 -->\n<g id=\"node33\" class=\"node\">\n<title>14</title>\n<path fill=\"#6ab6ec\" stroke=\"black\" d=\"M876,-536.5C876,-536.5 796,-536.5 796,-536.5 790,-536.5 784,-530.5 784,-524.5 784,-524.5 784,-480.5 784,-480.5 784,-474.5 790,-468.5 796,-468.5 796,-468.5 876,-468.5 876,-468.5 882,-468.5 888,-474.5 888,-480.5 888,-480.5 888,-524.5 888,-524.5 888,-530.5 882,-536.5 876,-536.5\"/>\n<text text-anchor=\"middle\" x=\"836\" y=\"-521.3\" font-family=\"Helvetica,sans-Serif\" font-size=\"14.00\">entropy = 0.72</text>\n<text text-anchor=\"middle\" x=\"836\" y=\"-506.3\" font-family=\"Helvetica,sans-Serif\" font-size=\"14.00\">samples = 20</text>\n<text text-anchor=\"middle\" x=\"836\" y=\"-491.3\" font-family=\"Helvetica,sans-Serif\" font-size=\"14.00\">value = [4, 16]</text>\n<text text-anchor=\"middle\" x=\"836\" y=\"-476.3\" font-family=\"Helvetica,sans-Serif\" font-size=\"14.00\">class = 1</text>\n</g>\n<!-- 10&#45;&gt;14 -->\n<g id=\"edge32\" class=\"edge\">\n<title>10&#45;&gt;14</title>\n<path fill=\"none\" stroke=\"black\" d=\"M758.29,-579.91C770.18,-568.21 783.15,-555.46 795.03,-543.78\"/>\n<polygon fill=\"black\" stroke=\"black\" points=\"797.59,-546.17 802.27,-536.67 792.68,-541.18 797.59,-546.17\"/>\n</g>\n</g>\n</svg>\n",
            "text/plain": [
              "<graphviz.sources.Source at 0x7896ab02b160>"
            ]
          },
          "metadata": {},
          "execution_count": 11
        }
      ]
    },
    {
      "cell_type": "code",
      "source": [
        "clf.tree_.max_depth"
      ],
      "metadata": {
        "colab": {
          "base_uri": "https://localhost:8080/"
        },
        "id": "kc_zYcpy9Cex",
        "outputId": "1d0e9fe4-b254-449d-85f2-3f49a24b0db9"
      },
      "execution_count": null,
      "outputs": [
        {
          "output_type": "execute_result",
          "data": {
            "text/plain": [
              "7"
            ]
          },
          "metadata": {},
          "execution_count": 12
        }
      ]
    },
    {
      "cell_type": "code",
      "source": [
        "features = list(test.columns[:8])\n",
        "x = test[features]\n",
        "y_true = test['Outcome']\n",
        "y_pred = clf.predict(x)\n",
        "y_pred"
      ],
      "metadata": {
        "id": "tCrPTrp_9Cgy",
        "colab": {
          "base_uri": "https://localhost:8080/"
        },
        "outputId": "b57c0ca1-7acc-41b8-9440-a46ee892ee94"
      },
      "execution_count": null,
      "outputs": [
        {
          "output_type": "execute_result",
          "data": {
            "text/plain": [
              "array([0, 1, 0, 1, 1, 0, 0, 1, 1, 0, 0, 0, 0, 0, 0, 1, 0, 1, 0, 0, 0, 0,\n",
              "       0, 1, 0, 0, 1, 1, 0, 0, 0, 0, 0, 0, 1, 0, 0, 0, 0, 0, 0, 0, 0, 1,\n",
              "       1, 0, 0, 0, 0, 0, 0, 0, 0, 0, 0, 0, 0, 0, 0, 0, 0, 0, 0, 0, 1, 0,\n",
              "       0, 1, 1, 0, 0, 0, 0, 1, 1, 0, 1, 1, 0, 0, 1, 0, 0, 0, 0, 1, 0, 0,\n",
              "       0, 1, 0, 0, 0, 0, 0, 0, 0, 0, 0, 0, 0, 0, 0, 0, 0, 0, 1, 1, 0, 0,\n",
              "       1, 0, 1, 0, 0, 0, 1, 0])"
            ]
          },
          "metadata": {},
          "execution_count": 20
        }
      ]
    },
    {
      "cell_type": "code",
      "source": [
        "from sklearn.metrics import accuracy_score\n",
        "accuracy_score(y_true, y_pred)"
      ],
      "metadata": {
        "colab": {
          "base_uri": "https://localhost:8080/"
        },
        "id": "uO5VJlCe9Cit",
        "outputId": "cc5a592e-6aeb-4ae2-ef41-731aca3681dd"
      },
      "execution_count": null,
      "outputs": [
        {
          "output_type": "execute_result",
          "data": {
            "text/plain": [
              "0.7627118644067796"
            ]
          },
          "metadata": {},
          "execution_count": 14
        }
      ]
    },
    {
      "cell_type": "code",
      "source": [
        "from sklearn.metrics import f1_score\n",
        "f1_score(y_true, y_pred, average='macro')"
      ],
      "metadata": {
        "colab": {
          "base_uri": "https://localhost:8080/"
        },
        "id": "49UO4bWk9Ckv",
        "outputId": "68690184-8221-49f6-9fa4-3fa3e4ac0160"
      },
      "execution_count": null,
      "outputs": [
        {
          "output_type": "execute_result",
          "data": {
            "text/plain": [
              "0.6722222222222223"
            ]
          },
          "metadata": {},
          "execution_count": 15
        }
      ]
    },
    {
      "cell_type": "code",
      "source": [
        "df.loc[705, features]"
      ],
      "metadata": {
        "colab": {
          "base_uri": "https://localhost:8080/",
          "height": 335
        },
        "id": "ObZAllNTj9tV",
        "outputId": "a08ea4ff-2f64-47df-881c-f8ced61c7b2f"
      },
      "execution_count": null,
      "outputs": [
        {
          "output_type": "execute_result",
          "data": {
            "text/plain": [
              "Pregnancies                  6.000\n",
              "Glucose                     80.000\n",
              "BloodPressure               80.000\n",
              "SkinThickness               36.000\n",
              "Insulin                      0.000\n",
              "BMI                         39.800\n",
              "DiabetesPedigreeFunction     0.177\n",
              "Age                         28.000\n",
              "Name: 705, dtype: float64"
            ],
            "text/html": [
              "<div>\n",
              "<style scoped>\n",
              "    .dataframe tbody tr th:only-of-type {\n",
              "        vertical-align: middle;\n",
              "    }\n",
              "\n",
              "    .dataframe tbody tr th {\n",
              "        vertical-align: top;\n",
              "    }\n",
              "\n",
              "    .dataframe thead th {\n",
              "        text-align: right;\n",
              "    }\n",
              "</style>\n",
              "<table border=\"1\" class=\"dataframe\">\n",
              "  <thead>\n",
              "    <tr style=\"text-align: right;\">\n",
              "      <th></th>\n",
              "      <th>705</th>\n",
              "    </tr>\n",
              "  </thead>\n",
              "  <tbody>\n",
              "    <tr>\n",
              "      <th>Pregnancies</th>\n",
              "      <td>6.000</td>\n",
              "    </tr>\n",
              "    <tr>\n",
              "      <th>Glucose</th>\n",
              "      <td>80.000</td>\n",
              "    </tr>\n",
              "    <tr>\n",
              "      <th>BloodPressure</th>\n",
              "      <td>80.000</td>\n",
              "    </tr>\n",
              "    <tr>\n",
              "      <th>SkinThickness</th>\n",
              "      <td>36.000</td>\n",
              "    </tr>\n",
              "    <tr>\n",
              "      <th>Insulin</th>\n",
              "      <td>0.000</td>\n",
              "    </tr>\n",
              "    <tr>\n",
              "      <th>BMI</th>\n",
              "      <td>39.800</td>\n",
              "    </tr>\n",
              "    <tr>\n",
              "      <th>DiabetesPedigreeFunction</th>\n",
              "      <td>0.177</td>\n",
              "    </tr>\n",
              "    <tr>\n",
              "      <th>Age</th>\n",
              "      <td>28.000</td>\n",
              "    </tr>\n",
              "  </tbody>\n",
              "</table>\n",
              "</div><br><label><b>dtype:</b> float64</label>"
            ]
          },
          "metadata": {},
          "execution_count": 16
        }
      ]
    },
    {
      "cell_type": "code",
      "source": [
        "X_new = pd.DataFrame([df.loc[729, features].tolist()], columns=features)\n",
        "prediction = clf.predict(X_new)\n",
        "prediction"
      ],
      "metadata": {
        "colab": {
          "base_uri": "https://localhost:8080/"
        },
        "id": "5IWl281Gj9xu",
        "outputId": "45d507df-e448-47ec-a63f-38de17dd7d67"
      },
      "execution_count": null,
      "outputs": [
        {
          "output_type": "execute_result",
          "data": {
            "text/plain": [
              "array([0])"
            ]
          },
          "metadata": {},
          "execution_count": 19
        }
      ]
    }
  ]
}