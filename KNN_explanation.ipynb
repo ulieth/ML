{
  "nbformat": 4,
  "nbformat_minor": 0,
  "metadata": {
    "kernelspec": {
      "display_name": "Python 3.6",
      "language": "python",
      "name": "python36"
    },
    "language_info": {
      "codemirror_mode": {
        "name": "ipython",
        "version": 3
      },
      "file_extension": ".py",
      "mimetype": "text/x-python",
      "name": "python",
      "nbconvert_exporter": "python",
      "pygments_lexer": "ipython3",
      "version": "3.6.6"
    },
    "colab": {
      "provenance": []
    }
  },
  "cells": [
    {
      "cell_type": "markdown",
      "metadata": {
        "collapsed": true,
        "id": "CrDnldd6SbjD"
      },
      "source": [
        "# Задача классификации. Алгоритм KNN"
      ]
    },
    {
      "cell_type": "markdown",
      "metadata": {
        "id": "3lCMnxmUSbjG"
      },
      "source": [
        "### Опросы к лекции"
      ]
    },
    {
      "cell_type": "markdown",
      "metadata": {
        "id": "Ec0cGqFFAK9l"
      },
      "source": [
        "#### Опрос 1\n",
        "Пусть даны две точки $x=\\left(1, 3, -5, 7\\right)$ и $x'=\\left(2, -4, 0, 8\\right)$. Вычислить евклидово расстояние $d_E$ между $x$ и $x'$.\n",
        "Напомним, что евклидово расстояние вычисляется как квадратный корень из суммы квадратов разностей соответствующих координат:\n",
        "$$\n",
        "d_{E}\\left(x, x'\\right)=\\sqrt{\\left(1-2\\right)^{2}+\\left(3-(-4)\\right)^{2}+\\left(-5-0\\right)^{2}+ \\left(7-8\\right)^{2} }\n",
        "$$"
      ]
    },
    {
      "cell_type": "code",
      "metadata": {
        "colab": {
          "base_uri": "https://localhost:8080/"
        },
        "id": "Mo3vtMMvBOc7",
        "outputId": "e1978dfb-533d-4398-df9b-f5fc34ed1318"
      },
      "source": [
        "import numpy as np\n",
        "\n",
        "# Задаем оба вектора как массивы numpy\n",
        "\n",
        "x = np.array([1,3,-5,7])\n",
        "x_prime = np.array([2,-4,0,8])\n",
        "\n",
        "\n",
        "# Функция для нахождения евклидова расстояния\n",
        "def eucl_dist(x,x_prime):\n",
        "  dist = 0\n",
        "  for coord_1, coord_2 in zip(x,x_prime):\n",
        "    dist += (coord_1 - coord_2) ** 2\n",
        "  return dist ** 0.5\n",
        "\n",
        "eucl_dist(x,x_prime)"
      ],
      "execution_count": null,
      "outputs": [
        {
          "output_type": "execute_result",
          "data": {
            "text/plain": [
              "8.717797887081348"
            ]
          },
          "metadata": {},
          "execution_count": 19
        }
      ]
    },
    {
      "cell_type": "code",
      "metadata": {
        "colab": {
          "base_uri": "https://localhost:8080/"
        },
        "id": "0SqgzRvvCiOw",
        "outputId": "607d2d1b-6350-456f-f76a-540a70fe5419"
      },
      "source": [
        "# То же самое, но с помощью библиотеки\n",
        "\n",
        "from scipy.spatial import distance\n",
        "distance.euclidean(x, x_prime)"
      ],
      "execution_count": null,
      "outputs": [
        {
          "output_type": "execute_result",
          "data": {
            "text/plain": [
              "8.717797887081348"
            ]
          },
          "metadata": {},
          "execution_count": 20
        }
      ]
    },
    {
      "cell_type": "markdown",
      "metadata": {
        "id": "VY4SMWVrDHvj"
      },
      "source": [
        "Манхэттенское расстояние вычисляется следующим образом:\n",
        "$$\n",
        "d_{1}\\left(x, x'\\right)=\\left|1-2\\right|+\\left|3-(-4)\\right|+\\left|-5-0\\right|+ \\left|7-8\\right|\n",
        "$$"
      ]
    },
    {
      "cell_type": "code",
      "metadata": {
        "colab": {
          "base_uri": "https://localhost:8080/"
        },
        "id": "iQe3tNZ8DVmI",
        "outputId": "180c24ff-bd7a-408e-9eee-92468bc041a6"
      },
      "source": [
        "# Теперь берем сумму из модулей разностей\n",
        "\n",
        "def manh_dist(x,x_prime):\n",
        "  dist = 0\n",
        "  for coord_1, coord_2 in zip(x,x_prime):\n",
        "    dist += abs(coord_1 - coord_2)\n",
        "  return dist\n",
        "\n",
        "manh_dist(x,x_prime)"
      ],
      "execution_count": null,
      "outputs": [
        {
          "output_type": "execute_result",
          "data": {
            "text/plain": [
              "14"
            ]
          },
          "metadata": {},
          "execution_count": 21
        }
      ]
    },
    {
      "cell_type": "code",
      "metadata": {
        "colab": {
          "base_uri": "https://localhost:8080/"
        },
        "id": "4fOTVB-LDsMP",
        "outputId": "45f806bc-c71d-4e28-86a2-fa0b574c3acb"
      },
      "source": [
        "# То же самое, но с помощью библиотеки\n",
        "distance.cityblock(x, x_prime)"
      ],
      "execution_count": null,
      "outputs": [
        {
          "output_type": "execute_result",
          "data": {
            "text/plain": [
              "14"
            ]
          },
          "metadata": {},
          "execution_count": 22
        }
      ]
    },
    {
      "cell_type": "markdown",
      "metadata": {
        "id": "bVeR8bPMECEQ"
      },
      "source": [
        "Расстояние Чебышева вычисляется так:\n",
        "$$\n",
        "d_{\\infty}\\left(x, x'\\right)=\\max \\left (\\left|1-2\\right|, \\left|3-(-4)\\right|,\\left|-5-0\\right|, \\left|7-8\\right| \\right)\n",
        "$$"
      ]
    },
    {
      "cell_type": "code",
      "metadata": {
        "colab": {
          "base_uri": "https://localhost:8080/"
        },
        "id": "eXLYGc2REHfA",
        "outputId": "9c526a12-f680-41b9-c3ff-98a9da567d2d"
      },
      "source": [
        "# Теперь берем максимум из модулей разностей\n",
        "\n",
        "def cheb_dist(x,x_prime):\n",
        "  dist = []\n",
        "  for coord_1, coord_2 in zip(x,x_prime):\n",
        "    dist.append(abs(coord_1 - coord_2))\n",
        "  return max(dist)\n",
        "\n",
        "cheb_dist(x,x_prime)"
      ],
      "execution_count": null,
      "outputs": [
        {
          "output_type": "execute_result",
          "data": {
            "text/plain": [
              "7"
            ]
          },
          "metadata": {},
          "execution_count": 23
        }
      ]
    },
    {
      "cell_type": "code",
      "metadata": {
        "colab": {
          "base_uri": "https://localhost:8080/"
        },
        "id": "EIPj0Fb3EYPX",
        "outputId": "21bdd8d5-2fc1-41c0-f4d2-b2e58ad4c42c"
      },
      "source": [
        "# То же самое, но с помощью библиотеки\n",
        "distance.chebyshev(x, x_prime)"
      ],
      "execution_count": null,
      "outputs": [
        {
          "output_type": "execute_result",
          "data": {
            "text/plain": [
              "7"
            ]
          },
          "metadata": {},
          "execution_count": 24
        }
      ]
    },
    {
      "cell_type": "markdown",
      "metadata": {
        "id": "qIO7Rvm_FK-9"
      },
      "source": [
        "#### Опрос 2\n",
        "\n",
        "Приведена таблица некоторых синтетических данных. Вы должны классифицировать новый объект с помощью метода $k$-ближайший соседей.\n",
        "\\begin{array}{|c|c|c|c|} \\hline\n",
        "id & X & Y & Class \\\\ \\hline\n",
        "1&\t28&\t10&\t1 \\\\ \\hline\n",
        "2&\t49&\t49&\t1 \\\\ \\hline\n",
        "3&48&\t35&\t0 \\\\ \\hline\n",
        "4&\t36&\t33&\t1 \\\\ \\hline\n",
        "5&\t45&\t54&\t0 \\\\ \\hline\n",
        "\\end{array}\n",
        "\n",
        "Новый объект имеет координаты\n",
        "$$\n",
        "(33,47).\n",
        "$$\n"
      ]
    },
    {
      "cell_type": "code",
      "metadata": {
        "colab": {
          "base_uri": "https://localhost:8080/",
          "height": 238
        },
        "id": "B8YvRQRvGd6l",
        "outputId": "ee9b4682-9709-480a-84ab-fdb8fab8e675"
      },
      "source": [
        "# Создадим датафрейм на основе текста в формате csv\n",
        "import pandas as pd\n",
        "import io\n",
        "\n",
        "data = \"\"\"id,X,Y,Class\n",
        "1,28,10,1\n",
        "2,49,49,1\n",
        "3,48,35,0\n",
        "4,36,33,1\n",
        "5,45,54,0\"\"\"\n",
        "df = pd.read_csv(io.StringIO(data), sep=\",\", index_col='id')\n",
        "df.iloc[:,:2]"
      ],
      "execution_count": null,
      "outputs": [
        {
          "output_type": "execute_result",
          "data": {
            "text/html": [
              "\n",
              "  <div id=\"df-0fb5a281-07ce-472b-8611-fdda82a98069\">\n",
              "    <div class=\"colab-df-container\">\n",
              "      <div>\n",
              "<style scoped>\n",
              "    .dataframe tbody tr th:only-of-type {\n",
              "        vertical-align: middle;\n",
              "    }\n",
              "\n",
              "    .dataframe tbody tr th {\n",
              "        vertical-align: top;\n",
              "    }\n",
              "\n",
              "    .dataframe thead th {\n",
              "        text-align: right;\n",
              "    }\n",
              "</style>\n",
              "<table border=\"1\" class=\"dataframe\">\n",
              "  <thead>\n",
              "    <tr style=\"text-align: right;\">\n",
              "      <th></th>\n",
              "      <th>X</th>\n",
              "      <th>Y</th>\n",
              "    </tr>\n",
              "    <tr>\n",
              "      <th>id</th>\n",
              "      <th></th>\n",
              "      <th></th>\n",
              "    </tr>\n",
              "  </thead>\n",
              "  <tbody>\n",
              "    <tr>\n",
              "      <th>1</th>\n",
              "      <td>28</td>\n",
              "      <td>10</td>\n",
              "    </tr>\n",
              "    <tr>\n",
              "      <th>2</th>\n",
              "      <td>49</td>\n",
              "      <td>49</td>\n",
              "    </tr>\n",
              "    <tr>\n",
              "      <th>3</th>\n",
              "      <td>48</td>\n",
              "      <td>35</td>\n",
              "    </tr>\n",
              "    <tr>\n",
              "      <th>4</th>\n",
              "      <td>36</td>\n",
              "      <td>33</td>\n",
              "    </tr>\n",
              "    <tr>\n",
              "      <th>5</th>\n",
              "      <td>45</td>\n",
              "      <td>54</td>\n",
              "    </tr>\n",
              "  </tbody>\n",
              "</table>\n",
              "</div>\n",
              "      <button class=\"colab-df-convert\" onclick=\"convertToInteractive('df-0fb5a281-07ce-472b-8611-fdda82a98069')\"\n",
              "              title=\"Convert this dataframe to an interactive table.\"\n",
              "              style=\"display:none;\">\n",
              "        \n",
              "  <svg xmlns=\"http://www.w3.org/2000/svg\" height=\"24px\"viewBox=\"0 0 24 24\"\n",
              "       width=\"24px\">\n",
              "    <path d=\"M0 0h24v24H0V0z\" fill=\"none\"/>\n",
              "    <path d=\"M18.56 5.44l.94 2.06.94-2.06 2.06-.94-2.06-.94-.94-2.06-.94 2.06-2.06.94zm-11 1L8.5 8.5l.94-2.06 2.06-.94-2.06-.94L8.5 2.5l-.94 2.06-2.06.94zm10 10l.94 2.06.94-2.06 2.06-.94-2.06-.94-.94-2.06-.94 2.06-2.06.94z\"/><path d=\"M17.41 7.96l-1.37-1.37c-.4-.4-.92-.59-1.43-.59-.52 0-1.04.2-1.43.59L10.3 9.45l-7.72 7.72c-.78.78-.78 2.05 0 2.83L4 21.41c.39.39.9.59 1.41.59.51 0 1.02-.2 1.41-.59l7.78-7.78 2.81-2.81c.8-.78.8-2.07 0-2.86zM5.41 20L4 18.59l7.72-7.72 1.47 1.35L5.41 20z\"/>\n",
              "  </svg>\n",
              "      </button>\n",
              "      \n",
              "  <style>\n",
              "    .colab-df-container {\n",
              "      display:flex;\n",
              "      flex-wrap:wrap;\n",
              "      gap: 12px;\n",
              "    }\n",
              "\n",
              "    .colab-df-convert {\n",
              "      background-color: #E8F0FE;\n",
              "      border: none;\n",
              "      border-radius: 50%;\n",
              "      cursor: pointer;\n",
              "      display: none;\n",
              "      fill: #1967D2;\n",
              "      height: 32px;\n",
              "      padding: 0 0 0 0;\n",
              "      width: 32px;\n",
              "    }\n",
              "\n",
              "    .colab-df-convert:hover {\n",
              "      background-color: #E2EBFA;\n",
              "      box-shadow: 0px 1px 2px rgba(60, 64, 67, 0.3), 0px 1px 3px 1px rgba(60, 64, 67, 0.15);\n",
              "      fill: #174EA6;\n",
              "    }\n",
              "\n",
              "    [theme=dark] .colab-df-convert {\n",
              "      background-color: #3B4455;\n",
              "      fill: #D2E3FC;\n",
              "    }\n",
              "\n",
              "    [theme=dark] .colab-df-convert:hover {\n",
              "      background-color: #434B5C;\n",
              "      box-shadow: 0px 1px 3px 1px rgba(0, 0, 0, 0.15);\n",
              "      filter: drop-shadow(0px 1px 2px rgba(0, 0, 0, 0.3));\n",
              "      fill: #FFFFFF;\n",
              "    }\n",
              "  </style>\n",
              "\n",
              "      <script>\n",
              "        const buttonEl =\n",
              "          document.querySelector('#df-0fb5a281-07ce-472b-8611-fdda82a98069 button.colab-df-convert');\n",
              "        buttonEl.style.display =\n",
              "          google.colab.kernel.accessAllowed ? 'block' : 'none';\n",
              "\n",
              "        async function convertToInteractive(key) {\n",
              "          const element = document.querySelector('#df-0fb5a281-07ce-472b-8611-fdda82a98069');\n",
              "          const dataTable =\n",
              "            await google.colab.kernel.invokeFunction('convertToInteractive',\n",
              "                                                     [key], {});\n",
              "          if (!dataTable) return;\n",
              "\n",
              "          const docLinkHtml = 'Like what you see? Visit the ' +\n",
              "            '<a target=\"_blank\" href=https://colab.research.google.com/notebooks/data_table.ipynb>data table notebook</a>'\n",
              "            + ' to learn more about interactive tables.';\n",
              "          element.innerHTML = '';\n",
              "          dataTable['output_type'] = 'display_data';\n",
              "          await google.colab.output.renderOutput(dataTable, element);\n",
              "          const docLink = document.createElement('div');\n",
              "          docLink.innerHTML = docLinkHtml;\n",
              "          element.appendChild(docLink);\n",
              "        }\n",
              "      </script>\n",
              "    </div>\n",
              "  </div>\n",
              "  "
            ],
            "text/plain": [
              "     X   Y\n",
              "id        \n",
              "1   28  10\n",
              "2   49  49\n",
              "3   48  35\n",
              "4   36  33\n",
              "5   45  54"
            ]
          },
          "metadata": {},
          "execution_count": 25
        }
      ]
    },
    {
      "cell_type": "code",
      "metadata": {
        "colab": {
          "base_uri": "https://localhost:8080/",
          "height": 238
        },
        "id": "hVHeGeFTHe9K",
        "outputId": "38bbc20c-8628-45b7-a2e3-f3364a94e30b"
      },
      "source": [
        "# Наш тестовый объект\n",
        "x = np.array([33,47])\n",
        "# Определяем евклидово расстояние от тестового объекта до каждого объекта в наборе данных\n",
        "df['Euclidean'] = [distance.euclidean(obj, x) for index, obj in df.iloc[:,:2].iterrows()]\n",
        "df"
      ],
      "execution_count": null,
      "outputs": [
        {
          "output_type": "execute_result",
          "data": {
            "text/html": [
              "\n",
              "  <div id=\"df-31051d5d-5ee7-4903-8908-cd764df61788\">\n",
              "    <div class=\"colab-df-container\">\n",
              "      <div>\n",
              "<style scoped>\n",
              "    .dataframe tbody tr th:only-of-type {\n",
              "        vertical-align: middle;\n",
              "    }\n",
              "\n",
              "    .dataframe tbody tr th {\n",
              "        vertical-align: top;\n",
              "    }\n",
              "\n",
              "    .dataframe thead th {\n",
              "        text-align: right;\n",
              "    }\n",
              "</style>\n",
              "<table border=\"1\" class=\"dataframe\">\n",
              "  <thead>\n",
              "    <tr style=\"text-align: right;\">\n",
              "      <th></th>\n",
              "      <th>X</th>\n",
              "      <th>Y</th>\n",
              "      <th>Class</th>\n",
              "      <th>Euclidean</th>\n",
              "    </tr>\n",
              "    <tr>\n",
              "      <th>id</th>\n",
              "      <th></th>\n",
              "      <th></th>\n",
              "      <th></th>\n",
              "      <th></th>\n",
              "    </tr>\n",
              "  </thead>\n",
              "  <tbody>\n",
              "    <tr>\n",
              "      <th>1</th>\n",
              "      <td>28</td>\n",
              "      <td>10</td>\n",
              "      <td>1</td>\n",
              "      <td>37.336309</td>\n",
              "    </tr>\n",
              "    <tr>\n",
              "      <th>2</th>\n",
              "      <td>49</td>\n",
              "      <td>49</td>\n",
              "      <td>1</td>\n",
              "      <td>16.124515</td>\n",
              "    </tr>\n",
              "    <tr>\n",
              "      <th>3</th>\n",
              "      <td>48</td>\n",
              "      <td>35</td>\n",
              "      <td>0</td>\n",
              "      <td>19.209373</td>\n",
              "    </tr>\n",
              "    <tr>\n",
              "      <th>4</th>\n",
              "      <td>36</td>\n",
              "      <td>33</td>\n",
              "      <td>1</td>\n",
              "      <td>14.317821</td>\n",
              "    </tr>\n",
              "    <tr>\n",
              "      <th>5</th>\n",
              "      <td>45</td>\n",
              "      <td>54</td>\n",
              "      <td>0</td>\n",
              "      <td>13.892444</td>\n",
              "    </tr>\n",
              "  </tbody>\n",
              "</table>\n",
              "</div>\n",
              "      <button class=\"colab-df-convert\" onclick=\"convertToInteractive('df-31051d5d-5ee7-4903-8908-cd764df61788')\"\n",
              "              title=\"Convert this dataframe to an interactive table.\"\n",
              "              style=\"display:none;\">\n",
              "        \n",
              "  <svg xmlns=\"http://www.w3.org/2000/svg\" height=\"24px\"viewBox=\"0 0 24 24\"\n",
              "       width=\"24px\">\n",
              "    <path d=\"M0 0h24v24H0V0z\" fill=\"none\"/>\n",
              "    <path d=\"M18.56 5.44l.94 2.06.94-2.06 2.06-.94-2.06-.94-.94-2.06-.94 2.06-2.06.94zm-11 1L8.5 8.5l.94-2.06 2.06-.94-2.06-.94L8.5 2.5l-.94 2.06-2.06.94zm10 10l.94 2.06.94-2.06 2.06-.94-2.06-.94-.94-2.06-.94 2.06-2.06.94z\"/><path d=\"M17.41 7.96l-1.37-1.37c-.4-.4-.92-.59-1.43-.59-.52 0-1.04.2-1.43.59L10.3 9.45l-7.72 7.72c-.78.78-.78 2.05 0 2.83L4 21.41c.39.39.9.59 1.41.59.51 0 1.02-.2 1.41-.59l7.78-7.78 2.81-2.81c.8-.78.8-2.07 0-2.86zM5.41 20L4 18.59l7.72-7.72 1.47 1.35L5.41 20z\"/>\n",
              "  </svg>\n",
              "      </button>\n",
              "      \n",
              "  <style>\n",
              "    .colab-df-container {\n",
              "      display:flex;\n",
              "      flex-wrap:wrap;\n",
              "      gap: 12px;\n",
              "    }\n",
              "\n",
              "    .colab-df-convert {\n",
              "      background-color: #E8F0FE;\n",
              "      border: none;\n",
              "      border-radius: 50%;\n",
              "      cursor: pointer;\n",
              "      display: none;\n",
              "      fill: #1967D2;\n",
              "      height: 32px;\n",
              "      padding: 0 0 0 0;\n",
              "      width: 32px;\n",
              "    }\n",
              "\n",
              "    .colab-df-convert:hover {\n",
              "      background-color: #E2EBFA;\n",
              "      box-shadow: 0px 1px 2px rgba(60, 64, 67, 0.3), 0px 1px 3px 1px rgba(60, 64, 67, 0.15);\n",
              "      fill: #174EA6;\n",
              "    }\n",
              "\n",
              "    [theme=dark] .colab-df-convert {\n",
              "      background-color: #3B4455;\n",
              "      fill: #D2E3FC;\n",
              "    }\n",
              "\n",
              "    [theme=dark] .colab-df-convert:hover {\n",
              "      background-color: #434B5C;\n",
              "      box-shadow: 0px 1px 3px 1px rgba(0, 0, 0, 0.15);\n",
              "      filter: drop-shadow(0px 1px 2px rgba(0, 0, 0, 0.3));\n",
              "      fill: #FFFFFF;\n",
              "    }\n",
              "  </style>\n",
              "\n",
              "      <script>\n",
              "        const buttonEl =\n",
              "          document.querySelector('#df-31051d5d-5ee7-4903-8908-cd764df61788 button.colab-df-convert');\n",
              "        buttonEl.style.display =\n",
              "          google.colab.kernel.accessAllowed ? 'block' : 'none';\n",
              "\n",
              "        async function convertToInteractive(key) {\n",
              "          const element = document.querySelector('#df-31051d5d-5ee7-4903-8908-cd764df61788');\n",
              "          const dataTable =\n",
              "            await google.colab.kernel.invokeFunction('convertToInteractive',\n",
              "                                                     [key], {});\n",
              "          if (!dataTable) return;\n",
              "\n",
              "          const docLinkHtml = 'Like what you see? Visit the ' +\n",
              "            '<a target=\"_blank\" href=https://colab.research.google.com/notebooks/data_table.ipynb>data table notebook</a>'\n",
              "            + ' to learn more about interactive tables.';\n",
              "          element.innerHTML = '';\n",
              "          dataTable['output_type'] = 'display_data';\n",
              "          await google.colab.output.renderOutput(dataTable, element);\n",
              "          const docLink = document.createElement('div');\n",
              "          docLink.innerHTML = docLinkHtml;\n",
              "          element.appendChild(docLink);\n",
              "        }\n",
              "      </script>\n",
              "    </div>\n",
              "  </div>\n",
              "  "
            ],
            "text/plain": [
              "     X   Y  Class  Euclidean\n",
              "id                          \n",
              "1   28  10      1  37.336309\n",
              "2   49  49      1  16.124515\n",
              "3   48  35      0  19.209373\n",
              "4   36  33      1  14.317821\n",
              "5   45  54      0  13.892444"
            ]
          },
          "metadata": {},
          "execution_count": 26
        }
      ]
    },
    {
      "cell_type": "code",
      "metadata": {
        "colab": {
          "base_uri": "https://localhost:8080/",
          "height": 238
        },
        "id": "o2invJIVJkSs",
        "outputId": "ccaf2f21-83df-4d90-ca6f-e93b1960bb16"
      },
      "source": [
        "# Аналогично вычисляем манхэттенское расстояние и расстояние чебышева\n",
        "df['Manhattan'] = [distance.cityblock(obj, x) for index, obj in df.iloc[:,:2].iterrows()]\n",
        "df['Chebyshev'] = [distance.chebyshev(obj, x) for index, obj in df.iloc[:,:2].iterrows()]\n",
        "df"
      ],
      "execution_count": null,
      "outputs": [
        {
          "output_type": "execute_result",
          "data": {
            "text/html": [
              "\n",
              "  <div id=\"df-39f1885d-ab52-4f1c-9526-959fc709afeb\">\n",
              "    <div class=\"colab-df-container\">\n",
              "      <div>\n",
              "<style scoped>\n",
              "    .dataframe tbody tr th:only-of-type {\n",
              "        vertical-align: middle;\n",
              "    }\n",
              "\n",
              "    .dataframe tbody tr th {\n",
              "        vertical-align: top;\n",
              "    }\n",
              "\n",
              "    .dataframe thead th {\n",
              "        text-align: right;\n",
              "    }\n",
              "</style>\n",
              "<table border=\"1\" class=\"dataframe\">\n",
              "  <thead>\n",
              "    <tr style=\"text-align: right;\">\n",
              "      <th></th>\n",
              "      <th>X</th>\n",
              "      <th>Y</th>\n",
              "      <th>Class</th>\n",
              "      <th>Euclidean</th>\n",
              "      <th>Manhattan</th>\n",
              "      <th>Chebyshev</th>\n",
              "    </tr>\n",
              "    <tr>\n",
              "      <th>id</th>\n",
              "      <th></th>\n",
              "      <th></th>\n",
              "      <th></th>\n",
              "      <th></th>\n",
              "      <th></th>\n",
              "      <th></th>\n",
              "    </tr>\n",
              "  </thead>\n",
              "  <tbody>\n",
              "    <tr>\n",
              "      <th>1</th>\n",
              "      <td>28</td>\n",
              "      <td>10</td>\n",
              "      <td>1</td>\n",
              "      <td>37.336309</td>\n",
              "      <td>42</td>\n",
              "      <td>37</td>\n",
              "    </tr>\n",
              "    <tr>\n",
              "      <th>2</th>\n",
              "      <td>49</td>\n",
              "      <td>49</td>\n",
              "      <td>1</td>\n",
              "      <td>16.124515</td>\n",
              "      <td>18</td>\n",
              "      <td>16</td>\n",
              "    </tr>\n",
              "    <tr>\n",
              "      <th>3</th>\n",
              "      <td>48</td>\n",
              "      <td>35</td>\n",
              "      <td>0</td>\n",
              "      <td>19.209373</td>\n",
              "      <td>27</td>\n",
              "      <td>15</td>\n",
              "    </tr>\n",
              "    <tr>\n",
              "      <th>4</th>\n",
              "      <td>36</td>\n",
              "      <td>33</td>\n",
              "      <td>1</td>\n",
              "      <td>14.317821</td>\n",
              "      <td>17</td>\n",
              "      <td>14</td>\n",
              "    </tr>\n",
              "    <tr>\n",
              "      <th>5</th>\n",
              "      <td>45</td>\n",
              "      <td>54</td>\n",
              "      <td>0</td>\n",
              "      <td>13.892444</td>\n",
              "      <td>19</td>\n",
              "      <td>12</td>\n",
              "    </tr>\n",
              "  </tbody>\n",
              "</table>\n",
              "</div>\n",
              "      <button class=\"colab-df-convert\" onclick=\"convertToInteractive('df-39f1885d-ab52-4f1c-9526-959fc709afeb')\"\n",
              "              title=\"Convert this dataframe to an interactive table.\"\n",
              "              style=\"display:none;\">\n",
              "        \n",
              "  <svg xmlns=\"http://www.w3.org/2000/svg\" height=\"24px\"viewBox=\"0 0 24 24\"\n",
              "       width=\"24px\">\n",
              "    <path d=\"M0 0h24v24H0V0z\" fill=\"none\"/>\n",
              "    <path d=\"M18.56 5.44l.94 2.06.94-2.06 2.06-.94-2.06-.94-.94-2.06-.94 2.06-2.06.94zm-11 1L8.5 8.5l.94-2.06 2.06-.94-2.06-.94L8.5 2.5l-.94 2.06-2.06.94zm10 10l.94 2.06.94-2.06 2.06-.94-2.06-.94-.94-2.06-.94 2.06-2.06.94z\"/><path d=\"M17.41 7.96l-1.37-1.37c-.4-.4-.92-.59-1.43-.59-.52 0-1.04.2-1.43.59L10.3 9.45l-7.72 7.72c-.78.78-.78 2.05 0 2.83L4 21.41c.39.39.9.59 1.41.59.51 0 1.02-.2 1.41-.59l7.78-7.78 2.81-2.81c.8-.78.8-2.07 0-2.86zM5.41 20L4 18.59l7.72-7.72 1.47 1.35L5.41 20z\"/>\n",
              "  </svg>\n",
              "      </button>\n",
              "      \n",
              "  <style>\n",
              "    .colab-df-container {\n",
              "      display:flex;\n",
              "      flex-wrap:wrap;\n",
              "      gap: 12px;\n",
              "    }\n",
              "\n",
              "    .colab-df-convert {\n",
              "      background-color: #E8F0FE;\n",
              "      border: none;\n",
              "      border-radius: 50%;\n",
              "      cursor: pointer;\n",
              "      display: none;\n",
              "      fill: #1967D2;\n",
              "      height: 32px;\n",
              "      padding: 0 0 0 0;\n",
              "      width: 32px;\n",
              "    }\n",
              "\n",
              "    .colab-df-convert:hover {\n",
              "      background-color: #E2EBFA;\n",
              "      box-shadow: 0px 1px 2px rgba(60, 64, 67, 0.3), 0px 1px 3px 1px rgba(60, 64, 67, 0.15);\n",
              "      fill: #174EA6;\n",
              "    }\n",
              "\n",
              "    [theme=dark] .colab-df-convert {\n",
              "      background-color: #3B4455;\n",
              "      fill: #D2E3FC;\n",
              "    }\n",
              "\n",
              "    [theme=dark] .colab-df-convert:hover {\n",
              "      background-color: #434B5C;\n",
              "      box-shadow: 0px 1px 3px 1px rgba(0, 0, 0, 0.15);\n",
              "      filter: drop-shadow(0px 1px 2px rgba(0, 0, 0, 0.3));\n",
              "      fill: #FFFFFF;\n",
              "    }\n",
              "  </style>\n",
              "\n",
              "      <script>\n",
              "        const buttonEl =\n",
              "          document.querySelector('#df-39f1885d-ab52-4f1c-9526-959fc709afeb button.colab-df-convert');\n",
              "        buttonEl.style.display =\n",
              "          google.colab.kernel.accessAllowed ? 'block' : 'none';\n",
              "\n",
              "        async function convertToInteractive(key) {\n",
              "          const element = document.querySelector('#df-39f1885d-ab52-4f1c-9526-959fc709afeb');\n",
              "          const dataTable =\n",
              "            await google.colab.kernel.invokeFunction('convertToInteractive',\n",
              "                                                     [key], {});\n",
              "          if (!dataTable) return;\n",
              "\n",
              "          const docLinkHtml = 'Like what you see? Visit the ' +\n",
              "            '<a target=\"_blank\" href=https://colab.research.google.com/notebooks/data_table.ipynb>data table notebook</a>'\n",
              "            + ' to learn more about interactive tables.';\n",
              "          element.innerHTML = '';\n",
              "          dataTable['output_type'] = 'display_data';\n",
              "          await google.colab.output.renderOutput(dataTable, element);\n",
              "          const docLink = document.createElement('div');\n",
              "          docLink.innerHTML = docLinkHtml;\n",
              "          element.appendChild(docLink);\n",
              "        }\n",
              "      </script>\n",
              "    </div>\n",
              "  </div>\n",
              "  "
            ],
            "text/plain": [
              "     X   Y  Class  Euclidean  Manhattan  Chebyshev\n",
              "id                                                \n",
              "1   28  10      1  37.336309         42         37\n",
              "2   49  49      1  16.124515         18         16\n",
              "3   48  35      0  19.209373         27         15\n",
              "4   36  33      1  14.317821         17         14\n",
              "5   45  54      0  13.892444         19         12"
            ]
          },
          "metadata": {},
          "execution_count": 27
        }
      ]
    },
    {
      "cell_type": "code",
      "metadata": {
        "colab": {
          "base_uri": "https://localhost:8080/",
          "height": 238
        },
        "id": "93_yBt4fKWyw",
        "outputId": "b5072353-d75d-4d59-f568-cb3b41f3cc52"
      },
      "source": [
        "# Выделим наименьшие расстояния относительно каждой метрики\n",
        "\n",
        "df.style.highlight_min(['Euclidean', 'Manhattan', 'Chebyshev'], color = 'darkgreen', axis = 0)"
      ],
      "execution_count": null,
      "outputs": [
        {
          "output_type": "execute_result",
          "data": {
            "text/html": [
              "<style  type=\"text/css\" >\n",
              "#T_bc84b34c_77b8_11ec_b2eb_0242ac1c0002row3_col4,#T_bc84b34c_77b8_11ec_b2eb_0242ac1c0002row4_col3,#T_bc84b34c_77b8_11ec_b2eb_0242ac1c0002row4_col5{\n",
              "            background-color:  darkgreen;\n",
              "        }</style><table id=\"T_bc84b34c_77b8_11ec_b2eb_0242ac1c0002\" class=\"dataframe\"><thead>    <tr>        <th class=\"blank level0\" ></th>        <th class=\"col_heading level0 col0\" >X</th>        <th class=\"col_heading level0 col1\" >Y</th>        <th class=\"col_heading level0 col2\" >Class</th>        <th class=\"col_heading level0 col3\" >Euclidean</th>        <th class=\"col_heading level0 col4\" >Manhattan</th>        <th class=\"col_heading level0 col5\" >Chebyshev</th>    </tr>    <tr>        <th class=\"index_name level0\" >id</th>        <th class=\"blank\" ></th>        <th class=\"blank\" ></th>        <th class=\"blank\" ></th>        <th class=\"blank\" ></th>        <th class=\"blank\" ></th>        <th class=\"blank\" ></th>    </tr></thead><tbody>\n",
              "                <tr>\n",
              "                        <th id=\"T_bc84b34c_77b8_11ec_b2eb_0242ac1c0002level0_row0\" class=\"row_heading level0 row0\" >1</th>\n",
              "                        <td id=\"T_bc84b34c_77b8_11ec_b2eb_0242ac1c0002row0_col0\" class=\"data row0 col0\" >28</td>\n",
              "                        <td id=\"T_bc84b34c_77b8_11ec_b2eb_0242ac1c0002row0_col1\" class=\"data row0 col1\" >10</td>\n",
              "                        <td id=\"T_bc84b34c_77b8_11ec_b2eb_0242ac1c0002row0_col2\" class=\"data row0 col2\" >1</td>\n",
              "                        <td id=\"T_bc84b34c_77b8_11ec_b2eb_0242ac1c0002row0_col3\" class=\"data row0 col3\" >37.336309</td>\n",
              "                        <td id=\"T_bc84b34c_77b8_11ec_b2eb_0242ac1c0002row0_col4\" class=\"data row0 col4\" >42</td>\n",
              "                        <td id=\"T_bc84b34c_77b8_11ec_b2eb_0242ac1c0002row0_col5\" class=\"data row0 col5\" >37</td>\n",
              "            </tr>\n",
              "            <tr>\n",
              "                        <th id=\"T_bc84b34c_77b8_11ec_b2eb_0242ac1c0002level0_row1\" class=\"row_heading level0 row1\" >2</th>\n",
              "                        <td id=\"T_bc84b34c_77b8_11ec_b2eb_0242ac1c0002row1_col0\" class=\"data row1 col0\" >49</td>\n",
              "                        <td id=\"T_bc84b34c_77b8_11ec_b2eb_0242ac1c0002row1_col1\" class=\"data row1 col1\" >49</td>\n",
              "                        <td id=\"T_bc84b34c_77b8_11ec_b2eb_0242ac1c0002row1_col2\" class=\"data row1 col2\" >1</td>\n",
              "                        <td id=\"T_bc84b34c_77b8_11ec_b2eb_0242ac1c0002row1_col3\" class=\"data row1 col3\" >16.124515</td>\n",
              "                        <td id=\"T_bc84b34c_77b8_11ec_b2eb_0242ac1c0002row1_col4\" class=\"data row1 col4\" >18</td>\n",
              "                        <td id=\"T_bc84b34c_77b8_11ec_b2eb_0242ac1c0002row1_col5\" class=\"data row1 col5\" >16</td>\n",
              "            </tr>\n",
              "            <tr>\n",
              "                        <th id=\"T_bc84b34c_77b8_11ec_b2eb_0242ac1c0002level0_row2\" class=\"row_heading level0 row2\" >3</th>\n",
              "                        <td id=\"T_bc84b34c_77b8_11ec_b2eb_0242ac1c0002row2_col0\" class=\"data row2 col0\" >48</td>\n",
              "                        <td id=\"T_bc84b34c_77b8_11ec_b2eb_0242ac1c0002row2_col1\" class=\"data row2 col1\" >35</td>\n",
              "                        <td id=\"T_bc84b34c_77b8_11ec_b2eb_0242ac1c0002row2_col2\" class=\"data row2 col2\" >0</td>\n",
              "                        <td id=\"T_bc84b34c_77b8_11ec_b2eb_0242ac1c0002row2_col3\" class=\"data row2 col3\" >19.209373</td>\n",
              "                        <td id=\"T_bc84b34c_77b8_11ec_b2eb_0242ac1c0002row2_col4\" class=\"data row2 col4\" >27</td>\n",
              "                        <td id=\"T_bc84b34c_77b8_11ec_b2eb_0242ac1c0002row2_col5\" class=\"data row2 col5\" >15</td>\n",
              "            </tr>\n",
              "            <tr>\n",
              "                        <th id=\"T_bc84b34c_77b8_11ec_b2eb_0242ac1c0002level0_row3\" class=\"row_heading level0 row3\" >4</th>\n",
              "                        <td id=\"T_bc84b34c_77b8_11ec_b2eb_0242ac1c0002row3_col0\" class=\"data row3 col0\" >36</td>\n",
              "                        <td id=\"T_bc84b34c_77b8_11ec_b2eb_0242ac1c0002row3_col1\" class=\"data row3 col1\" >33</td>\n",
              "                        <td id=\"T_bc84b34c_77b8_11ec_b2eb_0242ac1c0002row3_col2\" class=\"data row3 col2\" >1</td>\n",
              "                        <td id=\"T_bc84b34c_77b8_11ec_b2eb_0242ac1c0002row3_col3\" class=\"data row3 col3\" >14.317821</td>\n",
              "                        <td id=\"T_bc84b34c_77b8_11ec_b2eb_0242ac1c0002row3_col4\" class=\"data row3 col4\" >17</td>\n",
              "                        <td id=\"T_bc84b34c_77b8_11ec_b2eb_0242ac1c0002row3_col5\" class=\"data row3 col5\" >14</td>\n",
              "            </tr>\n",
              "            <tr>\n",
              "                        <th id=\"T_bc84b34c_77b8_11ec_b2eb_0242ac1c0002level0_row4\" class=\"row_heading level0 row4\" >5</th>\n",
              "                        <td id=\"T_bc84b34c_77b8_11ec_b2eb_0242ac1c0002row4_col0\" class=\"data row4 col0\" >45</td>\n",
              "                        <td id=\"T_bc84b34c_77b8_11ec_b2eb_0242ac1c0002row4_col1\" class=\"data row4 col1\" >54</td>\n",
              "                        <td id=\"T_bc84b34c_77b8_11ec_b2eb_0242ac1c0002row4_col2\" class=\"data row4 col2\" >0</td>\n",
              "                        <td id=\"T_bc84b34c_77b8_11ec_b2eb_0242ac1c0002row4_col3\" class=\"data row4 col3\" >13.892444</td>\n",
              "                        <td id=\"T_bc84b34c_77b8_11ec_b2eb_0242ac1c0002row4_col4\" class=\"data row4 col4\" >19</td>\n",
              "                        <td id=\"T_bc84b34c_77b8_11ec_b2eb_0242ac1c0002row4_col5\" class=\"data row4 col5\" >12</td>\n",
              "            </tr>\n",
              "    </tbody></table>"
            ],
            "text/plain": [
              "<pandas.io.formats.style.Styler at 0x7f7b233bc850>"
            ]
          },
          "metadata": {},
          "execution_count": 28
        }
      ]
    },
    {
      "cell_type": "markdown",
      "metadata": {
        "id": "nF-JiGVpWILx"
      },
      "source": [
        "#### Опрос 3\n",
        "\n",
        "Веса $\\omega_i$ обратно пропорциональны квадрату расстояния между объектами. Используйте евклидову метрику."
      ]
    },
    {
      "cell_type": "code",
      "metadata": {
        "colab": {
          "base_uri": "https://localhost:8080/",
          "height": 235
        },
        "id": "UAWGK9fFWSWF",
        "outputId": "a766ffb2-361d-4cde-892a-587f3359e4e0"
      },
      "source": [
        "df['Weighted'] = 1/df.Euclidean**2\n",
        "df"
      ],
      "execution_count": null,
      "outputs": [
        {
          "output_type": "execute_result",
          "data": {
            "text/html": [
              "<div>\n",
              "<style scoped>\n",
              "    .dataframe tbody tr th:only-of-type {\n",
              "        vertical-align: middle;\n",
              "    }\n",
              "\n",
              "    .dataframe tbody tr th {\n",
              "        vertical-align: top;\n",
              "    }\n",
              "\n",
              "    .dataframe thead th {\n",
              "        text-align: right;\n",
              "    }\n",
              "</style>\n",
              "<table border=\"1\" class=\"dataframe\">\n",
              "  <thead>\n",
              "    <tr style=\"text-align: right;\">\n",
              "      <th></th>\n",
              "      <th>X</th>\n",
              "      <th>Y</th>\n",
              "      <th>Class</th>\n",
              "      <th>Euclidean</th>\n",
              "      <th>Manhattan</th>\n",
              "      <th>Chebyshev</th>\n",
              "      <th>Weighted</th>\n",
              "    </tr>\n",
              "    <tr>\n",
              "      <th>id</th>\n",
              "      <th></th>\n",
              "      <th></th>\n",
              "      <th></th>\n",
              "      <th></th>\n",
              "      <th></th>\n",
              "      <th></th>\n",
              "      <th></th>\n",
              "    </tr>\n",
              "  </thead>\n",
              "  <tbody>\n",
              "    <tr>\n",
              "      <th>1</th>\n",
              "      <td>28</td>\n",
              "      <td>10</td>\n",
              "      <td>1</td>\n",
              "      <td>37.336309</td>\n",
              "      <td>42</td>\n",
              "      <td>37</td>\n",
              "      <td>0.000717</td>\n",
              "    </tr>\n",
              "    <tr>\n",
              "      <th>2</th>\n",
              "      <td>49</td>\n",
              "      <td>49</td>\n",
              "      <td>1</td>\n",
              "      <td>16.124515</td>\n",
              "      <td>18</td>\n",
              "      <td>16</td>\n",
              "      <td>0.003846</td>\n",
              "    </tr>\n",
              "    <tr>\n",
              "      <th>3</th>\n",
              "      <td>48</td>\n",
              "      <td>35</td>\n",
              "      <td>0</td>\n",
              "      <td>19.209373</td>\n",
              "      <td>27</td>\n",
              "      <td>15</td>\n",
              "      <td>0.002710</td>\n",
              "    </tr>\n",
              "    <tr>\n",
              "      <th>4</th>\n",
              "      <td>36</td>\n",
              "      <td>33</td>\n",
              "      <td>1</td>\n",
              "      <td>14.317821</td>\n",
              "      <td>17</td>\n",
              "      <td>14</td>\n",
              "      <td>0.004878</td>\n",
              "    </tr>\n",
              "    <tr>\n",
              "      <th>5</th>\n",
              "      <td>45</td>\n",
              "      <td>54</td>\n",
              "      <td>0</td>\n",
              "      <td>13.892444</td>\n",
              "      <td>19</td>\n",
              "      <td>12</td>\n",
              "      <td>0.005181</td>\n",
              "    </tr>\n",
              "  </tbody>\n",
              "</table>\n",
              "</div>"
            ],
            "text/plain": [
              "     X   Y  Class  Euclidean  Manhattan  Chebyshev  Weighted\n",
              "id                                                          \n",
              "1   28  10      1  37.336309         42         37  0.000717\n",
              "2   49  49      1  16.124515         18         16  0.003846\n",
              "3   48  35      0  19.209373         27         15  0.002710\n",
              "4   36  33      1  14.317821         17         14  0.004878\n",
              "5   45  54      0  13.892444         19         12  0.005181"
            ]
          },
          "metadata": {},
          "execution_count": 11
        }
      ]
    },
    {
      "cell_type": "code",
      "metadata": {
        "colab": {
          "base_uri": "https://localhost:8080/"
        },
        "id": "OLqLNp4GYDWA",
        "outputId": "d3cfcecd-984d-43b6-e515-bb01ad4dcf76"
      },
      "source": [
        "#Сумма взвешенных расстояний до объектов класса 0\n",
        "df[df['Class'] == 0].Weighted.sum()"
      ],
      "execution_count": null,
      "outputs": [
        {
          "output_type": "execute_result",
          "data": {
            "text/plain": [
              "0.007891374250530072"
            ]
          },
          "metadata": {},
          "execution_count": 12
        }
      ]
    },
    {
      "cell_type": "code",
      "metadata": {
        "colab": {
          "base_uri": "https://localhost:8080/"
        },
        "id": "IVE9HziDYYNw",
        "outputId": "ed4e58f8-8f68-4e5a-ff4e-bb4bab249a63"
      },
      "source": [
        "#Сумма взвешенных расстояний до объектов класса 1\n",
        "df[df['Class'] == 1].Weighted.sum()"
      ],
      "execution_count": null,
      "outputs": [
        {
          "output_type": "execute_result",
          "data": {
            "text/plain": [
              "0.00944156274141927"
            ]
          },
          "metadata": {},
          "execution_count": 13
        }
      ]
    },
    {
      "cell_type": "markdown",
      "metadata": {
        "id": "awBKiiPkYobN"
      },
      "source": [
        "### Индивидуальное задание"
      ]
    },
    {
      "cell_type": "code",
      "metadata": {
        "colab": {
          "base_uri": "https://localhost:8080/",
          "height": 390
        },
        "id": "nW4I4QWyZAC0",
        "outputId": "0384f483-acfc-4fde-ad32-274c6dcc550e"
      },
      "source": [
        "import pandas as pd\n",
        "link = 'https://courses.openedu.ru/assets/courseware/v1/c2b01448f868b815131dbbf859402fc6/asset-v1:ITMOUniversity+DATANTECH2035+cifru_2035+type@asset+block/Task_data.csv'\n",
        "train_data = pd.read_csv(link, delimiter=',', index_col='id')\n",
        "train_data"
      ],
      "execution_count": null,
      "outputs": [
        {
          "output_type": "execute_result",
          "data": {
            "text/plain": [
              "     X   Y  Class\n",
              "id               \n",
              "1   28  10      1\n",
              "2   49  49      1\n",
              "3   48  35      0\n",
              "4   36  33      1\n",
              "5   45  53      0\n",
              "6   36  10      0\n",
              "7   62  40      0\n",
              "8   13  47      1\n",
              "9   40  56      0\n",
              "10  16  45      0"
            ],
            "text/html": [
              "\n",
              "  <div id=\"df-ced625ce-a815-4f0f-aa44-4292a0e23356\">\n",
              "    <div class=\"colab-df-container\">\n",
              "      <div>\n",
              "<style scoped>\n",
              "    .dataframe tbody tr th:only-of-type {\n",
              "        vertical-align: middle;\n",
              "    }\n",
              "\n",
              "    .dataframe tbody tr th {\n",
              "        vertical-align: top;\n",
              "    }\n",
              "\n",
              "    .dataframe thead th {\n",
              "        text-align: right;\n",
              "    }\n",
              "</style>\n",
              "<table border=\"1\" class=\"dataframe\">\n",
              "  <thead>\n",
              "    <tr style=\"text-align: right;\">\n",
              "      <th></th>\n",
              "      <th>X</th>\n",
              "      <th>Y</th>\n",
              "      <th>Class</th>\n",
              "    </tr>\n",
              "    <tr>\n",
              "      <th>id</th>\n",
              "      <th></th>\n",
              "      <th></th>\n",
              "      <th></th>\n",
              "    </tr>\n",
              "  </thead>\n",
              "  <tbody>\n",
              "    <tr>\n",
              "      <th>1</th>\n",
              "      <td>28</td>\n",
              "      <td>10</td>\n",
              "      <td>1</td>\n",
              "    </tr>\n",
              "    <tr>\n",
              "      <th>2</th>\n",
              "      <td>49</td>\n",
              "      <td>49</td>\n",
              "      <td>1</td>\n",
              "    </tr>\n",
              "    <tr>\n",
              "      <th>3</th>\n",
              "      <td>48</td>\n",
              "      <td>35</td>\n",
              "      <td>0</td>\n",
              "    </tr>\n",
              "    <tr>\n",
              "      <th>4</th>\n",
              "      <td>36</td>\n",
              "      <td>33</td>\n",
              "      <td>1</td>\n",
              "    </tr>\n",
              "    <tr>\n",
              "      <th>5</th>\n",
              "      <td>45</td>\n",
              "      <td>53</td>\n",
              "      <td>0</td>\n",
              "    </tr>\n",
              "    <tr>\n",
              "      <th>6</th>\n",
              "      <td>36</td>\n",
              "      <td>10</td>\n",
              "      <td>0</td>\n",
              "    </tr>\n",
              "    <tr>\n",
              "      <th>7</th>\n",
              "      <td>62</td>\n",
              "      <td>40</td>\n",
              "      <td>0</td>\n",
              "    </tr>\n",
              "    <tr>\n",
              "      <th>8</th>\n",
              "      <td>13</td>\n",
              "      <td>47</td>\n",
              "      <td>1</td>\n",
              "    </tr>\n",
              "    <tr>\n",
              "      <th>9</th>\n",
              "      <td>40</td>\n",
              "      <td>56</td>\n",
              "      <td>0</td>\n",
              "    </tr>\n",
              "    <tr>\n",
              "      <th>10</th>\n",
              "      <td>16</td>\n",
              "      <td>45</td>\n",
              "      <td>0</td>\n",
              "    </tr>\n",
              "  </tbody>\n",
              "</table>\n",
              "</div>\n",
              "      <button class=\"colab-df-convert\" onclick=\"convertToInteractive('df-ced625ce-a815-4f0f-aa44-4292a0e23356')\"\n",
              "              title=\"Convert this dataframe to an interactive table.\"\n",
              "              style=\"display:none;\">\n",
              "        \n",
              "  <svg xmlns=\"http://www.w3.org/2000/svg\" height=\"24px\"viewBox=\"0 0 24 24\"\n",
              "       width=\"24px\">\n",
              "    <path d=\"M0 0h24v24H0V0z\" fill=\"none\"/>\n",
              "    <path d=\"M18.56 5.44l.94 2.06.94-2.06 2.06-.94-2.06-.94-.94-2.06-.94 2.06-2.06.94zm-11 1L8.5 8.5l.94-2.06 2.06-.94-2.06-.94L8.5 2.5l-.94 2.06-2.06.94zm10 10l.94 2.06.94-2.06 2.06-.94-2.06-.94-.94-2.06-.94 2.06-2.06.94z\"/><path d=\"M17.41 7.96l-1.37-1.37c-.4-.4-.92-.59-1.43-.59-.52 0-1.04.2-1.43.59L10.3 9.45l-7.72 7.72c-.78.78-.78 2.05 0 2.83L4 21.41c.39.39.9.59 1.41.59.51 0 1.02-.2 1.41-.59l7.78-7.78 2.81-2.81c.8-.78.8-2.07 0-2.86zM5.41 20L4 18.59l7.72-7.72 1.47 1.35L5.41 20z\"/>\n",
              "  </svg>\n",
              "      </button>\n",
              "      \n",
              "  <style>\n",
              "    .colab-df-container {\n",
              "      display:flex;\n",
              "      flex-wrap:wrap;\n",
              "      gap: 12px;\n",
              "    }\n",
              "\n",
              "    .colab-df-convert {\n",
              "      background-color: #E8F0FE;\n",
              "      border: none;\n",
              "      border-radius: 50%;\n",
              "      cursor: pointer;\n",
              "      display: none;\n",
              "      fill: #1967D2;\n",
              "      height: 32px;\n",
              "      padding: 0 0 0 0;\n",
              "      width: 32px;\n",
              "    }\n",
              "\n",
              "    .colab-df-convert:hover {\n",
              "      background-color: #E2EBFA;\n",
              "      box-shadow: 0px 1px 2px rgba(60, 64, 67, 0.3), 0px 1px 3px 1px rgba(60, 64, 67, 0.15);\n",
              "      fill: #174EA6;\n",
              "    }\n",
              "\n",
              "    [theme=dark] .colab-df-convert {\n",
              "      background-color: #3B4455;\n",
              "      fill: #D2E3FC;\n",
              "    }\n",
              "\n",
              "    [theme=dark] .colab-df-convert:hover {\n",
              "      background-color: #434B5C;\n",
              "      box-shadow: 0px 1px 3px 1px rgba(0, 0, 0, 0.15);\n",
              "      filter: drop-shadow(0px 1px 2px rgba(0, 0, 0, 0.3));\n",
              "      fill: #FFFFFF;\n",
              "    }\n",
              "  </style>\n",
              "\n",
              "      <script>\n",
              "        const buttonEl =\n",
              "          document.querySelector('#df-ced625ce-a815-4f0f-aa44-4292a0e23356 button.colab-df-convert');\n",
              "        buttonEl.style.display =\n",
              "          google.colab.kernel.accessAllowed ? 'block' : 'none';\n",
              "\n",
              "        async function convertToInteractive(key) {\n",
              "          const element = document.querySelector('#df-ced625ce-a815-4f0f-aa44-4292a0e23356');\n",
              "          const dataTable =\n",
              "            await google.colab.kernel.invokeFunction('convertToInteractive',\n",
              "                                                     [key], {});\n",
              "          if (!dataTable) return;\n",
              "\n",
              "          const docLinkHtml = 'Like what you see? Visit the ' +\n",
              "            '<a target=\"_blank\" href=https://colab.research.google.com/notebooks/data_table.ipynb>data table notebook</a>'\n",
              "            + ' to learn more about interactive tables.';\n",
              "          element.innerHTML = '';\n",
              "          dataTable['output_type'] = 'display_data';\n",
              "          await google.colab.output.renderOutput(dataTable, element);\n",
              "          const docLink = document.createElement('div');\n",
              "          docLink.innerHTML = docLinkHtml;\n",
              "          element.appendChild(docLink);\n",
              "        }\n",
              "      </script>\n",
              "    </div>\n",
              "  </div>\n",
              "  "
            ]
          },
          "metadata": {},
          "execution_count": 2
        }
      ]
    },
    {
      "cell_type": "markdown",
      "metadata": {
        "id": "_vXa6BflZPHl"
      },
      "source": [
        "Отбор данных для предикторов, удаление столбца Class"
      ]
    },
    {
      "cell_type": "code",
      "metadata": {
        "id": "lKq3zzcEZQAh"
      },
      "source": [
        "X = train_data.drop(['Class'], axis=1)"
      ],
      "execution_count": null,
      "outputs": []
    },
    {
      "cell_type": "markdown",
      "metadata": {
        "id": "7VgpvDaFZSSp"
      },
      "source": [
        "Отбор столбца Class для отклика"
      ]
    },
    {
      "cell_type": "code",
      "metadata": {
        "id": "Hy7ZUci3ZVIc"
      },
      "source": [
        "y = train_data[['Class']].values.ravel()"
      ],
      "execution_count": null,
      "outputs": []
    },
    {
      "cell_type": "markdown",
      "metadata": {
        "id": "Xqzsn_WXZh57"
      },
      "source": [
        "Подключение библиотеки и задание параметров модели:\n",
        "\n",
        "*    `n_neighbors` — число соседей;\n",
        "*   `p` — используемое расстояние.\n",
        "\n",
        "Манхэттенское расстояние — `p=1`, евклидово расстояние — `p=2`. [Дополнительные параметры](https://scikit-learn.org/stable/modules/generated/sklearn.neighbors.KNeighborsClassifier.html)"
      ]
    },
    {
      "cell_type": "code",
      "metadata": {
        "colab": {
          "base_uri": "https://localhost:8080/"
        },
        "id": "wXKS3L7YZvq5",
        "outputId": "2e35bb21-cc4a-41df-b08d-c8cbb3806eab"
      },
      "source": [
        "from sklearn.neighbors import KNeighborsClassifier\n",
        "\n",
        "# Создаем объект класса KNeighborsClassifier\n",
        "neigh = KNeighborsClassifier(n_neighbors = 3, p = 2)\n",
        "\n",
        "# Обучаем классификатор на тренировочных данных\n",
        "neigh.fit(X, y)"
      ],
      "execution_count": null,
      "outputs": [
        {
          "output_type": "execute_result",
          "data": {
            "text/plain": [
              "KNeighborsClassifier(n_neighbors=3)"
            ]
          },
          "metadata": {},
          "execution_count": 15
        }
      ]
    },
    {
      "cell_type": "markdown",
      "metadata": {
        "id": "Kwe6PhVDZ6Pq"
      },
      "source": [
        "\n",
        "Новый объект, который необходимо классифицировать"
      ]
    },
    {
      "cell_type": "code",
      "metadata": {
        "id": "VqYISSA6Z3UC"
      },
      "source": [
        "import numpy as np\n",
        "\n",
        "NewObject = np.array([5, -4])"
      ],
      "execution_count": null,
      "outputs": []
    },
    {
      "cell_type": "markdown",
      "metadata": {
        "id": "ZGufkx4SaRX1"
      },
      "source": [
        "Назначенный класс:"
      ]
    },
    {
      "cell_type": "code",
      "metadata": {
        "colab": {
          "base_uri": "https://localhost:8080/"
        },
        "id": "OVuvgInMaSYd",
        "outputId": "dfbb2e38-aa78-4532-b935-b961fb797edc"
      },
      "source": [
        "neigh.predict([NewObject])"
      ],
      "execution_count": null,
      "outputs": [
        {
          "output_type": "execute_result",
          "data": {
            "text/plain": [
              "array([1])"
            ]
          },
          "metadata": {},
          "execution_count": 33
        }
      ]
    },
    {
      "cell_type": "markdown",
      "metadata": {
        "id": "RK3QmqwWaXfL"
      },
      "source": [
        "Вероятности отнесения к классам 0 и 1 соответственно:"
      ]
    },
    {
      "cell_type": "code",
      "metadata": {
        "colab": {
          "base_uri": "https://localhost:8080/"
        },
        "id": "2MqqvWDkaYEi",
        "outputId": "8f1a4e59-bb9d-4099-8cdc-c8c95cf2f104"
      },
      "source": [
        "neigh.predict_proba([NewObject])"
      ],
      "execution_count": null,
      "outputs": [
        {
          "output_type": "execute_result",
          "data": {
            "text/plain": [
              "array([[0.33333333, 0.66666667]])"
            ]
          },
          "metadata": {},
          "execution_count": 34
        }
      ]
    },
    {
      "cell_type": "markdown",
      "metadata": {
        "id": "WPUKG7ibaeig"
      },
      "source": [
        "Вывод расстояний до 𝑘 соседей в порядке удаления (первый массив — расстояния, второй — идентификаторы объектов). Обращаем внимание, что метод возвращает индексы ближайших соседей с нуля, что не соответствует индексации в таблице."
      ]
    },
    {
      "cell_type": "code",
      "metadata": {
        "colab": {
          "base_uri": "https://localhost:8080/"
        },
        "id": "xyluz8Ykaaul",
        "outputId": "acee3863-53f1-4407-ee58-33bc588567bf"
      },
      "source": [
        "neigh.kneighbors([NewObject])"
      ],
      "execution_count": null,
      "outputs": [
        {
          "output_type": "execute_result",
          "data": {
            "text/plain": [
              "(array([[26.92582404, 34.0147027 , 48.27007354]]), array([[0, 5, 3]]))"
            ]
          },
          "metadata": {},
          "execution_count": 35
        }
      ]
    },
    {
      "cell_type": "markdown",
      "metadata": {
        "id": "7mmJV-WwaoJ_"
      },
      "source": [
        "Получены индексы `[0, 5, 3]`, значит `id = [1, 6, 4]`"
      ]
    },
    {
      "cell_type": "markdown",
      "metadata": {
        "id": "GMFBimyDhBUO"
      },
      "source": [
        "Визуализируем полученные результаты"
      ]
    },
    {
      "cell_type": "code",
      "metadata": {
        "colab": {
          "base_uri": "https://localhost:8080/",
          "height": 623
        },
        "id": "gTxs_LqnbjD9",
        "outputId": "94f5068f-ad88-4f4c-df45-bed28ae0f837"
      },
      "source": [
        "import warnings\n",
        "warnings.filterwarnings('ignore')\n",
        "import matplotlib.pyplot as plt\n",
        "import seaborn as sns\n",
        "# Установим размер изображения\n",
        "plt.rcParams[\"figure.figsize\"] = (15,10)\n",
        "\n",
        "\n",
        "# Строим тренировочные данные\n",
        "sns.scatterplot(train_data.X, train_data.Y, style = train_data.Class, hue=train_data.Class, s=300)\n",
        "# Строим тестовый объект\n",
        "sns.scatterplot([NewObject[0]], [NewObject[1]], marker='o', s=600, color='black')\n",
        "\n",
        "# Добавляем аннотации (id объекта) для ближайших соседей\n",
        "for i in neigh.kneighbors([NewObject])[1].ravel():\n",
        "    plt.annotate(str(i+1), (train_data.X.iloc[i], train_data.Y.iloc[i]), xytext = (train_data.X.iloc[i]-1, train_data.Y.iloc[i]+1), fontsize=15, weight='bold')\n",
        "# Добавляем аннотацию для тестового объекта\n",
        "plt.annotate('NewObject', (NewObject[0], NewObject[1]), xytext = (NewObject[0]-1, NewObject[1]+2), fontsize=15)"
      ],
      "execution_count": null,
      "outputs": [
        {
          "output_type": "execute_result",
          "data": {
            "text/plain": [
              "Text(4, -2, 'NewObject')"
            ]
          },
          "metadata": {},
          "execution_count": 37
        },
        {
          "output_type": "display_data",
          "data": {
            "text/plain": [
              "<Figure size 1080x720 with 1 Axes>"
            ],
            "image/png": "[encoded data removed]"
          },
          "metadata": {
            "needs_background": "light"
          }
        }
      ]
    }
  ]
}