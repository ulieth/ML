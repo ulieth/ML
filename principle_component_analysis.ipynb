{
  "nbformat": 4,
  "nbformat_minor": 0,
  "metadata": {
    "colab": {
      "provenance": []
    },
    "kernelspec": {
      "name": "python3",
      "display_name": "Python 3"
    },
    "language_info": {
      "name": "python"
    }
  },
  "cells": [
    {
      "cell_type": "code",
      "execution_count": null,
      "metadata": {
        "id": "SqQiEeC-gCFc"
      },
      "outputs": [],
      "source": [
        "import numpy as np\n",
        "import pandas as pd\n",
        "from sklearn.decomposition import PCA\n",
        "from sklearn import datasets\n",
        "import matplotlib\n",
        "import matplotlib.pyplot as plt\n",
        "%matplotlib inline"
      ]
    },
    {
      "cell_type": "code",
      "source": [
        "X = datasets.load_digits().data\n",
        "y = datasets.load_digits().target"
      ],
      "metadata": {
        "id": "2EPvT3jSgc6H"
      },
      "execution_count": null,
      "outputs": []
    },
    {
      "cell_type": "code",
      "source": [
        "print(X[0])\n",
        "plt.imshow(X[0].reshape(8,8), cmap = 'ocean')"
      ],
      "metadata": {
        "colab": {
          "base_uri": "https://localhost:8080/",
          "height": 354
        },
        "id": "n25reHQCgz-C",
        "outputId": "811344b5-fb46-4fe9-c34d-7e42172fd2ca"
      },
      "execution_count": null,
      "outputs": [
        {
          "output_type": "stream",
          "name": "stdout",
          "text": [
            "[ 0.  0.  5. 13.  9.  1.  0.  0.  0.  0. 13. 15. 10. 15.  5.  0.  0.  3.\n",
            " 15.  2.  0. 11.  8.  0.  0.  4. 12.  0.  0.  8.  8.  0.  0.  5.  8.  0.\n",
            "  0.  9.  8.  0.  0.  4. 11.  0.  1. 12.  7.  0.  0.  2. 14.  5. 10. 12.\n",
            "  0.  0.  0.  0.  6. 13. 10.  0.  0.  0.]\n"
          ]
        },
        {
          "output_type": "execute_result",
          "data": {
            "text/plain": [
              "<matplotlib.image.AxesImage at 0x7f8e2e63a6d0>"
            ]
          },
          "metadata": {},
          "execution_count": 12
        },
        {
          "output_type": "display_data",
          "data": {
            "text/plain": [
              "<Figure size 432x288 with 1 Axes>"
            ],
            "image/png": "[encoded data removed]"
          },
          "metadata": {
            "needs_background": "light"
          }
        }
      ]
    },
    {
      "cell_type": "code",
      "source": [
        "pca = PCA(n_components = 2, svd_solver = 'full')\n",
        "X_transformed = pca.fit_transform(X)\n",
        "print(X_transformed[0])"
      ],
      "metadata": {
        "colab": {
          "base_uri": "https://localhost:8080/"
        },
        "id": "yzAMkZzahLR2",
        "outputId": "513c0cf4-866f-4056-d648-737fe1d96abd"
      },
      "execution_count": null,
      "outputs": [
        {
          "output_type": "stream",
          "name": "stdout",
          "text": [
            "[-1.25946645 21.27488348]\n"
          ]
        }
      ]
    },
    {
      "cell_type": "code",
      "source": [
        "print(pca.components_.shape)\n",
        "pca.components_"
      ],
      "metadata": {
        "id": "8nLrJn0Fi1wn"
      },
      "execution_count": null,
      "outputs": []
    },
    {
      "cell_type": "code",
      "source": [
        "np.dot(X-X.mean(axis=0), pca.components_.T)[0]"
      ],
      "metadata": {
        "colab": {
          "base_uri": "https://localhost:8080/"
        },
        "id": "u8BOnOSPJAMX",
        "outputId": "f2a0895f-feab-4192-ceb7-70f9c498e87d"
      },
      "execution_count": null,
      "outputs": [
        {
          "output_type": "execute_result",
          "data": {
            "text/plain": [
              "array([-1.25946645, 21.27488348])"
            ]
          },
          "metadata": {},
          "execution_count": 21
        }
      ]
    },
    {
      "cell_type": "code",
      "source": [
        "pca.transform([X[0]])"
      ],
      "metadata": {
        "colab": {
          "base_uri": "https://localhost:8080/"
        },
        "id": "Wyf6hYhlKxfT",
        "outputId": "598f1e83-2164-436c-91c2-c210bcfd0e01"
      },
      "execution_count": null,
      "outputs": [
        {
          "output_type": "execute_result",
          "data": {
            "text/plain": [
              "array([[-1.25946645, 21.27488348]])"
            ]
          },
          "metadata": {},
          "execution_count": 23
        }
      ]
    },
    {
      "cell_type": "code",
      "source": [
        "X_transformed.shape"
      ],
      "metadata": {
        "colab": {
          "base_uri": "https://localhost:8080/"
        },
        "id": "vE3hnWsSK5-f",
        "outputId": "3c02c9d8-84f3-4b4a-d189-cf65a170417e"
      },
      "execution_count": null,
      "outputs": [
        {
          "output_type": "execute_result",
          "data": {
            "text/plain": [
              "(1797, 2)"
            ]
          },
          "metadata": {},
          "execution_count": 41
        }
      ]
    },
    {
      "cell_type": "code",
      "source": [
        "plt.scatter(X_transformed[:101,0], X_transformed[:101, 1],c=y[:101], edgecolor = 'none', s = 40, cmap = 'winter')"
      ],
      "metadata": {
        "colab": {
          "base_uri": "https://localhost:8080/",
          "height": 283
        },
        "id": "ot-vkVvBLNq7",
        "outputId": "9b6e6dc1-405b-45f2-9365-4c1fc6138e1d"
      },
      "execution_count": null,
      "outputs": [
        {
          "output_type": "execute_result",
          "data": {
            "text/plain": [
              "<matplotlib.collections.PathCollection at 0x7f8e2e497bb0>"
            ]
          },
          "metadata": {},
          "execution_count": 23
        },
        {
          "output_type": "display_data",
          "data": {
            "text/plain": [
              "<Figure size 432x288 with 1 Axes>"
            ],
            "image/png": "[encoded data removed]"
          },
          "metadata": {
            "needs_background": "light"
          }
        }
      ]
    },
    {
      "cell_type": "code",
      "source": [
        "plt.plot(X_transformed[:101,0], X_transformed[:101, 1], 'o', markerfacecolor = 'red',  markeredgecolor = 'k', markersize = 8)"
      ],
      "metadata": {
        "colab": {
          "base_uri": "https://localhost:8080/",
          "height": 283
        },
        "id": "YDz2aRm8Lug_",
        "outputId": "2570ae9a-3695-4bd9-f038-a6487d436e16"
      },
      "execution_count": null,
      "outputs": [
        {
          "output_type": "execute_result",
          "data": {
            "text/plain": [
              "[<matplotlib.lines.Line2D at 0x7f8e2c05b760>]"
            ]
          },
          "metadata": {},
          "execution_count": 27
        },
        {
          "output_type": "display_data",
          "data": {
            "text/plain": [
              "<Figure size 432x288 with 1 Axes>"
            ],
            "image/png": "[encoded data removed]"
          },
          "metadata": {
            "needs_background": "light"
          }
        }
      ]
    },
    {
      "cell_type": "code",
      "source": [
        "pca = PCA(n_components = 64, svd_solver = 'full')\n",
        "X_full = pca.fit(X).transform(X)"
      ],
      "metadata": {
        "id": "lpiVyJhlM1aY"
      },
      "execution_count": null,
      "outputs": []
    },
    {
      "cell_type": "code",
      "source": [
        "print(pca.explained_variance_ratio_)\n",
        "explained_variance = np.cumsum(pca.explained_variance_ratio_)\n",
        "explained_variance"
      ],
      "metadata": {
        "colab": {
          "base_uri": "https://localhost:8080/"
        },
        "id": "6m6i2FYsNaOK",
        "outputId": "def46822-cb6d-4919-d574-b0d9c304bcdc"
      },
      "execution_count": null,
      "outputs": [
        {
          "output_type": "stream",
          "name": "stdout",
          "text": [
            "[1.48905936e-01 1.36187712e-01 1.17945938e-01 8.40997942e-02\n",
            " 5.78241466e-02 4.91691032e-02 4.31598701e-02 3.66137258e-02\n",
            " 3.35324810e-02 3.07880621e-02 2.37234084e-02 2.27269657e-02\n",
            " 1.82186331e-02 1.77385494e-02 1.46710109e-02 1.40971560e-02\n",
            " 1.31858920e-02 1.24813782e-02 1.01771796e-02 9.05617439e-03\n",
            " 8.89538461e-03 7.97123157e-03 7.67493255e-03 7.22903569e-03\n",
            " 6.95888851e-03 5.96081458e-03 5.75614688e-03 5.15157582e-03\n",
            " 4.89539777e-03 4.28887968e-03 3.73606048e-03 3.53274223e-03\n",
            " 3.36683986e-03 3.28029851e-03 3.08320884e-03 2.93778629e-03\n",
            " 2.56588609e-03 2.27742397e-03 2.22277922e-03 2.11430393e-03\n",
            " 1.89909062e-03 1.58652907e-03 1.51159934e-03 1.40578764e-03\n",
            " 1.16622290e-03 1.07492521e-03 9.64053065e-04 7.74630271e-04\n",
            " 5.57211553e-04 4.04330693e-04 2.09916327e-04 8.24797098e-05\n",
            " 5.25149980e-05 5.05243719e-05 3.29961363e-05 1.24365445e-05\n",
            " 7.04827911e-06 3.01432139e-06 1.06230800e-06 5.50074587e-07\n",
            " 3.42905702e-07 9.50687638e-34 9.50687638e-34 9.36179501e-34]\n"
          ]
        },
        {
          "output_type": "execute_result",
          "data": {
            "text/plain": [
              "array([0.14890594, 0.28509365, 0.40303959, 0.48713938, 0.54496353,\n",
              "       0.59413263, 0.6372925 , 0.67390623, 0.70743871, 0.73822677,\n",
              "       0.76195018, 0.78467714, 0.80289578, 0.82063433, 0.83530534,\n",
              "       0.84940249, 0.86258838, 0.87506976, 0.88524694, 0.89430312,\n",
              "       0.9031985 , 0.91116973, 0.91884467, 0.9260737 , 0.93303259,\n",
              "       0.9389934 , 0.94474955, 0.94990113, 0.95479652, 0.9590854 ,\n",
              "       0.96282146, 0.96635421, 0.96972105, 0.97300135, 0.97608455,\n",
              "       0.97902234, 0.98158823, 0.98386565, 0.98608843, 0.98820273,\n",
              "       0.99010182, 0.99168835, 0.99319995, 0.99460574, 0.99577196,\n",
              "       0.99684689, 0.99781094, 0.99858557, 0.99914278, 0.99954711,\n",
              "       0.99975703, 0.99983951, 0.99989203, 0.99994255, 0.99997555,\n",
              "       0.99998798, 0.99999503, 0.99999804, 0.99999911, 0.99999966,\n",
              "       1.        , 1.        , 1.        , 1.        ])"
            ]
          },
          "metadata": {},
          "execution_count": 45
        }
      ]
    },
    {
      "cell_type": "code",
      "source": [
        "plt.plot(np.arange(64), explained_variance)"
      ],
      "metadata": {
        "colab": {
          "base_uri": "https://localhost:8080/",
          "height": 283
        },
        "id": "podfc4iIOGha",
        "outputId": "f6c6ea18-aaa5-46fb-cfae-5629b6cd41b0"
      },
      "execution_count": null,
      "outputs": [
        {
          "output_type": "execute_result",
          "data": {
            "text/plain": [
              "[<matplotlib.lines.Line2D at 0x7fd3b9114430>]"
            ]
          },
          "metadata": {},
          "execution_count": 59
        },
        {
          "output_type": "display_data",
          "data": {
            "text/plain": [
              "<Figure size 432x288 with 1 Axes>"
            ],
            "image/png": "[encoded data removed]"
          },
          "metadata": {
            "needs_background": "light"
          }
        }
      ]
    },
    {
      "cell_type": "code",
      "source": [
        "df = pd.read_csv('https://courses.openedu.ru/assets/courseware/v1/33883be08e670e737d5544a6dde46384/asset-v1:ITMOUniversity+DATANTECH2035+fall_2022_2+type@asset+block/34_16.csv', header = None)\n",
        "df.head()"
      ],
      "metadata": {
        "colab": {
          "base_uri": "https://localhost:8080/",
          "height": 206
        },
        "id": "mf9NZdQuO79k",
        "outputId": "ccbe21e4-b8b5-4e78-f21d-e5563be999eb"
      },
      "execution_count": null,
      "outputs": [
        {
          "output_type": "execute_result",
          "data": {
            "text/plain": [
              "           0          1          2          3          4          5  \\\n",
              "0   9.957919  -0.313372   1.545316  -7.472619  23.927331 -23.049166   \n",
              "1 -13.605338   0.956634  16.670004  19.817001  17.058416   0.271301   \n",
              "2 -23.968653  14.297766 -17.975040   6.641784 -24.433218  23.896840   \n",
              "3 -22.754657  14.333500 -22.560778   8.336734 -22.195975  21.603492   \n",
              "4 -17.182040  -1.135857  19.560375  20.576616  16.387415   1.982753   \n",
              "\n",
              "           6          7          8          9  \n",
              "0  23.175311 -15.188089  -3.683897 -14.495080  \n",
              "1  16.441257  24.391117  15.577653  -2.347044  \n",
              "2  -3.871661 -11.332997 -15.710205  -3.709963  \n",
              "3  -4.058626 -12.249236 -17.506484  -3.452613  \n",
              "4  15.304957  21.530390  12.824867  -2.549738  "
            ],
            "text/html": [
              "\n",
              "  <div id=\"df-e927d673-90bb-45bc-81fb-3672fb8ff35e\">\n",
              "    <div class=\"colab-df-container\">\n",
              "      <div>\n",
              "<style scoped>\n",
              "    .dataframe tbody tr th:only-of-type {\n",
              "        vertical-align: middle;\n",
              "    }\n",
              "\n",
              "    .dataframe tbody tr th {\n",
              "        vertical-align: top;\n",
              "    }\n",
              "\n",
              "    .dataframe thead th {\n",
              "        text-align: right;\n",
              "    }\n",
              "</style>\n",
              "<table border=\"1\" class=\"dataframe\">\n",
              "  <thead>\n",
              "    <tr style=\"text-align: right;\">\n",
              "      <th></th>\n",
              "      <th>0</th>\n",
              "      <th>1</th>\n",
              "      <th>2</th>\n",
              "      <th>3</th>\n",
              "      <th>4</th>\n",
              "      <th>5</th>\n",
              "      <th>6</th>\n",
              "      <th>7</th>\n",
              "      <th>8</th>\n",
              "      <th>9</th>\n",
              "    </tr>\n",
              "  </thead>\n",
              "  <tbody>\n",
              "    <tr>\n",
              "      <th>0</th>\n",
              "      <td>9.957919</td>\n",
              "      <td>-0.313372</td>\n",
              "      <td>1.545316</td>\n",
              "      <td>-7.472619</td>\n",
              "      <td>23.927331</td>\n",
              "      <td>-23.049166</td>\n",
              "      <td>23.175311</td>\n",
              "      <td>-15.188089</td>\n",
              "      <td>-3.683897</td>\n",
              "      <td>-14.495080</td>\n",
              "    </tr>\n",
              "    <tr>\n",
              "      <th>1</th>\n",
              "      <td>-13.605338</td>\n",
              "      <td>0.956634</td>\n",
              "      <td>16.670004</td>\n",
              "      <td>19.817001</td>\n",
              "      <td>17.058416</td>\n",
              "      <td>0.271301</td>\n",
              "      <td>16.441257</td>\n",
              "      <td>24.391117</td>\n",
              "      <td>15.577653</td>\n",
              "      <td>-2.347044</td>\n",
              "    </tr>\n",
              "    <tr>\n",
              "      <th>2</th>\n",
              "      <td>-23.968653</td>\n",
              "      <td>14.297766</td>\n",
              "      <td>-17.975040</td>\n",
              "      <td>6.641784</td>\n",
              "      <td>-24.433218</td>\n",
              "      <td>23.896840</td>\n",
              "      <td>-3.871661</td>\n",
              "      <td>-11.332997</td>\n",
              "      <td>-15.710205</td>\n",
              "      <td>-3.709963</td>\n",
              "    </tr>\n",
              "    <tr>\n",
              "      <th>3</th>\n",
              "      <td>-22.754657</td>\n",
              "      <td>14.333500</td>\n",
              "      <td>-22.560778</td>\n",
              "      <td>8.336734</td>\n",
              "      <td>-22.195975</td>\n",
              "      <td>21.603492</td>\n",
              "      <td>-4.058626</td>\n",
              "      <td>-12.249236</td>\n",
              "      <td>-17.506484</td>\n",
              "      <td>-3.452613</td>\n",
              "    </tr>\n",
              "    <tr>\n",
              "      <th>4</th>\n",
              "      <td>-17.182040</td>\n",
              "      <td>-1.135857</td>\n",
              "      <td>19.560375</td>\n",
              "      <td>20.576616</td>\n",
              "      <td>16.387415</td>\n",
              "      <td>1.982753</td>\n",
              "      <td>15.304957</td>\n",
              "      <td>21.530390</td>\n",
              "      <td>12.824867</td>\n",
              "      <td>-2.549738</td>\n",
              "    </tr>\n",
              "  </tbody>\n",
              "</table>\n",
              "</div>\n",
              "      <button class=\"colab-df-convert\" onclick=\"convertToInteractive('df-e927d673-90bb-45bc-81fb-3672fb8ff35e')\"\n",
              "              title=\"Convert this dataframe to an interactive table.\"\n",
              "              style=\"display:none;\">\n",
              "        \n",
              "  <svg xmlns=\"http://www.w3.org/2000/svg\" height=\"24px\"viewBox=\"0 0 24 24\"\n",
              "       width=\"24px\">\n",
              "    <path d=\"M0 0h24v24H0V0z\" fill=\"none\"/>\n",
              "    <path d=\"M18.56 5.44l.94 2.06.94-2.06 2.06-.94-2.06-.94-.94-2.06-.94 2.06-2.06.94zm-11 1L8.5 8.5l.94-2.06 2.06-.94-2.06-.94L8.5 2.5l-.94 2.06-2.06.94zm10 10l.94 2.06.94-2.06 2.06-.94-2.06-.94-.94-2.06-.94 2.06-2.06.94z\"/><path d=\"M17.41 7.96l-1.37-1.37c-.4-.4-.92-.59-1.43-.59-.52 0-1.04.2-1.43.59L10.3 9.45l-7.72 7.72c-.78.78-.78 2.05 0 2.83L4 21.41c.39.39.9.59 1.41.59.51 0 1.02-.2 1.41-.59l7.78-7.78 2.81-2.81c.8-.78.8-2.07 0-2.86zM5.41 20L4 18.59l7.72-7.72 1.47 1.35L5.41 20z\"/>\n",
              "  </svg>\n",
              "      </button>\n",
              "      \n",
              "  <style>\n",
              "    .colab-df-container {\n",
              "      display:flex;\n",
              "      flex-wrap:wrap;\n",
              "      gap: 12px;\n",
              "    }\n",
              "\n",
              "    .colab-df-convert {\n",
              "      background-color: #E8F0FE;\n",
              "      border: none;\n",
              "      border-radius: 50%;\n",
              "      cursor: pointer;\n",
              "      display: none;\n",
              "      fill: #1967D2;\n",
              "      height: 32px;\n",
              "      padding: 0 0 0 0;\n",
              "      width: 32px;\n",
              "    }\n",
              "\n",
              "    .colab-df-convert:hover {\n",
              "      background-color: #E2EBFA;\n",
              "      box-shadow: 0px 1px 2px rgba(60, 64, 67, 0.3), 0px 1px 3px 1px rgba(60, 64, 67, 0.15);\n",
              "      fill: #174EA6;\n",
              "    }\n",
              "\n",
              "    [theme=dark] .colab-df-convert {\n",
              "      background-color: #3B4455;\n",
              "      fill: #D2E3FC;\n",
              "    }\n",
              "\n",
              "    [theme=dark] .colab-df-convert:hover {\n",
              "      background-color: #434B5C;\n",
              "      box-shadow: 0px 1px 3px 1px rgba(0, 0, 0, 0.15);\n",
              "      filter: drop-shadow(0px 1px 2px rgba(0, 0, 0, 0.3));\n",
              "      fill: #FFFFFF;\n",
              "    }\n",
              "  </style>\n",
              "\n",
              "      <script>\n",
              "        const buttonEl =\n",
              "          document.querySelector('#df-e927d673-90bb-45bc-81fb-3672fb8ff35e button.colab-df-convert');\n",
              "        buttonEl.style.display =\n",
              "          google.colab.kernel.accessAllowed ? 'block' : 'none';\n",
              "\n",
              "        async function convertToInteractive(key) {\n",
              "          const element = document.querySelector('#df-e927d673-90bb-45bc-81fb-3672fb8ff35e');\n",
              "          const dataTable =\n",
              "            await google.colab.kernel.invokeFunction('convertToInteractive',\n",
              "                                                     [key], {});\n",
              "          if (!dataTable) return;\n",
              "\n",
              "          const docLinkHtml = 'Like what you see? Visit the ' +\n",
              "            '<a target=\"_blank\" href=https://colab.research.google.com/notebooks/data_table.ipynb>data table notebook</a>'\n",
              "            + ' to learn more about interactive tables.';\n",
              "          element.innerHTML = '';\n",
              "          dataTable['output_type'] = 'display_data';\n",
              "          await google.colab.output.renderOutput(dataTable, element);\n",
              "          const docLink = document.createElement('div');\n",
              "          docLink.innerHTML = docLinkHtml;\n",
              "          element.appendChild(docLink);\n",
              "        }\n",
              "      </script>\n",
              "    </div>\n",
              "  </div>\n",
              "  "
            ]
          },
          "metadata": {},
          "execution_count": 63
        }
      ]
    },
    {
      "cell_type": "code",
      "source": [
        "df.shape"
      ],
      "metadata": {
        "colab": {
          "base_uri": "https://localhost:8080/"
        },
        "id": "-hGD-IeUPOAK",
        "outputId": "c154597c-68b1-4e7c-a6c8-90ab4f16eb2c"
      },
      "execution_count": null,
      "outputs": [
        {
          "output_type": "execute_result",
          "data": {
            "text/plain": [
              "(60, 10)"
            ]
          },
          "metadata": {},
          "execution_count": 65
        }
      ]
    },
    {
      "cell_type": "code",
      "source": [
        "pca = PCA(n_components = 2, svd_solver = 'full')\n",
        "pca_data = pca.fit_transform(df)"
      ],
      "metadata": {
        "id": "01SUGh1PPZ5z"
      },
      "execution_count": null,
      "outputs": []
    },
    {
      "cell_type": "code",
      "source": [
        "pca_data[0]"
      ],
      "metadata": {
        "colab": {
          "base_uri": "https://localhost:8080/"
        },
        "id": "V4ugrs4OP6_W",
        "outputId": "6b82b5a8-4a23-4ef6-d60d-b0dae1ca30e9"
      },
      "execution_count": null,
      "outputs": [
        {
          "output_type": "execute_result",
          "data": {
            "text/plain": [
              "array([-35.16936068,  33.80524677])"
            ]
          },
          "metadata": {},
          "execution_count": 82
        }
      ]
    },
    {
      "cell_type": "code",
      "source": [
        "pca = PCA(n_components = 10, svd_solver = 'full')\n",
        "pca_data = pca.fit_transform(df)\n",
        "pd.DataFrame(pca_data).head()"
      ],
      "metadata": {
        "colab": {
          "base_uri": "https://localhost:8080/",
          "height": 206
        },
        "id": "2T7bDw-SRLoh",
        "outputId": "9ea28ca3-aa36-4cf1-8d46-e58f2acddfc3"
      },
      "execution_count": null,
      "outputs": [
        {
          "output_type": "execute_result",
          "data": {
            "text/plain": [
              "           0          1          2         3         4         5         6  \\\n",
              "0 -35.169361  33.805247   5.985301  2.891273  0.164485 -0.286529 -2.980715   \n",
              "1 -21.852422 -24.704849 -18.974365  0.075705  3.747866  2.005035 -1.942660   \n",
              "2  48.025648  14.622953  -7.180563  0.053354 -1.274348  1.038747  0.812571   \n",
              "3  47.540536  17.784833  -7.394172 -0.351609  1.438071 -2.441760 -2.261056   \n",
              "4 -19.484113 -25.846602 -16.903871 -0.684994 -0.812104  0.700517 -1.071644   \n",
              "\n",
              "          7         8         9  \n",
              "0  1.410731  0.812761  0.124630  \n",
              "1  0.777210  1.455183 -0.223066  \n",
              "2 -0.078214 -0.754100 -0.937701  \n",
              "3  0.069175 -1.226841 -0.487233  \n",
              "4 -1.040802 -1.360220  0.335699  "
            ],
            "text/html": [
              "\n",
              "  <div id=\"df-4d08d698-8700-4bb5-aa6a-97f2c20fd4cc\">\n",
              "    <div class=\"colab-df-container\">\n",
              "      <div>\n",
              "<style scoped>\n",
              "    .dataframe tbody tr th:only-of-type {\n",
              "        vertical-align: middle;\n",
              "    }\n",
              "\n",
              "    .dataframe tbody tr th {\n",
              "        vertical-align: top;\n",
              "    }\n",
              "\n",
              "    .dataframe thead th {\n",
              "        text-align: right;\n",
              "    }\n",
              "</style>\n",
              "<table border=\"1\" class=\"dataframe\">\n",
              "  <thead>\n",
              "    <tr style=\"text-align: right;\">\n",
              "      <th></th>\n",
              "      <th>0</th>\n",
              "      <th>1</th>\n",
              "      <th>2</th>\n",
              "      <th>3</th>\n",
              "      <th>4</th>\n",
              "      <th>5</th>\n",
              "      <th>6</th>\n",
              "      <th>7</th>\n",
              "      <th>8</th>\n",
              "      <th>9</th>\n",
              "    </tr>\n",
              "  </thead>\n",
              "  <tbody>\n",
              "    <tr>\n",
              "      <th>0</th>\n",
              "      <td>-35.169361</td>\n",
              "      <td>33.805247</td>\n",
              "      <td>5.985301</td>\n",
              "      <td>2.891273</td>\n",
              "      <td>0.164485</td>\n",
              "      <td>-0.286529</td>\n",
              "      <td>-2.980715</td>\n",
              "      <td>1.410731</td>\n",
              "      <td>0.812761</td>\n",
              "      <td>0.124630</td>\n",
              "    </tr>\n",
              "    <tr>\n",
              "      <th>1</th>\n",
              "      <td>-21.852422</td>\n",
              "      <td>-24.704849</td>\n",
              "      <td>-18.974365</td>\n",
              "      <td>0.075705</td>\n",
              "      <td>3.747866</td>\n",
              "      <td>2.005035</td>\n",
              "      <td>-1.942660</td>\n",
              "      <td>0.777210</td>\n",
              "      <td>1.455183</td>\n",
              "      <td>-0.223066</td>\n",
              "    </tr>\n",
              "    <tr>\n",
              "      <th>2</th>\n",
              "      <td>48.025648</td>\n",
              "      <td>14.622953</td>\n",
              "      <td>-7.180563</td>\n",
              "      <td>0.053354</td>\n",
              "      <td>-1.274348</td>\n",
              "      <td>1.038747</td>\n",
              "      <td>0.812571</td>\n",
              "      <td>-0.078214</td>\n",
              "      <td>-0.754100</td>\n",
              "      <td>-0.937701</td>\n",
              "    </tr>\n",
              "    <tr>\n",
              "      <th>3</th>\n",
              "      <td>47.540536</td>\n",
              "      <td>17.784833</td>\n",
              "      <td>-7.394172</td>\n",
              "      <td>-0.351609</td>\n",
              "      <td>1.438071</td>\n",
              "      <td>-2.441760</td>\n",
              "      <td>-2.261056</td>\n",
              "      <td>0.069175</td>\n",
              "      <td>-1.226841</td>\n",
              "      <td>-0.487233</td>\n",
              "    </tr>\n",
              "    <tr>\n",
              "      <th>4</th>\n",
              "      <td>-19.484113</td>\n",
              "      <td>-25.846602</td>\n",
              "      <td>-16.903871</td>\n",
              "      <td>-0.684994</td>\n",
              "      <td>-0.812104</td>\n",
              "      <td>0.700517</td>\n",
              "      <td>-1.071644</td>\n",
              "      <td>-1.040802</td>\n",
              "      <td>-1.360220</td>\n",
              "      <td>0.335699</td>\n",
              "    </tr>\n",
              "  </tbody>\n",
              "</table>\n",
              "</div>\n",
              "      <button class=\"colab-df-convert\" onclick=\"convertToInteractive('df-4d08d698-8700-4bb5-aa6a-97f2c20fd4cc')\"\n",
              "              title=\"Convert this dataframe to an interactive table.\"\n",
              "              style=\"display:none;\">\n",
              "        \n",
              "  <svg xmlns=\"http://www.w3.org/2000/svg\" height=\"24px\"viewBox=\"0 0 24 24\"\n",
              "       width=\"24px\">\n",
              "    <path d=\"M0 0h24v24H0V0z\" fill=\"none\"/>\n",
              "    <path d=\"M18.56 5.44l.94 2.06.94-2.06 2.06-.94-2.06-.94-.94-2.06-.94 2.06-2.06.94zm-11 1L8.5 8.5l.94-2.06 2.06-.94-2.06-.94L8.5 2.5l-.94 2.06-2.06.94zm10 10l.94 2.06.94-2.06 2.06-.94-2.06-.94-.94-2.06-.94 2.06-2.06.94z\"/><path d=\"M17.41 7.96l-1.37-1.37c-.4-.4-.92-.59-1.43-.59-.52 0-1.04.2-1.43.59L10.3 9.45l-7.72 7.72c-.78.78-.78 2.05 0 2.83L4 21.41c.39.39.9.59 1.41.59.51 0 1.02-.2 1.41-.59l7.78-7.78 2.81-2.81c.8-.78.8-2.07 0-2.86zM5.41 20L4 18.59l7.72-7.72 1.47 1.35L5.41 20z\"/>\n",
              "  </svg>\n",
              "      </button>\n",
              "      \n",
              "  <style>\n",
              "    .colab-df-container {\n",
              "      display:flex;\n",
              "      flex-wrap:wrap;\n",
              "      gap: 12px;\n",
              "    }\n",
              "\n",
              "    .colab-df-convert {\n",
              "      background-color: #E8F0FE;\n",
              "      border: none;\n",
              "      border-radius: 50%;\n",
              "      cursor: pointer;\n",
              "      display: none;\n",
              "      fill: #1967D2;\n",
              "      height: 32px;\n",
              "      padding: 0 0 0 0;\n",
              "      width: 32px;\n",
              "    }\n",
              "\n",
              "    .colab-df-convert:hover {\n",
              "      background-color: #E2EBFA;\n",
              "      box-shadow: 0px 1px 2px rgba(60, 64, 67, 0.3), 0px 1px 3px 1px rgba(60, 64, 67, 0.15);\n",
              "      fill: #174EA6;\n",
              "    }\n",
              "\n",
              "    [theme=dark] .colab-df-convert {\n",
              "      background-color: #3B4455;\n",
              "      fill: #D2E3FC;\n",
              "    }\n",
              "\n",
              "    [theme=dark] .colab-df-convert:hover {\n",
              "      background-color: #434B5C;\n",
              "      box-shadow: 0px 1px 3px 1px rgba(0, 0, 0, 0.15);\n",
              "      filter: drop-shadow(0px 1px 2px rgba(0, 0, 0, 0.3));\n",
              "      fill: #FFFFFF;\n",
              "    }\n",
              "  </style>\n",
              "\n",
              "      <script>\n",
              "        const buttonEl =\n",
              "          document.querySelector('#df-4d08d698-8700-4bb5-aa6a-97f2c20fd4cc button.colab-df-convert');\n",
              "        buttonEl.style.display =\n",
              "          google.colab.kernel.accessAllowed ? 'block' : 'none';\n",
              "\n",
              "        async function convertToInteractive(key) {\n",
              "          const element = document.querySelector('#df-4d08d698-8700-4bb5-aa6a-97f2c20fd4cc');\n",
              "          const dataTable =\n",
              "            await google.colab.kernel.invokeFunction('convertToInteractive',\n",
              "                                                     [key], {});\n",
              "          if (!dataTable) return;\n",
              "\n",
              "          const docLinkHtml = 'Like what you see? Visit the ' +\n",
              "            '<a target=\"_blank\" href=https://colab.research.google.com/notebooks/data_table.ipynb>data table notebook</a>'\n",
              "            + ' to learn more about interactive tables.';\n",
              "          element.innerHTML = '';\n",
              "          dataTable['output_type'] = 'display_data';\n",
              "          await google.colab.output.renderOutput(dataTable, element);\n",
              "          const docLink = document.createElement('div');\n",
              "          docLink.innerHTML = docLinkHtml;\n",
              "          element.appendChild(docLink);\n",
              "        }\n",
              "      </script>\n",
              "    </div>\n",
              "  </div>\n",
              "  "
            ]
          },
          "metadata": {},
          "execution_count": 83
        }
      ]
    },
    {
      "cell_type": "code",
      "source": [
        "pca.explained_variance_"
      ],
      "metadata": {
        "colab": {
          "base_uri": "https://localhost:8080/"
        },
        "id": "EcyNyIbfRpKy",
        "outputId": "30f25031-7f39-4851-9c33-17a6ed4deddd"
      },
      "execution_count": null,
      "outputs": [
        {
          "output_type": "execute_result",
          "data": {
            "text/plain": [
              "array([989.99088315, 699.19122671, 214.95372898,   3.34762162,\n",
              "         2.85622152,   2.67710715,   2.02103076,   1.75175343,\n",
              "         1.40888632,   1.21063397])"
            ]
          },
          "metadata": {},
          "execution_count": 85
        }
      ]
    },
    {
      "cell_type": "code",
      "source": [
        "pca.explained_variance_ratio_"
      ],
      "metadata": {
        "colab": {
          "base_uri": "https://localhost:8080/"
        },
        "id": "b4o0PFbMSKe7",
        "outputId": "10615bdd-e99e-433c-9ab7-ef0baab425c7"
      },
      "execution_count": null,
      "outputs": [
        {
          "output_type": "execute_result",
          "data": {
            "text/plain": [
              "array([0.51577899, 0.36427421, 0.11198953, 0.00174409, 0.00148807,\n",
              "       0.00139476, 0.00105294, 0.00091265, 0.00073402, 0.00063073])"
            ]
          },
          "metadata": {},
          "execution_count": 88
        }
      ]
    },
    {
      "cell_type": "code",
      "source": [
        "explained_variance = np.cumsum(pca.explained_variance_ratio_)\n",
        "explained_variance"
      ],
      "metadata": {
        "colab": {
          "base_uri": "https://localhost:8080/"
        },
        "id": "jJ4b7NoBSQ_8",
        "outputId": "7fe5776f-7022-4c4b-b77b-d391362b9857"
      },
      "execution_count": null,
      "outputs": [
        {
          "output_type": "execute_result",
          "data": {
            "text/plain": [
              "array([0.51577899, 0.8800532 , 0.99204273, 0.99378682, 0.99527489,\n",
              "       0.99666965, 0.99772259, 0.99863525, 0.99936927, 1.        ])"
            ]
          },
          "metadata": {},
          "execution_count": 91
        }
      ]
    },
    {
      "cell_type": "code",
      "source": [
        "plt.plot(np.arange(1,11), explained_variance, ls = '-')"
      ],
      "metadata": {
        "colab": {
          "base_uri": "https://localhost:8080/",
          "height": 283
        },
        "id": "5XbTAOvHSqfA",
        "outputId": "e5b717b4-cba2-491f-bdf3-26af1b4233f1"
      },
      "execution_count": null,
      "outputs": [
        {
          "output_type": "execute_result",
          "data": {
            "text/plain": [
              "[<matplotlib.lines.Line2D at 0x7fd3b6e21880>]"
            ]
          },
          "metadata": {},
          "execution_count": 93
        },
        {
          "output_type": "display_data",
          "data": {
            "text/plain": [
              "<Figure size 432x288 with 1 Axes>"
            ],
            "image/png": "[encoded data removed]"
          },
          "metadata": {
            "needs_background": "light"
          }
        }
      ]
    },
    {
      "cell_type": "code",
      "source": [
        "round(0.8800532, 3)"
      ],
      "metadata": {
        "colab": {
          "base_uri": "https://localhost:8080/"
        },
        "id": "LfgxH3fsTEyp",
        "outputId": "7572b11c-380a-48dc-f5e0-a4d4f76c4c13"
      },
      "execution_count": null,
      "outputs": [
        {
          "output_type": "execute_result",
          "data": {
            "text/plain": [
              "0.88"
            ]
          },
          "metadata": {},
          "execution_count": 94
        }
      ]
    },
    {
      "cell_type": "code",
      "source": [
        "treshold = 0.85\n",
        "dim = 0\n",
        "for value in explained_variance:\n",
        "  if value > treshold:\n",
        "     print('Минимальное количество ГК для заданного порога: ', dim + 1 )\n",
        "     break\n",
        "dim += 1\n"
      ],
      "metadata": {
        "colab": {
          "base_uri": "https://localhost:8080/"
        },
        "id": "uA_VaEUiXm2r",
        "outputId": "0c9d692c-aff7-47d5-b207-d6f2f92d7e42"
      },
      "execution_count": null,
      "outputs": [
        {
          "output_type": "stream",
          "name": "stdout",
          "text": [
            "Минимальное количество ГК для заданного порога:  1\n"
          ]
        }
      ]
    },
    {
      "cell_type": "code",
      "source": [
        "plt.scatter(pca_data[:, 0], pca_data[:, 1])"
      ],
      "metadata": {
        "colab": {
          "base_uri": "https://localhost:8080/",
          "height": 283
        },
        "id": "7tCabD1TYW-R",
        "outputId": "6728d52d-57ba-4168-bb19-f29f517ae6a0"
      },
      "execution_count": null,
      "outputs": [
        {
          "output_type": "execute_result",
          "data": {
            "text/plain": [
              "<matplotlib.collections.PathCollection at 0x7fd3b69a3100>"
            ]
          },
          "metadata": {},
          "execution_count": 100
        },
        {
          "output_type": "display_data",
          "data": {
            "text/plain": [
              "<Figure size 432x288 with 1 Axes>"
            ],
            "image/png": "[encoded data removed]"
          },
          "metadata": {
            "needs_background": "light"
          }
        }
      ]
    },
    {
      "cell_type": "code",
      "source": [
        "df = pd.read_csv('https://courses.openedu.ru/assets/courseware/v1/453d2c47ea4f165db9546c68e00f24de/asset-v1:ITMOUniversity+DATANTECH2035+fall_2022_2+type@asset+block/X_reduced_792.csv', header = None, delimiter = ';')\n",
        "Phi = pd.read_csv('https://courses.openedu.ru/assets/courseware/v1/78f586bc1239cec75ef777a7816d7b83/asset-v1:ITMOUniversity+DATANTECH2035+fall_2022_2+type@asset+block/X_loadings_792.csv', header = None, delimiter = ';')"
      ],
      "metadata": {
        "id": "8txBRJDzbd-s"
      },
      "execution_count": null,
      "outputs": []
    },
    {
      "cell_type": "code",
      "source": [
        "df.head()"
      ],
      "metadata": {
        "colab": {
          "base_uri": "https://localhost:8080/",
          "height": 206
        },
        "id": "8-_ZADIYbuYR",
        "outputId": "10b1f432-bab0-42c9-a406-7ec4c2b44d1a"
      },
      "execution_count": null,
      "outputs": [
        {
          "output_type": "execute_result",
          "data": {
            "text/plain": [
              "            0          1          2           3          4         5  \\\n",
              "0 -401.580553  99.589901 -91.455179 -121.064677  36.706456 -2.753688   \n",
              "1 -401.580553  99.589901 -91.455179 -121.064677  36.706456 -2.753688   \n",
              "2 -401.580553  99.589901 -91.455179 -121.064677  36.706456 -2.753688   \n",
              "3 -401.580553  99.589901 -91.455179 -121.064677  36.706456 -2.753688   \n",
              "4 -401.580553  99.589901 -91.455179 -121.064677  36.706456 -2.753688   \n",
              "\n",
              "          6         7         8         9  \n",
              "0  6.458641 -2.553152 -1.231753 -0.050708  \n",
              "1  6.458641 -2.553152 -1.231753 -0.050708  \n",
              "2  6.458641 -2.553152 -1.231753 -0.050708  \n",
              "3  6.458641 -2.553152 -1.231753 -0.050708  \n",
              "4  6.458641 -2.553152 -1.231753 -0.050708  "
            ],
            "text/html": [
              "\n",
              "  <div id=\"df-db53795b-fea1-47d0-a134-f611f4594784\">\n",
              "    <div class=\"colab-df-container\">\n",
              "      <div>\n",
              "<style scoped>\n",
              "    .dataframe tbody tr th:only-of-type {\n",
              "        vertical-align: middle;\n",
              "    }\n",
              "\n",
              "    .dataframe tbody tr th {\n",
              "        vertical-align: top;\n",
              "    }\n",
              "\n",
              "    .dataframe thead th {\n",
              "        text-align: right;\n",
              "    }\n",
              "</style>\n",
              "<table border=\"1\" class=\"dataframe\">\n",
              "  <thead>\n",
              "    <tr style=\"text-align: right;\">\n",
              "      <th></th>\n",
              "      <th>0</th>\n",
              "      <th>1</th>\n",
              "      <th>2</th>\n",
              "      <th>3</th>\n",
              "      <th>4</th>\n",
              "      <th>5</th>\n",
              "      <th>6</th>\n",
              "      <th>7</th>\n",
              "      <th>8</th>\n",
              "      <th>9</th>\n",
              "    </tr>\n",
              "  </thead>\n",
              "  <tbody>\n",
              "    <tr>\n",
              "      <th>0</th>\n",
              "      <td>-401.580553</td>\n",
              "      <td>99.589901</td>\n",
              "      <td>-91.455179</td>\n",
              "      <td>-121.064677</td>\n",
              "      <td>36.706456</td>\n",
              "      <td>-2.753688</td>\n",
              "      <td>6.458641</td>\n",
              "      <td>-2.553152</td>\n",
              "      <td>-1.231753</td>\n",
              "      <td>-0.050708</td>\n",
              "    </tr>\n",
              "    <tr>\n",
              "      <th>1</th>\n",
              "      <td>-401.580553</td>\n",
              "      <td>99.589901</td>\n",
              "      <td>-91.455179</td>\n",
              "      <td>-121.064677</td>\n",
              "      <td>36.706456</td>\n",
              "      <td>-2.753688</td>\n",
              "      <td>6.458641</td>\n",
              "      <td>-2.553152</td>\n",
              "      <td>-1.231753</td>\n",
              "      <td>-0.050708</td>\n",
              "    </tr>\n",
              "    <tr>\n",
              "      <th>2</th>\n",
              "      <td>-401.580553</td>\n",
              "      <td>99.589901</td>\n",
              "      <td>-91.455179</td>\n",
              "      <td>-121.064677</td>\n",
              "      <td>36.706456</td>\n",
              "      <td>-2.753688</td>\n",
              "      <td>6.458641</td>\n",
              "      <td>-2.553152</td>\n",
              "      <td>-1.231753</td>\n",
              "      <td>-0.050708</td>\n",
              "    </tr>\n",
              "    <tr>\n",
              "      <th>3</th>\n",
              "      <td>-401.580553</td>\n",
              "      <td>99.589901</td>\n",
              "      <td>-91.455179</td>\n",
              "      <td>-121.064677</td>\n",
              "      <td>36.706456</td>\n",
              "      <td>-2.753688</td>\n",
              "      <td>6.458641</td>\n",
              "      <td>-2.553152</td>\n",
              "      <td>-1.231753</td>\n",
              "      <td>-0.050708</td>\n",
              "    </tr>\n",
              "    <tr>\n",
              "      <th>4</th>\n",
              "      <td>-401.580553</td>\n",
              "      <td>99.589901</td>\n",
              "      <td>-91.455179</td>\n",
              "      <td>-121.064677</td>\n",
              "      <td>36.706456</td>\n",
              "      <td>-2.753688</td>\n",
              "      <td>6.458641</td>\n",
              "      <td>-2.553152</td>\n",
              "      <td>-1.231753</td>\n",
              "      <td>-0.050708</td>\n",
              "    </tr>\n",
              "  </tbody>\n",
              "</table>\n",
              "</div>\n",
              "      <button class=\"colab-df-convert\" onclick=\"convertToInteractive('df-db53795b-fea1-47d0-a134-f611f4594784')\"\n",
              "              title=\"Convert this dataframe to an interactive table.\"\n",
              "              style=\"display:none;\">\n",
              "        \n",
              "  <svg xmlns=\"http://www.w3.org/2000/svg\" height=\"24px\"viewBox=\"0 0 24 24\"\n",
              "       width=\"24px\">\n",
              "    <path d=\"M0 0h24v24H0V0z\" fill=\"none\"/>\n",
              "    <path d=\"M18.56 5.44l.94 2.06.94-2.06 2.06-.94-2.06-.94-.94-2.06-.94 2.06-2.06.94zm-11 1L8.5 8.5l.94-2.06 2.06-.94-2.06-.94L8.5 2.5l-.94 2.06-2.06.94zm10 10l.94 2.06.94-2.06 2.06-.94-2.06-.94-.94-2.06-.94 2.06-2.06.94z\"/><path d=\"M17.41 7.96l-1.37-1.37c-.4-.4-.92-.59-1.43-.59-.52 0-1.04.2-1.43.59L10.3 9.45l-7.72 7.72c-.78.78-.78 2.05 0 2.83L4 21.41c.39.39.9.59 1.41.59.51 0 1.02-.2 1.41-.59l7.78-7.78 2.81-2.81c.8-.78.8-2.07 0-2.86zM5.41 20L4 18.59l7.72-7.72 1.47 1.35L5.41 20z\"/>\n",
              "  </svg>\n",
              "      </button>\n",
              "      \n",
              "  <style>\n",
              "    .colab-df-container {\n",
              "      display:flex;\n",
              "      flex-wrap:wrap;\n",
              "      gap: 12px;\n",
              "    }\n",
              "\n",
              "    .colab-df-convert {\n",
              "      background-color: #E8F0FE;\n",
              "      border: none;\n",
              "      border-radius: 50%;\n",
              "      cursor: pointer;\n",
              "      display: none;\n",
              "      fill: #1967D2;\n",
              "      height: 32px;\n",
              "      padding: 0 0 0 0;\n",
              "      width: 32px;\n",
              "    }\n",
              "\n",
              "    .colab-df-convert:hover {\n",
              "      background-color: #E2EBFA;\n",
              "      box-shadow: 0px 1px 2px rgba(60, 64, 67, 0.3), 0px 1px 3px 1px rgba(60, 64, 67, 0.15);\n",
              "      fill: #174EA6;\n",
              "    }\n",
              "\n",
              "    [theme=dark] .colab-df-convert {\n",
              "      background-color: #3B4455;\n",
              "      fill: #D2E3FC;\n",
              "    }\n",
              "\n",
              "    [theme=dark] .colab-df-convert:hover {\n",
              "      background-color: #434B5C;\n",
              "      box-shadow: 0px 1px 3px 1px rgba(0, 0, 0, 0.15);\n",
              "      filter: drop-shadow(0px 1px 2px rgba(0, 0, 0, 0.3));\n",
              "      fill: #FFFFFF;\n",
              "    }\n",
              "  </style>\n",
              "\n",
              "      <script>\n",
              "        const buttonEl =\n",
              "          document.querySelector('#df-db53795b-fea1-47d0-a134-f611f4594784 button.colab-df-convert');\n",
              "        buttonEl.style.display =\n",
              "          google.colab.kernel.accessAllowed ? 'block' : 'none';\n",
              "\n",
              "        async function convertToInteractive(key) {\n",
              "          const element = document.querySelector('#df-db53795b-fea1-47d0-a134-f611f4594784');\n",
              "          const dataTable =\n",
              "            await google.colab.kernel.invokeFunction('convertToInteractive',\n",
              "                                                     [key], {});\n",
              "          if (!dataTable) return;\n",
              "\n",
              "          const docLinkHtml = 'Like what you see? Visit the ' +\n",
              "            '<a target=\"_blank\" href=https://colab.research.google.com/notebooks/data_table.ipynb>data table notebook</a>'\n",
              "            + ' to learn more about interactive tables.';\n",
              "          element.innerHTML = '';\n",
              "          dataTable['output_type'] = 'display_data';\n",
              "          await google.colab.output.renderOutput(dataTable, element);\n",
              "          const docLink = document.createElement('div');\n",
              "          docLink.innerHTML = docLinkHtml;\n",
              "          element.appendChild(docLink);\n",
              "        }\n",
              "      </script>\n",
              "    </div>\n",
              "  </div>\n",
              "  "
            ]
          },
          "metadata": {},
          "execution_count": 106
        }
      ]
    },
    {
      "cell_type": "code",
      "source": [
        "restored = np.dot(df, Phi.T)"
      ],
      "metadata": {
        "id": "0Q8OwPOtcLWM"
      },
      "execution_count": null,
      "outputs": []
    },
    {
      "cell_type": "code",
      "source": [
        "plt.imshow(restored, cmap='Greys_r')"
      ],
      "metadata": {
        "colab": {
          "base_uri": "https://localhost:8080/",
          "height": 286
        },
        "id": "ZGjit3IrcwD5",
        "outputId": "119a7b71-6edf-4d90-c9a6-e913861325d8"
      },
      "execution_count": null,
      "outputs": [
        {
          "output_type": "execute_result",
          "data": {
            "text/plain": [
              "<matplotlib.image.AxesImage at 0x7fd3b69a0130>"
            ]
          },
          "metadata": {},
          "execution_count": 109
        },
        {
          "output_type": "display_data",
          "data": {
            "text/plain": [
              "<Figure size 432x288 with 1 Axes>"
            ],
            "image/png": "[encoded data removed]"
          },
          "metadata": {
            "needs_background": "light"
          }
        }
      ]
    }
  ]
}