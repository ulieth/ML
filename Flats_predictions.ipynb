{
  "nbformat": 4,
  "nbformat_minor": 0,
  "metadata": {
    "colab": {
      "provenance": []
    },
    "kernelspec": {
      "name": "python3",
      "display_name": "Python 3"
    },
    "language_info": {
      "name": "python"
    }
  },
  "cells": [
    {
      "cell_type": "code",
      "execution_count": null,
      "metadata": {
        "id": "ZOeuq_FbbhPo"
      },
      "outputs": [],
      "source": [
        "import numpy as np\n",
        "import pandas as pd\n",
        "import io\n",
        "import string"
      ]
    },
    {
      "cell_type": "code",
      "source": [
        "data = \"\"\"surface (square feet),bedrooms,floors,price (k USD)\n",
        "flat1,620,1,1,244\n",
        "flat2,3280,4,2,671\n",
        "flat3,1900,2,2,504\n",
        "flat4,1320,3,3,510\"\"\""
      ],
      "metadata": {
        "id": "LfTV7sDabirx"
      },
      "execution_count": null,
      "outputs": []
    },
    {
      "cell_type": "code",
      "source": [
        "df = pd.read_csv(io.StringIO(data))\n",
        "df"
      ],
      "metadata": {
        "colab": {
          "base_uri": "https://localhost:8080/",
          "height": 175
        },
        "id": "gx6bgyREe1mp",
        "outputId": "7f206705-aec5-41f8-9e81-3cb2baec41d9"
      },
      "execution_count": null,
      "outputs": [
        {
          "output_type": "execute_result",
          "data": {
            "text/plain": [
              "       surface (square feet)  bedrooms  floors  price (k USD)\n",
              "flat1                    620         1       1            244\n",
              "flat2                   3280         4       2            671\n",
              "flat3                   1900         2       2            504\n",
              "flat4                   1320         3       3            510"
            ],
            "text/html": [
              "\n",
              "  <div id=\"df-54a7f4e2-37a9-428c-8ce6-998b6b91c023\">\n",
              "    <div class=\"colab-df-container\">\n",
              "      <div>\n",
              "<style scoped>\n",
              "    .dataframe tbody tr th:only-of-type {\n",
              "        vertical-align: middle;\n",
              "    }\n",
              "\n",
              "    .dataframe tbody tr th {\n",
              "        vertical-align: top;\n",
              "    }\n",
              "\n",
              "    .dataframe thead th {\n",
              "        text-align: right;\n",
              "    }\n",
              "</style>\n",
              "<table border=\"1\" class=\"dataframe\">\n",
              "  <thead>\n",
              "    <tr style=\"text-align: right;\">\n",
              "      <th></th>\n",
              "      <th>surface (square feet)</th>\n",
              "      <th>bedrooms</th>\n",
              "      <th>floors</th>\n",
              "      <th>price (k USD)</th>\n",
              "    </tr>\n",
              "  </thead>\n",
              "  <tbody>\n",
              "    <tr>\n",
              "      <th>flat1</th>\n",
              "      <td>620</td>\n",
              "      <td>1</td>\n",
              "      <td>1</td>\n",
              "      <td>244</td>\n",
              "    </tr>\n",
              "    <tr>\n",
              "      <th>flat2</th>\n",
              "      <td>3280</td>\n",
              "      <td>4</td>\n",
              "      <td>2</td>\n",
              "      <td>671</td>\n",
              "    </tr>\n",
              "    <tr>\n",
              "      <th>flat3</th>\n",
              "      <td>1900</td>\n",
              "      <td>2</td>\n",
              "      <td>2</td>\n",
              "      <td>504</td>\n",
              "    </tr>\n",
              "    <tr>\n",
              "      <th>flat4</th>\n",
              "      <td>1320</td>\n",
              "      <td>3</td>\n",
              "      <td>3</td>\n",
              "      <td>510</td>\n",
              "    </tr>\n",
              "  </tbody>\n",
              "</table>\n",
              "</div>\n",
              "      <button class=\"colab-df-convert\" onclick=\"convertToInteractive('df-54a7f4e2-37a9-428c-8ce6-998b6b91c023')\"\n",
              "              title=\"Convert this dataframe to an interactive table.\"\n",
              "              style=\"display:none;\">\n",
              "        \n",
              "  <svg xmlns=\"http://www.w3.org/2000/svg\" height=\"24px\"viewBox=\"0 0 24 24\"\n",
              "       width=\"24px\">\n",
              "    <path d=\"M0 0h24v24H0V0z\" fill=\"none\"/>\n",
              "    <path d=\"M18.56 5.44l.94 2.06.94-2.06 2.06-.94-2.06-.94-.94-2.06-.94 2.06-2.06.94zm-11 1L8.5 8.5l.94-2.06 2.06-.94-2.06-.94L8.5 2.5l-.94 2.06-2.06.94zm10 10l.94 2.06.94-2.06 2.06-.94-2.06-.94-.94-2.06-.94 2.06-2.06.94z\"/><path d=\"M17.41 7.96l-1.37-1.37c-.4-.4-.92-.59-1.43-.59-.52 0-1.04.2-1.43.59L10.3 9.45l-7.72 7.72c-.78.78-.78 2.05 0 2.83L4 21.41c.39.39.9.59 1.41.59.51 0 1.02-.2 1.41-.59l7.78-7.78 2.81-2.81c.8-.78.8-2.07 0-2.86zM5.41 20L4 18.59l7.72-7.72 1.47 1.35L5.41 20z\"/>\n",
              "  </svg>\n",
              "      </button>\n",
              "      \n",
              "  <style>\n",
              "    .colab-df-container {\n",
              "      display:flex;\n",
              "      flex-wrap:wrap;\n",
              "      gap: 12px;\n",
              "    }\n",
              "\n",
              "    .colab-df-convert {\n",
              "      background-color: #E8F0FE;\n",
              "      border: none;\n",
              "      border-radius: 50%;\n",
              "      cursor: pointer;\n",
              "      display: none;\n",
              "      fill: #1967D2;\n",
              "      height: 32px;\n",
              "      padding: 0 0 0 0;\n",
              "      width: 32px;\n",
              "    }\n",
              "\n",
              "    .colab-df-convert:hover {\n",
              "      background-color: #E2EBFA;\n",
              "      box-shadow: 0px 1px 2px rgba(60, 64, 67, 0.3), 0px 1px 3px 1px rgba(60, 64, 67, 0.15);\n",
              "      fill: #174EA6;\n",
              "    }\n",
              "\n",
              "    [theme=dark] .colab-df-convert {\n",
              "      background-color: #3B4455;\n",
              "      fill: #D2E3FC;\n",
              "    }\n",
              "\n",
              "    [theme=dark] .colab-df-convert:hover {\n",
              "      background-color: #434B5C;\n",
              "      box-shadow: 0px 1px 3px 1px rgba(0, 0, 0, 0.15);\n",
              "      filter: drop-shadow(0px 1px 2px rgba(0, 0, 0, 0.3));\n",
              "      fill: #FFFFFF;\n",
              "    }\n",
              "  </style>\n",
              "\n",
              "      <script>\n",
              "        const buttonEl =\n",
              "          document.querySelector('#df-54a7f4e2-37a9-428c-8ce6-998b6b91c023 button.colab-df-convert');\n",
              "        buttonEl.style.display =\n",
              "          google.colab.kernel.accessAllowed ? 'block' : 'none';\n",
              "\n",
              "        async function convertToInteractive(key) {\n",
              "          const element = document.querySelector('#df-54a7f4e2-37a9-428c-8ce6-998b6b91c023');\n",
              "          const dataTable =\n",
              "            await google.colab.kernel.invokeFunction('convertToInteractive',\n",
              "                                                     [key], {});\n",
              "          if (!dataTable) return;\n",
              "\n",
              "          const docLinkHtml = 'Like what you see? Visit the ' +\n",
              "            '<a target=\"_blank\" href=https://colab.research.google.com/notebooks/data_table.ipynb>data table notebook</a>'\n",
              "            + ' to learn more about interactive tables.';\n",
              "          element.innerHTML = '';\n",
              "          dataTable['output_type'] = 'display_data';\n",
              "          await google.colab.output.renderOutput(dataTable, element);\n",
              "          const docLink = document.createElement('div');\n",
              "          docLink.innerHTML = docLinkHtml;\n",
              "          element.appendChild(docLink);\n",
              "        }\n",
              "      </script>\n",
              "    </div>\n",
              "  </div>\n",
              "  "
            ]
          },
          "metadata": {},
          "execution_count": 3
        }
      ]
    },
    {
      "cell_type": "code",
      "source": [
        "# features\n",
        "values = np.array([[620,1,1],[3280,4,2],[1900,2,2],[1320,3,3]])\n",
        "values"
      ],
      "metadata": {
        "colab": {
          "base_uri": "https://localhost:8080/"
        },
        "id": "2wHhoT3Oe5Np",
        "outputId": "60b08ae2-c452-4061-c19a-01fb39a6dbf4"
      },
      "execution_count": null,
      "outputs": [
        {
          "output_type": "execute_result",
          "data": {
            "text/plain": [
              "array([[ 620,    1,    1],\n",
              "       [3280,    4,    2],\n",
              "       [1900,    2,    2],\n",
              "       [1320,    3,    3]])"
            ]
          },
          "metadata": {},
          "execution_count": 13
        }
      ]
    },
    {
      "cell_type": "code",
      "source": [
        "# theta 0\n",
        "x0 = np.ones((4,1))\n",
        "x0"
      ],
      "metadata": {
        "colab": {
          "base_uri": "https://localhost:8080/"
        },
        "id": "ZnSJ-w2ii48L",
        "outputId": "0d49164d-beab-497e-ec5c-588c26e1ac59"
      },
      "execution_count": null,
      "outputs": [
        {
          "output_type": "execute_result",
          "data": {
            "text/plain": [
              "array([[1.],\n",
              "       [1.],\n",
              "       [1.],\n",
              "       [1.]])"
            ]
          },
          "metadata": {},
          "execution_count": 61
        }
      ]
    },
    {
      "cell_type": "code",
      "source": [
        "# features\n",
        "X = np.hstack((x0,values))\n",
        "X"
      ],
      "metadata": {
        "colab": {
          "base_uri": "https://localhost:8080/"
        },
        "id": "Pw9tBJ1OjFCS",
        "outputId": "6a466b32-e5ac-4bfd-f81c-c5132977aded"
      },
      "execution_count": null,
      "outputs": [
        {
          "output_type": "execute_result",
          "data": {
            "text/plain": [
              "array([[1.00e+00, 6.20e+02, 1.00e+00, 1.00e+00],\n",
              "       [1.00e+00, 3.28e+03, 4.00e+00, 2.00e+00],\n",
              "       [1.00e+00, 1.90e+03, 2.00e+00, 2.00e+00],\n",
              "       [1.00e+00, 1.32e+03, 3.00e+00, 3.00e+00]])"
            ]
          },
          "metadata": {},
          "execution_count": 87
        }
      ]
    },
    {
      "cell_type": "code",
      "source": [
        "# target\n",
        "Y = np.array([[244,671,504,510]]).T\n",
        "Y"
      ],
      "metadata": {
        "colab": {
          "base_uri": "https://localhost:8080/"
        },
        "id": "M9MZJS-lmx7q",
        "outputId": "94a417ca-46da-43db-9799-fbfba7231c5c"
      },
      "execution_count": null,
      "outputs": [
        {
          "output_type": "execute_result",
          "data": {
            "text/plain": [
              "array([[244],\n",
              "       [671],\n",
              "       [504],\n",
              "       [510]])"
            ]
          },
          "metadata": {},
          "execution_count": 74
        }
      ]
    },
    {
      "cell_type": "code",
      "source": [
        "X_inv = np.linalg.inv(X)\n",
        "X_inv"
      ],
      "metadata": {
        "colab": {
          "base_uri": "https://localhost:8080/"
        },
        "id": "Y41ocB3vqyEv",
        "outputId": "c724daaf-addd-4bc1-80e3-2e43effed7ca"
      },
      "execution_count": null,
      "outputs": [
        {
          "output_type": "execute_result",
          "data": {
            "text/plain": [
              "array([[ 1.64516129e+00,  4.42419702e-17, -2.90322581e-01,\n",
              "        -3.54838710e-01],\n",
              "       [-5.37634409e-04, -2.50426246e-19,  1.07526882e-03,\n",
              "        -5.37634409e-04],\n",
              "       [ 3.70967742e-01,  5.00000000e-01, -1.24193548e+00,\n",
              "         3.70967742e-01],\n",
              "       [-6.82795699e-01, -5.00000000e-01,  8.65591398e-01,\n",
              "         3.17204301e-01]])"
            ]
          },
          "metadata": {},
          "execution_count": 94
        }
      ]
    },
    {
      "cell_type": "code",
      "source": [
        "I4 = np.matmul(X_inv, X)\n",
        "I4"
      ],
      "metadata": {
        "colab": {
          "base_uri": "https://localhost:8080/"
        },
        "id": "he31fsHdq-QO",
        "outputId": "f6846730-00b2-4fea-a5b6-c294892f4a7e"
      },
      "execution_count": null,
      "outputs": [
        {
          "output_type": "execute_result",
          "data": {
            "text/plain": [
              "array([[ 1.00000000e+00, -5.10702591e-14, -5.55111512e-17,\n",
              "        -2.77555756e-16],\n",
              "       [-3.25260652e-19,  1.00000000e+00, -8.67361738e-19,\n",
              "        -4.33680869e-19],\n",
              "       [ 3.33066907e-16,  5.07149878e-13,  1.00000000e+00,\n",
              "         3.33066907e-16],\n",
              "       [-2.77555756e-16, -6.10622664e-13, -7.21644966e-16,\n",
              "         1.00000000e+00]])"
            ]
          },
          "metadata": {},
          "execution_count": 99
        }
      ]
    },
    {
      "cell_type": "code",
      "source": [
        "np.allclose(X_inv, X)"
      ],
      "metadata": {
        "colab": {
          "base_uri": "https://localhost:8080/"
        },
        "id": "PB_J9t3AyIZk",
        "outputId": "c6ca5011-876d-47d4-e41e-6266dc375b06"
      },
      "execution_count": null,
      "outputs": [
        {
          "output_type": "execute_result",
          "data": {
            "text/plain": [
              "False"
            ]
          },
          "metadata": {},
          "execution_count": 98
        }
      ]
    },
    {
      "cell_type": "code",
      "source": [
        "theta = np.matmul(X_inv, Y)\n",
        "theta"
      ],
      "metadata": {
        "colab": {
          "base_uri": "https://localhost:8080/"
        },
        "id": "XcGgDVtDrMvK",
        "outputId": "c1c81bfb-d02b-4036-8dc5-b2ef8c70083a"
      },
      "execution_count": null,
      "outputs": [
        {
          "output_type": "execute_result",
          "data": {
            "text/plain": [
              "array([[ 74.12903226],\n",
              "       [  0.13655914],\n",
              "       [-10.72580645],\n",
              "       [ 95.93010753]])"
            ]
          },
          "metadata": {},
          "execution_count": 100
        }
      ]
    },
    {
      "cell_type": "code",
      "source": [
        "# Define X5\n",
        "X5 = np.array([[1, 3000, 5, 1]])\n",
        "# Compute Y5\n",
        "Y5 = np.matmul(X5,theta)\n",
        "# You should find a Price of 526,000 $\n",
        "Y5"
      ],
      "metadata": {
        "colab": {
          "base_uri": "https://localhost:8080/"
        },
        "id": "mIXJNlN2rqP0",
        "outputId": "6bf65a2b-4655-4a48-f2cf-2fb6976cfaaf"
      },
      "execution_count": null,
      "outputs": [
        {
          "output_type": "execute_result",
          "data": {
            "text/plain": [
              "array([[1.19489134e+10]])"
            ]
          },
          "metadata": {},
          "execution_count": 92
        }
      ]
    },
    {
      "cell_type": "code",
      "source": [
        "# Create the new matrix of features X of shape (5,4)\n",
        "new_values = np.array([[620,1,1],[3280,4,2],[1900,2,2],[1320,3,3],[3000, 5, 1]])\n",
        "ones = np.ones((5,1))\n",
        "X = np.hstack((ones, new_values))\n",
        "print(X)\n",
        "# Print the shape to double-check the shape is indeed (5,4)\n",
        "X_t = X.T\n",
        "X_t.shape"
      ],
      "metadata": {
        "colab": {
          "base_uri": "https://localhost:8080/"
        },
        "id": "ZTrcXrHZ-PsE",
        "outputId": "7c397057-4f3d-437d-86b8-6801a62a755f"
      },
      "execution_count": null,
      "outputs": [
        {
          "output_type": "stream",
          "name": "stdout",
          "text": [
            "[[1.00e+00 6.20e+02 1.00e+00 1.00e+00]\n",
            " [1.00e+00 3.28e+03 4.00e+00 2.00e+00]\n",
            " [1.00e+00 1.90e+03 2.00e+00 2.00e+00]\n",
            " [1.00e+00 1.32e+03 3.00e+00 3.00e+00]\n",
            " [1.00e+00 3.00e+03 5.00e+00 1.00e+00]]\n"
          ]
        },
        {
          "output_type": "execute_result",
          "data": {
            "text/plain": [
              "(4, 5)"
            ]
          },
          "metadata": {},
          "execution_count": 103
        }
      ]
    }
  ]
}